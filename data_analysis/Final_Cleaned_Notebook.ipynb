{
 "cells": [
  {
   "cell_type": "markdown",
   "id": "c7319663",
   "metadata": {},
   "source": [
    "# PitcherBall - Exploring Major League Baseball Pitcher Data: What Can We Discover?\n",
    "\n",
    "\n",
    "### By: The Group 3 Times: Sam, Hadrianna, Katie, John, Jonah"
   ]
  },
  {
   "cell_type": "markdown",
   "id": "f2529b77",
   "metadata": {},
   "source": [
    "<img src=\"https://pbs.twimg.com/media/FFpyFFTVIAIvuGI?format=jpg&name=medium\">"
   ]
  },
  {
   "cell_type": "markdown",
   "id": "b250994d",
   "metadata": {},
   "source": [
    "## Introduction\n",
    "\n",
    "### Prologue: \n",
    "\n",
    "One of the most valuable assets in all of sports is a quality starting pitcher. More than a star quarterback or a stud point guard, a true ace pitcher can almost entirely dictate a win or a loss for his team. Finding these excellent  pitchers can be difficult to find though - they don't exact grow on trees. We have set out to discover attributes and factors lead to MLB pitcher success. Are there certain factors that correlate more to success than others? What should a team be looking for when analyzing a pitcher? We are on a mission to identify those factors. \n",
    "\n",
    "\n",
    "Luckily, baseball is a data-rich sport. Via baseballsavant.com, there is ample data that gives us the opportunity to identify trends among various pitchers.\n",
    "\n",
    "### The Set-Up:\n",
    "To begin we made a classification - we are dividing pitchers into three broad types: starters, relievers, and closers. \n",
    "\n",
    "For those less familiar with baseball the Group 3 Times has provided the following definitions:\n",
    "A starter - pitches every 5 days, usually throws 80-100 pitches across 5 innings. \n",
    "Relievers - pitches every 2-3 days, usually throws 20-30 pitches across 1-2 innings. \n",
    "Closers - usually throws 10-20 pitches in 1 inning, the 9th inning. \n",
    "\n",
    "If you're feelin frisky, you can follow along at home, as below we detail how we filtered he category via baseballsavant.com\n",
    "\n",
    "<img src=\"https://pbs.twimg.com/media/FFp6hZLVcAAm7Ci?format=jpg&name=large\">\n"
   ]
  },
  {
   "cell_type": "markdown",
   "id": "67e8852e",
   "metadata": {},
   "source": [
    "## Import & Load the Data"
   ]
  },
  {
   "cell_type": "code",
   "execution_count": 33,
   "id": "8901ee1b",
   "metadata": {},
   "outputs": [],
   "source": [
    "import matplotlib.pyplot as plt\n",
    "import pandas as pd\n",
    "import geopandas as gpd\n",
    "from shapely.geometry import Point\n",
    "from IPython.display import HTML, Markdown, display\n",
    "import seaborn as sns\n",
    "import numpy as np\n",
    "import shapely\n",
    "import json\n",
    "import plotly\n",
    "\n",
    "pd.set_option('display.max_columns', None)\n",
    "SP_df = pd.read_csv('../data/Project_Data_Files/Project_Starters.csv')\n",
    "RP_df = pd.read_csv('../data/Project_Data_Files/Project_Relievers.csv')\n",
    "CP_df = pd.read_csv('../data/Project_Data_Files/Project_Closers.csv')\n",
    "\n",
    "RP_df['absolute_value_horizontal_release_point'] = RP_df['horizontal_release_point'].abs()\n",
    "SP_df['absolute_value_horizontal_release_point'] = SP_df['horizontal_release_point'].abs()\n",
    "CP_df['absolute_value_horizontal_release_point'] = CP_df['horizontal_release_point'].abs()"
   ]
  },
  {
   "cell_type": "markdown",
   "id": "11f2a16d",
   "metadata": {},
   "source": [
    "## Previewing the Data\n",
    "\n",
    "Before we apply the [\"Start Big and Drill Down Approach\"](http://mediashift.org/2015/06/exploring-the-7-different-types-of-data-stories/) let's give you a taste for the data we are working with:"
   ]
  },
  {
   "cell_type": "code",
   "execution_count": 34,
   "id": "c8c83d1a",
   "metadata": {},
   "outputs": [
    {
     "data": {
      "text/html": [
       "<div>\n",
       "<style scoped>\n",
       "    .dataframe tbody tr th:only-of-type {\n",
       "        vertical-align: middle;\n",
       "    }\n",
       "\n",
       "    .dataframe tbody tr th {\n",
       "        vertical-align: top;\n",
       "    }\n",
       "\n",
       "    .dataframe thead th {\n",
       "        text-align: right;\n",
       "    }\n",
       "</style>\n",
       "<table border=\"1\" class=\"dataframe\">\n",
       "  <thead>\n",
       "    <tr style=\"text-align: right;\">\n",
       "      <th></th>\n",
       "      <th>pitches</th>\n",
       "      <th>player_id</th>\n",
       "      <th>player_name</th>\n",
       "      <th>total_pitches</th>\n",
       "      <th>pitch_percent</th>\n",
       "      <th>ba</th>\n",
       "      <th>iso</th>\n",
       "      <th>babip</th>\n",
       "      <th>slg</th>\n",
       "      <th>woba</th>\n",
       "      <th>xwoba</th>\n",
       "      <th>xba</th>\n",
       "      <th>hits</th>\n",
       "      <th>abs</th>\n",
       "      <th>launch_speed</th>\n",
       "      <th>launch_angle</th>\n",
       "      <th>spin_rate</th>\n",
       "      <th>velocity</th>\n",
       "      <th>effective_speed</th>\n",
       "      <th>whiffs</th>\n",
       "      <th>swings</th>\n",
       "      <th>takes</th>\n",
       "      <th>eff_min_vel</th>\n",
       "      <th>release_extension</th>\n",
       "      <th>pos3_int_start_distance</th>\n",
       "      <th>pos4_int_start_distance</th>\n",
       "      <th>pos5_int_start_distance</th>\n",
       "      <th>pos6_int_start_distance</th>\n",
       "      <th>pos7_int_start_distance</th>\n",
       "      <th>pos8_int_start_distance</th>\n",
       "      <th>pos9_int_start_distance</th>\n",
       "      <th>horizontal_release_point</th>\n",
       "      <th>vertical_release_point</th>\n",
       "      <th>absolute_value_horizontal_release_point</th>\n",
       "    </tr>\n",
       "  </thead>\n",
       "  <tbody>\n",
       "    <tr>\n",
       "      <th>0</th>\n",
       "      <td>1893</td>\n",
       "      <td>571760</td>\n",
       "      <td>Heaney, Andrew</td>\n",
       "      <td>2330</td>\n",
       "      <td>81.2</td>\n",
       "      <td>0.236</td>\n",
       "      <td>0.231</td>\n",
       "      <td>0.273</td>\n",
       "      <td>0.467</td>\n",
       "      <td>0.327</td>\n",
       "      <td>0.295</td>\n",
       "      <td>0.214</td>\n",
       "      <td>95</td>\n",
       "      <td>403</td>\n",
       "      <td>88.9</td>\n",
       "      <td>18.6</td>\n",
       "      <td>2399</td>\n",
       "      <td>87.6</td>\n",
       "      <td>87.03</td>\n",
       "      <td>265</td>\n",
       "      <td>916</td>\n",
       "      <td>977</td>\n",
       "      <td>-0.6</td>\n",
       "      <td>6.11</td>\n",
       "      <td>111</td>\n",
       "      <td>155</td>\n",
       "      <td>118</td>\n",
       "      <td>147</td>\n",
       "      <td>303</td>\n",
       "      <td>325</td>\n",
       "      <td>293</td>\n",
       "      <td>3.41</td>\n",
       "      <td>5.31</td>\n",
       "      <td>3.41</td>\n",
       "    </tr>\n",
       "    <tr>\n",
       "      <th>1</th>\n",
       "      <td>2566</td>\n",
       "      <td>640455</td>\n",
       "      <td>Manaea, Sean</td>\n",
       "      <td>2980</td>\n",
       "      <td>86.1</td>\n",
       "      <td>0.256</td>\n",
       "      <td>0.157</td>\n",
       "      <td>0.324</td>\n",
       "      <td>0.414</td>\n",
       "      <td>0.309</td>\n",
       "      <td>0.316</td>\n",
       "      <td>0.256</td>\n",
       "      <td>153</td>\n",
       "      <td>597</td>\n",
       "      <td>89.9</td>\n",
       "      <td>12.3</td>\n",
       "      <td>1848</td>\n",
       "      <td>89.0</td>\n",
       "      <td>90.03</td>\n",
       "      <td>364</td>\n",
       "      <td>1317</td>\n",
       "      <td>1249</td>\n",
       "      <td>1.0</td>\n",
       "      <td>7.18</td>\n",
       "      <td>110</td>\n",
       "      <td>151</td>\n",
       "      <td>120</td>\n",
       "      <td>150</td>\n",
       "      <td>301</td>\n",
       "      <td>326</td>\n",
       "      <td>299</td>\n",
       "      <td>3.31</td>\n",
       "      <td>5.65</td>\n",
       "      <td>3.31</td>\n",
       "    </tr>\n",
       "    <tr>\n",
       "      <th>2</th>\n",
       "      <td>1971</td>\n",
       "      <td>518516</td>\n",
       "      <td>Bumgarner, Madison</td>\n",
       "      <td>2294</td>\n",
       "      <td>85.9</td>\n",
       "      <td>0.247</td>\n",
       "      <td>0.192</td>\n",
       "      <td>0.280</td>\n",
       "      <td>0.439</td>\n",
       "      <td>0.315</td>\n",
       "      <td>0.322</td>\n",
       "      <td>0.247</td>\n",
       "      <td>116</td>\n",
       "      <td>469</td>\n",
       "      <td>88.6</td>\n",
       "      <td>18.8</td>\n",
       "      <td>2318</td>\n",
       "      <td>85.7</td>\n",
       "      <td>85.77</td>\n",
       "      <td>215</td>\n",
       "      <td>970</td>\n",
       "      <td>1001</td>\n",
       "      <td>0.1</td>\n",
       "      <td>6.55</td>\n",
       "      <td>109</td>\n",
       "      <td>153</td>\n",
       "      <td>118</td>\n",
       "      <td>149</td>\n",
       "      <td>300</td>\n",
       "      <td>327</td>\n",
       "      <td>296</td>\n",
       "      <td>3.26</td>\n",
       "      <td>5.70</td>\n",
       "      <td>3.26</td>\n",
       "    </tr>\n",
       "  </tbody>\n",
       "</table>\n",
       "</div>"
      ],
      "text/plain": [
       "   pitches  player_id         player_name  total_pitches  pitch_percent  \\\n",
       "0     1893     571760      Heaney, Andrew           2330           81.2   \n",
       "1     2566     640455        Manaea, Sean           2980           86.1   \n",
       "2     1971     518516  Bumgarner, Madison           2294           85.9   \n",
       "\n",
       "      ba    iso  babip    slg   woba  xwoba    xba  hits  abs  launch_speed  \\\n",
       "0  0.236  0.231  0.273  0.467  0.327  0.295  0.214    95  403          88.9   \n",
       "1  0.256  0.157  0.324  0.414  0.309  0.316  0.256   153  597          89.9   \n",
       "2  0.247  0.192  0.280  0.439  0.315  0.322  0.247   116  469          88.6   \n",
       "\n",
       "   launch_angle  spin_rate  velocity  effective_speed  whiffs  swings  takes  \\\n",
       "0          18.6       2399      87.6            87.03     265     916    977   \n",
       "1          12.3       1848      89.0            90.03     364    1317   1249   \n",
       "2          18.8       2318      85.7            85.77     215     970   1001   \n",
       "\n",
       "   eff_min_vel  release_extension  pos3_int_start_distance  \\\n",
       "0         -0.6               6.11                      111   \n",
       "1          1.0               7.18                      110   \n",
       "2          0.1               6.55                      109   \n",
       "\n",
       "   pos4_int_start_distance  pos5_int_start_distance  pos6_int_start_distance  \\\n",
       "0                      155                      118                      147   \n",
       "1                      151                      120                      150   \n",
       "2                      153                      118                      149   \n",
       "\n",
       "   pos7_int_start_distance  pos8_int_start_distance  pos9_int_start_distance  \\\n",
       "0                      303                      325                      293   \n",
       "1                      301                      326                      299   \n",
       "2                      300                      327                      296   \n",
       "\n",
       "   horizontal_release_point  vertical_release_point  \\\n",
       "0                      3.41                    5.31   \n",
       "1                      3.31                    5.65   \n",
       "2                      3.26                    5.70   \n",
       "\n",
       "   absolute_value_horizontal_release_point  \n",
       "0                                     3.41  \n",
       "1                                     3.31  \n",
       "2                                     3.26  "
      ]
     },
     "execution_count": 34,
     "metadata": {},
     "output_type": "execute_result"
    }
   ],
   "source": [
    "SP_df.head(3)"
   ]
  },
  {
   "cell_type": "code",
   "execution_count": 35,
   "id": "6e847414",
   "metadata": {},
   "outputs": [
    {
     "data": {
      "text/html": [
       "<div>\n",
       "<style scoped>\n",
       "    .dataframe tbody tr th:only-of-type {\n",
       "        vertical-align: middle;\n",
       "    }\n",
       "\n",
       "    .dataframe tbody tr th {\n",
       "        vertical-align: top;\n",
       "    }\n",
       "\n",
       "    .dataframe thead th {\n",
       "        text-align: right;\n",
       "    }\n",
       "</style>\n",
       "<table border=\"1\" class=\"dataframe\">\n",
       "  <thead>\n",
       "    <tr style=\"text-align: right;\">\n",
       "      <th></th>\n",
       "      <th>pitches</th>\n",
       "      <th>player_id</th>\n",
       "      <th>player_name</th>\n",
       "      <th>total_pitches</th>\n",
       "      <th>pitch_percent</th>\n",
       "      <th>ba</th>\n",
       "      <th>iso</th>\n",
       "      <th>babip</th>\n",
       "      <th>slg</th>\n",
       "      <th>woba</th>\n",
       "      <th>xwoba</th>\n",
       "      <th>xba</th>\n",
       "      <th>hits</th>\n",
       "      <th>abs</th>\n",
       "      <th>launch_speed</th>\n",
       "      <th>launch_angle</th>\n",
       "      <th>spin_rate</th>\n",
       "      <th>velocity</th>\n",
       "      <th>effective_speed</th>\n",
       "      <th>whiffs</th>\n",
       "      <th>swings</th>\n",
       "      <th>takes</th>\n",
       "      <th>eff_min_vel</th>\n",
       "      <th>release_extension</th>\n",
       "      <th>pos3_int_start_distance</th>\n",
       "      <th>pos4_int_start_distance</th>\n",
       "      <th>pos5_int_start_distance</th>\n",
       "      <th>pos6_int_start_distance</th>\n",
       "      <th>pos7_int_start_distance</th>\n",
       "      <th>pos8_int_start_distance</th>\n",
       "      <th>pos9_int_start_distance</th>\n",
       "      <th>horizontal_release_point</th>\n",
       "      <th>vertical_release_point</th>\n",
       "      <th>absolute_value_horizontal_release_point</th>\n",
       "    </tr>\n",
       "  </thead>\n",
       "  <tbody>\n",
       "    <tr>\n",
       "      <th>0</th>\n",
       "      <td>900</td>\n",
       "      <td>518617</td>\n",
       "      <td>Diekman, Jake</td>\n",
       "      <td>1118</td>\n",
       "      <td>80.5</td>\n",
       "      <td>0.217</td>\n",
       "      <td>0.211</td>\n",
       "      <td>0.287</td>\n",
       "      <td>0.428</td>\n",
       "      <td>0.330</td>\n",
       "      <td>0.327</td>\n",
       "      <td>0.217</td>\n",
       "      <td>39</td>\n",
       "      <td>180</td>\n",
       "      <td>89.1</td>\n",
       "      <td>15.5</td>\n",
       "      <td>2386</td>\n",
       "      <td>91.2</td>\n",
       "      <td>88.51</td>\n",
       "      <td>143</td>\n",
       "      <td>391</td>\n",
       "      <td>509</td>\n",
       "      <td>-2.7</td>\n",
       "      <td>6.34</td>\n",
       "      <td>111</td>\n",
       "      <td>150</td>\n",
       "      <td>120</td>\n",
       "      <td>150</td>\n",
       "      <td>300</td>\n",
       "      <td>326</td>\n",
       "      <td>301</td>\n",
       "      <td>3.27</td>\n",
       "      <td>5.72</td>\n",
       "      <td>3.27</td>\n",
       "    </tr>\n",
       "    <tr>\n",
       "      <th>1</th>\n",
       "      <td>944</td>\n",
       "      <td>608718</td>\n",
       "      <td>Suter, Brent</td>\n",
       "      <td>1221</td>\n",
       "      <td>77.3</td>\n",
       "      <td>0.256</td>\n",
       "      <td>0.163</td>\n",
       "      <td>0.294</td>\n",
       "      <td>0.419</td>\n",
       "      <td>0.319</td>\n",
       "      <td>0.312</td>\n",
       "      <td>0.246</td>\n",
       "      <td>55</td>\n",
       "      <td>215</td>\n",
       "      <td>84.4</td>\n",
       "      <td>6.7</td>\n",
       "      <td>2144</td>\n",
       "      <td>85.9</td>\n",
       "      <td>86.61</td>\n",
       "      <td>93</td>\n",
       "      <td>461</td>\n",
       "      <td>483</td>\n",
       "      <td>0.7</td>\n",
       "      <td>7.12</td>\n",
       "      <td>108</td>\n",
       "      <td>153</td>\n",
       "      <td>118</td>\n",
       "      <td>147</td>\n",
       "      <td>300</td>\n",
       "      <td>324</td>\n",
       "      <td>299</td>\n",
       "      <td>2.82</td>\n",
       "      <td>6.21</td>\n",
       "      <td>2.82</td>\n",
       "    </tr>\n",
       "    <tr>\n",
       "      <th>2</th>\n",
       "      <td>851</td>\n",
       "      <td>656945</td>\n",
       "      <td>Scott, Tanner</td>\n",
       "      <td>1032</td>\n",
       "      <td>82.5</td>\n",
       "      <td>0.249</td>\n",
       "      <td>0.142</td>\n",
       "      <td>0.330</td>\n",
       "      <td>0.391</td>\n",
       "      <td>0.334</td>\n",
       "      <td>0.337</td>\n",
       "      <td>0.241</td>\n",
       "      <td>42</td>\n",
       "      <td>169</td>\n",
       "      <td>90.7</td>\n",
       "      <td>6.9</td>\n",
       "      <td>2620</td>\n",
       "      <td>92.3</td>\n",
       "      <td>92.09</td>\n",
       "      <td>136</td>\n",
       "      <td>373</td>\n",
       "      <td>478</td>\n",
       "      <td>-0.2</td>\n",
       "      <td>6.20</td>\n",
       "      <td>108</td>\n",
       "      <td>151</td>\n",
       "      <td>117</td>\n",
       "      <td>148</td>\n",
       "      <td>300</td>\n",
       "      <td>323</td>\n",
       "      <td>294</td>\n",
       "      <td>2.50</td>\n",
       "      <td>5.53</td>\n",
       "      <td>2.50</td>\n",
       "    </tr>\n",
       "  </tbody>\n",
       "</table>\n",
       "</div>"
      ],
      "text/plain": [
       "   pitches  player_id    player_name  total_pitches  pitch_percent     ba  \\\n",
       "0      900     518617  Diekman, Jake           1118           80.5  0.217   \n",
       "1      944     608718   Suter, Brent           1221           77.3  0.256   \n",
       "2      851     656945  Scott, Tanner           1032           82.5  0.249   \n",
       "\n",
       "     iso  babip    slg   woba  xwoba    xba  hits  abs  launch_speed  \\\n",
       "0  0.211  0.287  0.428  0.330  0.327  0.217    39  180          89.1   \n",
       "1  0.163  0.294  0.419  0.319  0.312  0.246    55  215          84.4   \n",
       "2  0.142  0.330  0.391  0.334  0.337  0.241    42  169          90.7   \n",
       "\n",
       "   launch_angle  spin_rate  velocity  effective_speed  whiffs  swings  takes  \\\n",
       "0          15.5       2386      91.2            88.51     143     391    509   \n",
       "1           6.7       2144      85.9            86.61      93     461    483   \n",
       "2           6.9       2620      92.3            92.09     136     373    478   \n",
       "\n",
       "   eff_min_vel  release_extension  pos3_int_start_distance  \\\n",
       "0         -2.7               6.34                      111   \n",
       "1          0.7               7.12                      108   \n",
       "2         -0.2               6.20                      108   \n",
       "\n",
       "   pos4_int_start_distance  pos5_int_start_distance  pos6_int_start_distance  \\\n",
       "0                      150                      120                      150   \n",
       "1                      153                      118                      147   \n",
       "2                      151                      117                      148   \n",
       "\n",
       "   pos7_int_start_distance  pos8_int_start_distance  pos9_int_start_distance  \\\n",
       "0                      300                      326                      301   \n",
       "1                      300                      324                      299   \n",
       "2                      300                      323                      294   \n",
       "\n",
       "   horizontal_release_point  vertical_release_point  \\\n",
       "0                      3.27                    5.72   \n",
       "1                      2.82                    6.21   \n",
       "2                      2.50                    5.53   \n",
       "\n",
       "   absolute_value_horizontal_release_point  \n",
       "0                                     3.27  \n",
       "1                                     2.82  \n",
       "2                                     2.50  "
      ]
     },
     "execution_count": 35,
     "metadata": {},
     "output_type": "execute_result"
    }
   ],
   "source": [
    "RP_df.head(3)"
   ]
  },
  {
   "cell_type": "code",
   "execution_count": 36,
   "id": "0d04d573",
   "metadata": {},
   "outputs": [
    {
     "data": {
      "text/html": [
       "<div>\n",
       "<style scoped>\n",
       "    .dataframe tbody tr th:only-of-type {\n",
       "        vertical-align: middle;\n",
       "    }\n",
       "\n",
       "    .dataframe tbody tr th {\n",
       "        vertical-align: top;\n",
       "    }\n",
       "\n",
       "    .dataframe thead th {\n",
       "        text-align: right;\n",
       "    }\n",
       "</style>\n",
       "<table border=\"1\" class=\"dataframe\">\n",
       "  <thead>\n",
       "    <tr style=\"text-align: right;\">\n",
       "      <th></th>\n",
       "      <th>pitches</th>\n",
       "      <th>player_id</th>\n",
       "      <th>player_name</th>\n",
       "      <th>total_pitches</th>\n",
       "      <th>pitch_percent</th>\n",
       "      <th>ba</th>\n",
       "      <th>iso</th>\n",
       "      <th>babip</th>\n",
       "      <th>slg</th>\n",
       "      <th>woba</th>\n",
       "      <th>xwoba</th>\n",
       "      <th>xba</th>\n",
       "      <th>hits</th>\n",
       "      <th>abs</th>\n",
       "      <th>launch_speed</th>\n",
       "      <th>launch_angle</th>\n",
       "      <th>spin_rate</th>\n",
       "      <th>velocity</th>\n",
       "      <th>effective_speed</th>\n",
       "      <th>whiffs</th>\n",
       "      <th>swings</th>\n",
       "      <th>takes</th>\n",
       "      <th>eff_min_vel</th>\n",
       "      <th>release_extension</th>\n",
       "      <th>pos3_int_start_distance</th>\n",
       "      <th>pos4_int_start_distance</th>\n",
       "      <th>pos5_int_start_distance</th>\n",
       "      <th>pos6_int_start_distance</th>\n",
       "      <th>pos7_int_start_distance</th>\n",
       "      <th>pos8_int_start_distance</th>\n",
       "      <th>pos9_int_start_distance</th>\n",
       "      <th>horizontal_release_point</th>\n",
       "      <th>vertical_release_point</th>\n",
       "      <th>absolute_value_horizontal_release_point</th>\n",
       "    </tr>\n",
       "  </thead>\n",
       "  <tbody>\n",
       "    <tr>\n",
       "      <th>0</th>\n",
       "      <td>876</td>\n",
       "      <td>623352</td>\n",
       "      <td>Hader, Josh</td>\n",
       "      <td>964</td>\n",
       "      <td>90.9</td>\n",
       "      <td>0.125</td>\n",
       "      <td>0.057</td>\n",
       "      <td>0.227</td>\n",
       "      <td>0.182</td>\n",
       "      <td>0.202</td>\n",
       "      <td>0.238</td>\n",
       "      <td>0.157</td>\n",
       "      <td>22</td>\n",
       "      <td>176</td>\n",
       "      <td>87.4</td>\n",
       "      <td>22.2</td>\n",
       "      <td>2137</td>\n",
       "      <td>92.1</td>\n",
       "      <td>87.26</td>\n",
       "      <td>195</td>\n",
       "      <td>440</td>\n",
       "      <td>436</td>\n",
       "      <td>-4.8</td>\n",
       "      <td>6.65</td>\n",
       "      <td>110</td>\n",
       "      <td>153</td>\n",
       "      <td>117</td>\n",
       "      <td>148</td>\n",
       "      <td>306</td>\n",
       "      <td>327</td>\n",
       "      <td>302</td>\n",
       "      <td>3.17</td>\n",
       "      <td>5.22</td>\n",
       "      <td>3.17</td>\n",
       "    </tr>\n",
       "    <tr>\n",
       "      <th>1</th>\n",
       "      <td>603</td>\n",
       "      <td>543272</td>\n",
       "      <td>Hand, Brad</td>\n",
       "      <td>1076</td>\n",
       "      <td>56.0</td>\n",
       "      <td>0.188</td>\n",
       "      <td>0.143</td>\n",
       "      <td>0.213</td>\n",
       "      <td>0.331</td>\n",
       "      <td>0.275</td>\n",
       "      <td>0.321</td>\n",
       "      <td>0.241</td>\n",
       "      <td>25</td>\n",
       "      <td>133</td>\n",
       "      <td>85.6</td>\n",
       "      <td>15.4</td>\n",
       "      <td>2346</td>\n",
       "      <td>87.4</td>\n",
       "      <td>86.04</td>\n",
       "      <td>52</td>\n",
       "      <td>244</td>\n",
       "      <td>359</td>\n",
       "      <td>-1.4</td>\n",
       "      <td>5.57</td>\n",
       "      <td>110</td>\n",
       "      <td>152</td>\n",
       "      <td>115</td>\n",
       "      <td>149</td>\n",
       "      <td>304</td>\n",
       "      <td>323</td>\n",
       "      <td>296</td>\n",
       "      <td>2.46</td>\n",
       "      <td>6.22</td>\n",
       "      <td>2.46</td>\n",
       "    </tr>\n",
       "    <tr>\n",
       "      <th>2</th>\n",
       "      <td>747</td>\n",
       "      <td>642397</td>\n",
       "      <td>Soto, Gregory</td>\n",
       "      <td>1131</td>\n",
       "      <td>66.0</td>\n",
       "      <td>0.204</td>\n",
       "      <td>0.172</td>\n",
       "      <td>0.240</td>\n",
       "      <td>0.376</td>\n",
       "      <td>0.307</td>\n",
       "      <td>0.317</td>\n",
       "      <td>0.212</td>\n",
       "      <td>32</td>\n",
       "      <td>157</td>\n",
       "      <td>89.0</td>\n",
       "      <td>13.1</td>\n",
       "      <td>2378</td>\n",
       "      <td>94.7</td>\n",
       "      <td>95.23</td>\n",
       "      <td>101</td>\n",
       "      <td>344</td>\n",
       "      <td>403</td>\n",
       "      <td>0.5</td>\n",
       "      <td>6.76</td>\n",
       "      <td>108</td>\n",
       "      <td>153</td>\n",
       "      <td>118</td>\n",
       "      <td>149</td>\n",
       "      <td>299</td>\n",
       "      <td>328</td>\n",
       "      <td>299</td>\n",
       "      <td>1.98</td>\n",
       "      <td>5.64</td>\n",
       "      <td>1.98</td>\n",
       "    </tr>\n",
       "  </tbody>\n",
       "</table>\n",
       "</div>"
      ],
      "text/plain": [
       "   pitches  player_id    player_name  total_pitches  pitch_percent     ba  \\\n",
       "0      876     623352    Hader, Josh            964           90.9  0.125   \n",
       "1      603     543272     Hand, Brad           1076           56.0  0.188   \n",
       "2      747     642397  Soto, Gregory           1131           66.0  0.204   \n",
       "\n",
       "     iso  babip    slg   woba  xwoba    xba  hits  abs  launch_speed  \\\n",
       "0  0.057  0.227  0.182  0.202  0.238  0.157    22  176          87.4   \n",
       "1  0.143  0.213  0.331  0.275  0.321  0.241    25  133          85.6   \n",
       "2  0.172  0.240  0.376  0.307  0.317  0.212    32  157          89.0   \n",
       "\n",
       "   launch_angle  spin_rate  velocity  effective_speed  whiffs  swings  takes  \\\n",
       "0          22.2       2137      92.1            87.26     195     440    436   \n",
       "1          15.4       2346      87.4            86.04      52     244    359   \n",
       "2          13.1       2378      94.7            95.23     101     344    403   \n",
       "\n",
       "   eff_min_vel  release_extension  pos3_int_start_distance  \\\n",
       "0         -4.8               6.65                      110   \n",
       "1         -1.4               5.57                      110   \n",
       "2          0.5               6.76                      108   \n",
       "\n",
       "   pos4_int_start_distance  pos5_int_start_distance  pos6_int_start_distance  \\\n",
       "0                      153                      117                      148   \n",
       "1                      152                      115                      149   \n",
       "2                      153                      118                      149   \n",
       "\n",
       "   pos7_int_start_distance  pos8_int_start_distance  pos9_int_start_distance  \\\n",
       "0                      306                      327                      302   \n",
       "1                      304                      323                      296   \n",
       "2                      299                      328                      299   \n",
       "\n",
       "   horizontal_release_point  vertical_release_point  \\\n",
       "0                      3.17                    5.22   \n",
       "1                      2.46                    6.22   \n",
       "2                      1.98                    5.64   \n",
       "\n",
       "   absolute_value_horizontal_release_point  \n",
       "0                                     3.17  \n",
       "1                                     2.46  \n",
       "2                                     1.98  "
      ]
     },
     "execution_count": 36,
     "metadata": {},
     "output_type": "execute_result"
    }
   ],
   "source": [
    "CP_df.head(3)"
   ]
  },
  {
   "cell_type": "markdown",
   "id": "fd3c0275",
   "metadata": {},
   "source": [
    "### Data Observations:\n",
    "\n",
    "* There are 165 starters...\n",
    "* ENTER HERE\n",
    "* ENTER HERE\n",
    "* ENTER HERE"
   ]
  },
  {
   "cell_type": "markdown",
   "id": "46a05785",
   "metadata": {},
   "source": [
    "## Start Big And Drill Down: Pitcher Type Data Analysis \n",
    "\n",
    "Wow. That's a lot of data. There's a lot of metrics that could be looked at here. We're going to narrow it down to three big factors that we're going to look for correlation for within each pitcher category.\n",
    "\n",
    "\n",
    "1) Release Extension and Batting Average\n",
    "\n",
    "2) Horizontal Release Point and Exit Velocity\n",
    "\n",
    "3) Velocity and Whiffs\n",
    "\n",
    "\n",
    "Note that each pairing has an input and an output. As in, the pitcher could throw with a higher velocity or a lower velocity and that would result in more or less whiffs (more on whiffs later)."
   ]
  },
  {
   "cell_type": "markdown",
   "id": "285502f3",
   "metadata": {},
   "source": [
    "### Block 1: Release Extension and Batting Average\n",
    "\n",
    "Input: [**Release Extension**](https://www.mlb.com/glossary/statcast/extension)  - Release extension of pitch in feet as tracked by Statcast.\n",
    "\n",
    "A pitcher must begin his throwing motion while standing on the pitching rubber -- which is 60 feet, 6 inches away from home plate. This does not mean pitches are actually thrown from 60 feet, 6 inches away from the plate.\n",
    "\n",
    "\n",
    "The point at which a pitcher releases the ball is actually a few feet closer to home plate than the pitching rubber itself. Extension quantifies exactly how much closer a pitcher's release point is to home plate. Taller pitchers with long wingspans tend to have the longest Extensions, because their frames allow them to hold on to the ball for a greater distance before releasing it.\n",
    "\n",
    "\n",
    "Not surprisingly, a longer Extension can be a major advantage to pitchers, because they are essentially shortening the distance between themselves and opposing batters. A pitcher with a longer Extension can make a 93 mph fastball look like a 96 mph fastball.\n",
    "\n",
    "\n",
    "\n",
    "\n",
    "Output: **Batting Average**\n",
    "\n",
    "One of the oldest and most universal tools to measure a hitter's success at the plate, batting average is determined by dividing a player's hits by his total at-bats for a number between zero (shown as .000) and one (1.000). In recent years, the league-wide batting average has typically hovered around .250.\n",
    "\n"
   ]
  },
  {
   "cell_type": "markdown",
   "id": "238bd10d",
   "metadata": {},
   "source": [
    "#### Correlation with Starters"
   ]
  },
  {
   "cell_type": "code",
   "execution_count": 37,
   "id": "fcd44c7d",
   "metadata": {},
   "outputs": [],
   "source": [
    "#Code"
   ]
  },
  {
   "cell_type": "markdown",
   "id": "5e44d4f8",
   "metadata": {},
   "source": [
    "#### Correlation with Relievers"
   ]
  },
  {
   "cell_type": "code",
   "execution_count": null,
   "id": "3a95c1e5",
   "metadata": {},
   "outputs": [],
   "source": [
    "#Code"
   ]
  },
  {
   "cell_type": "markdown",
   "id": "d50af153",
   "metadata": {},
   "source": [
    "#### Correlation with Closers"
   ]
  },
  {
   "cell_type": "code",
   "execution_count": 38,
   "id": "f49dcefb",
   "metadata": {},
   "outputs": [],
   "source": [
    "#Code"
   ]
  },
  {
   "cell_type": "markdown",
   "id": "0d723961",
   "metadata": {},
   "source": [
    "#### Compare all three\n",
    "* Which one has the best correlation?\n",
    "* What gives way to more success?\n",
    "* Who are the outliers?"
   ]
  },
  {
   "cell_type": "code",
   "execution_count": null,
   "id": "4fe90b9f",
   "metadata": {},
   "outputs": [],
   "source": [
    "#Code"
   ]
  },
  {
   "cell_type": "markdown",
   "id": "9a74e8cd",
   "metadata": {},
   "source": [
    "#### Take-Away(s)\n",
    "* Trend 1 \n",
    "* Trend 2"
   ]
  },
  {
   "cell_type": "code",
   "execution_count": 39,
   "id": "ff8a540e",
   "metadata": {},
   "outputs": [],
   "source": [
    "#Code"
   ]
  },
  {
   "cell_type": "markdown",
   "id": "9dee6742",
   "metadata": {},
   "source": [
    "### Block 2: Horizontal Release Point and Exit Velocity\n",
    "\n",
    "Highlight Contrasts\n",
    "\n",
    "\n",
    "Input: Horizontal Release Point  - Horizontal Release Position of the ball measured in feet from the catcher's perspective.\n",
    "\n",
    "\n",
    "<img src=\"https://pbs.twimg.com/media/FFqKGsJaQAAT1bV?format=jpg&name=large\">\n",
    "\n",
    "\n",
    "Output: **Exit Velocity** - aka launch speed\n",
    "\n",
    "Exit Velocity measures the speed of the baseball as it comes off the bat, immediately after a batter makes contact. This is tracked for all Batted Ball Events -- outs, hits and errors.\n",
    "\n",
    "Attaining a high Exit Velocity is one of a hitter's primary goals. A hard-hit ball won't always have a positive result, but the defense has less time to react, so the batter's chances of reaching base are higher.\n",
    "\n",
    "For this very reason, Exit Velocity can also be used to evaluate pitchers. The game's best pitchers -- who naturally throw the highest quality pitches -- generally rank among the league leaders at limiting hard contact.\n",
    "\n",
    "\n",
    "<em>Exit Velocity Note: Keeping in mind that the smaller the velocity number, the more effective the pitcher, because a pitcher's goal is to have the batter hit very slow balls that are easy to catch (or to strike out).</em>"
   ]
  },
  {
   "cell_type": "code",
   "execution_count": 4,
   "id": "0d36a719",
   "metadata": {},
   "outputs": [
    {
     "name": "stdout",
     "output_type": "stream",
     "text": [
      "Launch speed in bins by horizontal release point\n"
     ]
    },
    {
     "data": {
      "text/plain": [
       "absolute_value_horizontal_release_point\n",
       "(0, 1]    88.546667\n",
       "(1, 2]    88.054023\n",
       "(2, 3]    87.880000\n",
       "(3, 4]    88.125000\n",
       "Name: launch_speed, dtype: float64"
      ]
     },
     "execution_count": 4,
     "metadata": {},
     "output_type": "execute_result"
    }
   ],
   "source": [
    "# Create bins with each horizontal release point\n",
    "bins = pd.cut(SP_df['absolute_value_horizontal_release_point'], [\n",
    "    0, 1, 2, 3, 4])\n",
    "\n",
    "# Group the dataframe by bins with respect to launch speed and take the average\n",
    "speedbyreleasepoint = SP_df.groupby(bins)['launch_speed'].mean()\n",
    "print('Launch speed in bins by horizontal release point')\n",
    "speedbyreleasepoint"
   ]
  },
  {
   "cell_type": "raw",
   "id": "0435cc6c",
   "metadata": {},
   "source": [
    "When the absolute value of the horizontal release point is between 0 and 1, the average launch speed is 88.54 mph. When the absolute value of the horizontal release point is between 1 and 2, the average launch speed is 88.05 mph. When the absolute value of the horizontal release point is between 2 and 3, the average launch speed is 87.88 mph. When the absolute value of the horizontal release point is between 3 and 4, the average launch speed is 88.13 mph. The data indicates that there is no substantial relationship between horizontal release point and launch speed among starters, as seen by the graph below, which, while there is a line of best fit, it is almost horizontal."
   ]
  },
  {
   "cell_type": "code",
   "execution_count": 5,
   "id": "98ded025",
   "metadata": {
    "scrolled": true
   },
   "outputs": [
    {
     "data": {
      "text/plain": [
       "[Text(0.5, 1.0, 'SP - Horizontal Release Point (ft) vs Launch Speed')]"
      ]
     },
     "execution_count": 5,
     "metadata": {},
     "output_type": "execute_result"
    },
    {
     "data": {
      "image/png": "[encoded data removed]",
      "text/plain": [
       "<Figure size 432x288 with 1 Axes>"
      ]
     },
     "metadata": {
      "needs_background": "light"
     },
     "output_type": "display_data"
    }
   ],
   "source": [
    "sns.regplot(x=\"absolute_value_horizontal_release_point\", y=\"launch_speed\", ci=None, data = SP_df).set(title = 'SP - Horizontal Release Point (ft) vs Launch Speed')"
   ]
  },
  {
   "cell_type": "code",
   "execution_count": 6,
   "id": "a08d5153",
   "metadata": {},
   "outputs": [
    {
     "name": "stdout",
     "output_type": "stream",
     "text": [
      "Launch speed of starters who threw with a horizontal release point between 0 and 1ft\n",
      "------------------------------------------------------------------------------------\n",
      "player_name\n",
      "Burnes, Corbin       84.5\n",
      "Gray, Sonny          86.2\n",
      "Buehler, Walker      86.8\n",
      "Means, John          87.6\n",
      "Minor, Mike          87.8\n",
      "Civale, Aaron        88.2\n",
      "Morgan, Eli          88.9\n",
      "Peterson, David      89.0\n",
      "Weaver, Luke         89.0\n",
      "Flexen, Chris        89.1\n",
      "Lyles, Jordan        89.5\n",
      "Jax, Griffin         89.8\n",
      "Zimmermann, Bruce    90.4\n",
      "Plesac, Zach         90.5\n",
      "McClanahan, Shane    90.9\n",
      "Name: launch_speed, dtype: float64\n",
      "\n"
     ]
    }
   ],
   "source": [
    "# Create filter where the horizontal release point is between 0 and 1 ft\n",
    "filt1 = SP_df[\"absolute_value_horizontal_release_point\"] > 0\n",
    "filt2 = SP_df[\"absolute_value_horizontal_release_point\"] <= 1\n",
    "\n",
    "# Subset the data to run the players within that filter and sort that list by launch speed\n",
    "launchspeedbetween0and1 = SP_df[filt1 & filt2].groupby('player_name')['launch_speed'].mean().sort_values()\n",
    "\n",
    "# Print list\n",
    "title1='Launch speed of starters who threw with a horizontal release point between 0 and 1ft'\n",
    "print(title1)\n",
    "print('-'*len(title1))\n",
    "print(launchspeedbetween0and1)\n",
    "print()"
   ]
  },
  {
   "cell_type": "code",
   "execution_count": 7,
   "id": "26f61a27",
   "metadata": {},
   "outputs": [
    {
     "name": "stdout",
     "output_type": "stream",
     "text": [
      "Launch speed of starters who threw with a horizontal release point between 3 and 4 ft\n",
      "-------------------------------------------------------------------------------------\n",
      "player_name\n",
      "Scherzer, Max         86.9\n",
      "Mills, Alec           87.2\n",
      "Lynn, Lance           87.5\n",
      "Berríos, José         88.0\n",
      "Gallen, Zac           88.0\n",
      "Bumgarner, Madison    88.6\n",
      "Heaney, Andrew        88.9\n",
      "Manaea, Sean          89.9\n",
      "Name: launch_speed, dtype: float64\n",
      "\n"
     ]
    }
   ],
   "source": [
    "# Create filter where the horizontal release point is between 3 and 4 ft\n",
    "filt1 = SP_df[\"absolute_value_horizontal_release_point\"] > 3\n",
    "filt2 = SP_df[\"absolute_value_horizontal_release_point\"] <= 4\n",
    "\n",
    "# Subset the data to run the players within that filter and sort that list by launch speed\n",
    "launchspeedbetween3and4 = SP_df[filt1 & filt2].groupby('player_name')['launch_speed'].mean().sort_values()\n",
    "\n",
    "# Print list\n",
    "title1='Launch speed of starters who threw with a horizontal release point between 3 and 4 ft'\n",
    "print(title1)\n",
    "print('-'*len(title1))\n",
    "print(launchspeedbetween3and4)\n",
    "print()"
   ]
  },
  {
   "cell_type": "markdown",
   "id": "7a5b18f6",
   "metadata": {},
   "source": [
    "As you can see by the breakdown of pitchers that fit into the two end bins, there are some outliers, such as Corbin Burnes and Sean Manaea."
   ]
  },
  {
   "cell_type": "markdown",
   "id": "e1680f14",
   "metadata": {},
   "source": [
    "#### Relievers"
   ]
  },
  {
   "cell_type": "code",
   "execution_count": 8,
   "id": "0a1d9766",
   "metadata": {},
   "outputs": [
    {
     "name": "stdout",
     "output_type": "stream",
     "text": [
      "Launch speed in bins by horizontal release point\n"
     ]
    },
    {
     "data": {
      "text/plain": [
       "absolute_value_horizontal_release_point\n",
       "(0, 1]    87.814286\n",
       "(1, 2]    87.623810\n",
       "(2, 3]    87.465000\n",
       "(3, 4]    86.420000\n",
       "Name: launch_speed, dtype: float64"
      ]
     },
     "execution_count": 8,
     "metadata": {},
     "output_type": "execute_result"
    }
   ],
   "source": [
    "# Create bins with each horizontal release point\n",
    "bins = pd.cut(RP_df['absolute_value_horizontal_release_point'], [\n",
    "    0, 1, 2, 3, 4])\n",
    "\n",
    "# Group the dataframe by bins with respect to launch speed and take the average\n",
    "speedbyreleasepoint = RP_df.groupby(bins)['launch_speed'].mean()\n",
    "print('Launch speed in bins by horizontal release point')\n",
    "speedbyreleasepoint"
   ]
  },
  {
   "cell_type": "markdown",
   "id": "73ff4330",
   "metadata": {},
   "source": [
    "When looking at relievers, when the absolute value of the horizontal release point is between 0 and 1, the average launch speed is 87.81 mph. When the absolute value of the horizontal release point is between 1 and 2, the average launch speed is 87.62 mph. When the absolute value of the horizontal release point is between 2 and 3, the average launch speed is 87.47 mph. When the absolute value of the horizontal release point is between 3 and 4, the average launch speed is 86.84 mph. This data indicates that there is a negative relationship between horizontal release point and launch speed: as horizontal release point increases, launch speed decreases. As you can see by the graph below, while the line of best fit is slightly steeper, there are a lot more outliers, indicating that there is less correlation between horizontal release point and launch speed among relievers."
   ]
  },
  {
   "cell_type": "code",
   "execution_count": 9,
   "id": "daf9c791",
   "metadata": {},
   "outputs": [
    {
     "data": {
      "text/plain": [
       "[Text(0.5, 1.0, 'RP - Horizontal Release Point (ft) vs Launch Speed')]"
      ]
     },
     "execution_count": 9,
     "metadata": {},
     "output_type": "execute_result"
    },
    {
     "data": {
      "image/png": "[encoded data removed]",
      "text/plain": [
       "<Figure size 432x288 with 1 Axes>"
      ]
     },
     "metadata": {
      "needs_background": "light"
     },
     "output_type": "display_data"
    }
   ],
   "source": [
    "sns.regplot(x=\"absolute_value_horizontal_release_point\", y=\"launch_speed\", ci=None, data = RP_df).set(title = 'RP - Horizontal Release Point (ft) vs Launch Speed')"
   ]
  },
  {
   "cell_type": "code",
   "execution_count": 10,
   "id": "7e2a13d5",
   "metadata": {},
   "outputs": [
    {
     "name": "stdout",
     "output_type": "stream",
     "text": [
      "Launch speed of relievers who threw with a horizontal release point between 0 and 1ft\n",
      "-------------------------------------------------------------------------------------\n",
      "player_name\n",
      "Thielbar, Caleb    85.9\n",
      "Luetge, Lucas      86.8\n",
      "Holmes, Clay       87.3\n",
      "Alvarado, José     87.8\n",
      "Bass, Anthony      87.8\n",
      "Kinley, Tyler      88.4\n",
      "Stanek, Ryne       90.7\n",
      "Name: launch_speed, dtype: float64\n",
      "\n"
     ]
    }
   ],
   "source": [
    "# Create filter where the horizontal release point is between 0 and 1 ft\n",
    "filt1 = RP_df[\"absolute_value_horizontal_release_point\"] > 0\n",
    "filt2 = RP_df[\"absolute_value_horizontal_release_point\"] <= 1\n",
    "\n",
    "# Subset the data to run the players within that filter and sort that list by launch speed\n",
    "launchspeedbetween0and1 = RP_df[filt1 & filt2].groupby('player_name')['launch_speed'].mean().sort_values()\n",
    "\n",
    "# Print list\n",
    "title1='Launch speed of relievers who threw with a horizontal release point between 0 and 1ft'\n",
    "print(title1)\n",
    "print('-'*len(title1))\n",
    "print(launchspeedbetween0and1)\n",
    "print()"
   ]
  },
  {
   "cell_type": "code",
   "execution_count": 11,
   "id": "eea95f6c",
   "metadata": {},
   "outputs": [
    {
     "name": "stdout",
     "output_type": "stream",
     "text": [
      "Launch speed of relievers who threw with a horizontal release point between 3 and 4 ft\n",
      "--------------------------------------------------------------------------------------\n",
      "player_name\n",
      "Treinen, Blake    83.2\n",
      "Rogers, Tyler     85.0\n",
      "Cishek, Steve     85.6\n",
      "Diekman, Jake     89.1\n",
      "Shaw, Bryan       89.2\n",
      "Name: launch_speed, dtype: float64\n",
      "\n"
     ]
    }
   ],
   "source": [
    "# Create filter where the horizontal release point is between 3 and 4 ft\n",
    "filt1 = RP_df[\"absolute_value_horizontal_release_point\"] > 3\n",
    "filt2 = RP_df[\"absolute_value_horizontal_release_point\"] <= 4\n",
    "\n",
    "# Subset the data to run the players within that filter and sort that list by launch speed\n",
    "launchspeedbetween3and4 = RP_df[filt1 & filt2].groupby('player_name')['launch_speed'].mean().sort_values()\n",
    "\n",
    "# Print list\n",
    "title1='Launch speed of relievers who threw with a horizontal release point between 3 and 4 ft'\n",
    "print(title1)\n",
    "print('-'*len(title1))\n",
    "print(launchspeedbetween3and4)\n",
    "print()"
   ]
  },
  {
   "cell_type": "markdown",
   "id": "995b0c90",
   "metadata": {},
   "source": [
    "As you can see by the breakdown of pitchers that fit into the two end bins, there are some outliers, such as Caleb Thielbar and Bryan Shaw."
   ]
  },
  {
   "cell_type": "markdown",
   "id": "30775c10",
   "metadata": {},
   "source": [
    "#### Closers"
   ]
  },
  {
   "cell_type": "code",
   "execution_count": 12,
   "id": "9e3917a8",
   "metadata": {},
   "outputs": [
    {
     "name": "stdout",
     "output_type": "stream",
     "text": [
      "Launch speed in bins by horizontal release point\n"
     ]
    },
    {
     "data": {
      "text/plain": [
       "absolute_value_horizontal_release_point\n",
       "(0, 1]    89.157143\n",
       "(1, 2]    88.723529\n",
       "(2, 3]    87.490909\n",
       "(3, 4]    85.633333\n",
       "Name: launch_speed, dtype: float64"
      ]
     },
     "execution_count": 12,
     "metadata": {},
     "output_type": "execute_result"
    }
   ],
   "source": [
    "# Create bins with each horizontal release point\n",
    "bins = pd.cut(CP_df['absolute_value_horizontal_release_point'], [\n",
    "    0, 1, 2, 3, 4])\n",
    "\n",
    "# Group the dataframe by bins with respect to launch speed and take the average\n",
    "speedbyreleasepoint = CP_df.groupby(bins)['launch_speed'].mean()\n",
    "print('Launch speed in bins by horizontal release point')\n",
    "speedbyreleasepoint"
   ]
  },
  {
   "cell_type": "markdown",
   "id": "d4c2481b",
   "metadata": {},
   "source": [
    "When looking at closers, when the absolute value of the horizontal release point is between 0 and 1, the average launch speed is 89.15 mph. When the absolute value of the horizontal release point is between 1 and 2, the average launch speed is 88.73 mph. When the absolute value of the horizontal release point is between 2 and 3, the average launch speed is 87.49 mph. When the absolute value of the horizontal release point is between 3 and 4, the average launch speed is 85.63 mph. This data indicates that there is a slightly stronger negative relationship between horizontal release point and launch speed, which is evident by the steeper line of best fit in the graph."
   ]
  },
  {
   "cell_type": "code",
   "execution_count": 13,
   "id": "0e6a515f",
   "metadata": {},
   "outputs": [
    {
     "data": {
      "text/plain": [
       "[Text(0.5, 1.0, 'CP - Horizontal Release Point (ft) vs Launch Speed')]"
      ]
     },
     "execution_count": 13,
     "metadata": {},
     "output_type": "execute_result"
    },
    {
     "data": {
      "image/png": "[encoded data removed]",
      "text/plain": [
       "<Figure size 432x288 with 1 Axes>"
      ]
     },
     "metadata": {
      "needs_background": "light"
     },
     "output_type": "display_data"
    }
   ],
   "source": [
    "sns.regplot(x=\"absolute_value_horizontal_release_point\", y=\"launch_speed\", ci=None, data = CP_df).set(title = 'CP - Horizontal Release Point (ft) vs Launch Speed')"
   ]
  },
  {
   "cell_type": "code",
   "execution_count": 14,
   "id": "55d627c9",
   "metadata": {},
   "outputs": [
    {
     "name": "stdout",
     "output_type": "stream",
     "text": [
      "Launch speed of closers who threw with a horizontal release point between 0 and 1ft\n",
      "-----------------------------------------------------------------------------------\n",
      "player_name\n",
      "Castillo, Diego     85.7\n",
      "Clase, Emmanuel     86.9\n",
      "Chapman, Aroldis    87.1\n",
      "Pressly, Ryan       90.2\n",
      "Robles, Hansel      90.3\n",
      "Karinchak, James    91.0\n",
      "Holland, Greg       92.9\n",
      "Name: launch_speed, dtype: float64\n",
      "\n"
     ]
    }
   ],
   "source": [
    "# Create filter where the horizontal release point is between 0 and 1 ft\n",
    "filt1 = CP_df[\"absolute_value_horizontal_release_point\"] > 0\n",
    "filt2 = CP_df[\"absolute_value_horizontal_release_point\"] <= 1\n",
    "\n",
    "# Subset the data to run the players within that filter and sort that list by launch speed\n",
    "launchspeedbetween0and1 = CP_df[filt1 & filt2].groupby('player_name')['launch_speed'].mean().sort_values()\n",
    "\n",
    "# Print list\n",
    "title1='Launch speed of closers who threw with a horizontal release point between 0 and 1ft'\n",
    "print(title1)\n",
    "print('-'*len(title1))\n",
    "print(launchspeedbetween0and1)\n",
    "print()"
   ]
  },
  {
   "cell_type": "code",
   "execution_count": 15,
   "id": "570a1ff0",
   "metadata": {},
   "outputs": [
    {
     "name": "stdout",
     "output_type": "stream",
     "text": [
      "Launch speed of closers who threw with a horizontal release point between 3 and 4 ft\n",
      "------------------------------------------------------------------------------------\n",
      "player_name\n",
      "Floro, Dylan     84.7\n",
      "Rogers, Tyler    84.8\n",
      "Hader, Josh      87.4\n",
      "Name: launch_speed, dtype: float64\n",
      "\n"
     ]
    }
   ],
   "source": [
    "# Create filter where the horizontal release point is between 3 and 4 ft\n",
    "filt1 = CP_df[\"absolute_value_horizontal_release_point\"] > 3\n",
    "filt2 = CP_df[\"absolute_value_horizontal_release_point\"] <= 4\n",
    "\n",
    "# Subset the data to run the players within that filter and sort that list by launch speed\n",
    "launchspeedbetween3and4 = CP_df[filt1 & filt2].groupby('player_name')['launch_speed'].mean().sort_values()\n",
    "\n",
    "# Print list\n",
    "title1='Launch speed of closers who threw with a horizontal release point between 3 and 4 ft'\n",
    "print(title1)\n",
    "print('-'*len(title1))\n",
    "print(launchspeedbetween3and4)\n",
    "print()"
   ]
  },
  {
   "cell_type": "markdown",
   "id": "b8e18bfb",
   "metadata": {},
   "source": [
    "As you can see by the breakdown of pitchers that fit into the two end bins, there are some outliers, such as Diego Castillo and Josh Hader.  "
   ]
  },
  {
   "cell_type": "markdown",
   "id": "832ed441",
   "metadata": {},
   "source": [
    "## Takeaway\n",
    "\n",
    "Based on the data, horizontal release point is not that big of an indicator of pitcher success, but it is more of an indicator among closers and relievers than starters. For both closers and relievers, having a higher horizontal release point tends to lead to a higher launch speed, making them more effective and successful pitchers. That being said, there are some outliers: including for starters, Corbin Burnes and Sean Manaea; for relievers, Caleb Thielbar and Bryan Shaw; and for closers: Diego Castillo and Josh Hader."
   ]
  },
  {
   "cell_type": "markdown",
   "id": "2d5db6d9",
   "metadata": {},
   "source": [
    "### Block 3: Pitch Velocity and Whiffs\n",
    "\n",
    "Input: **Pitch Velocity** - Pitch Velocity: How hard, in miles per hour, a pitch is thrown.\n",
    "\n",
    "Output: **Whiffs** - A swinging strike (referring to the bat whiffing through the air without contacting the ball)."
   ]
  },
  {
   "cell_type": "markdown",
   "id": "536d6e75",
   "metadata": {},
   "source": [
    "#### Correlation with Starters"
   ]
  },
  {
   "cell_type": "code",
   "execution_count": 40,
   "id": "daaf194d",
   "metadata": {},
   "outputs": [],
   "source": [
    "#Code"
   ]
  },
  {
   "cell_type": "markdown",
   "id": "e5713bcf",
   "metadata": {},
   "source": [
    "#### Correlation with Relievers"
   ]
  },
  {
   "cell_type": "code",
   "execution_count": 41,
   "id": "b4f11f4d",
   "metadata": {},
   "outputs": [],
   "source": [
    "#Code"
   ]
  },
  {
   "cell_type": "markdown",
   "id": "fe3a8b6b",
   "metadata": {},
   "source": [
    "#### Correlation with Closers"
   ]
  },
  {
   "cell_type": "code",
   "execution_count": 42,
   "id": "4c2ec145",
   "metadata": {},
   "outputs": [],
   "source": [
    "#Code"
   ]
  },
  {
   "cell_type": "markdown",
   "id": "31398000",
   "metadata": {},
   "source": [
    "#### Compare all three\n",
    "* Which one has the best correlation?\n",
    "* What gives way to more success?\n",
    "* Who are the outliers?\n",
    "\n",
    "#### Take-Away(s)\n",
    "* Highest correlation between velocity and whiffs exist within closers\n",
    "* Other trends?"
   ]
  },
  {
   "cell_type": "markdown",
   "id": "aa285bb8",
   "metadata": {},
   "source": [
    "## Profile The Outliers: Player Data Analysis\n",
    "\n",
    "\n",
    "<img src=\"https://bycommonconsent.files.wordpress.com/2020/12/129513453_10222479920685783_166458902919141143_n.jpg?w=640\n",
    "\">\n",
    "\n",
    "\n",
    "\n",
    "What’s making them successful cause it’s not what usually makes their pitcher type successful?\n",
    "How are they defying the trend and still successful?\n",
    "\n",
    "***RUN EACH OF THESE TESTS FOR EACH PLAYER***\n",
    "Template for metrics to check in on:\n",
    "EX: _____ → Thus this could potentially be the reason making him successful despite being unique. \n",
    "\n",
    "***USE SAM AND KATIE’S NOTEBOOK’S AS REFERENCE***\n",
    "\n",
    "Outlying Players:\n",
    "_____ (Starter)\n",
    "_____ (Starter)\n",
    "_____ (Starter)\n",
    "Sergio Romo (Reliever)\n",
    "_____ (Reliever)\n",
    "Tyler Rogers (Reliever)\n",
    "Aroldis Chapman (Closer)\n",
    "Craig Kimbrel (Closer)\n",
    "Kenley Jansen (Closer)"
   ]
  },
  {
   "cell_type": "code",
   "execution_count": 17,
   "id": "84e99aa5",
   "metadata": {},
   "outputs": [],
   "source": [
    "# Load player datasets\n",
    "\n",
    "Chapman_df = pd.read_csv('../data/Project_Data_Files/Project_AroldisChapman.csv')\n",
    "Jansen_df = pd.read_csv('../data/Project_Data_Files/Project_KenleyJansen.csv')\n",
    "Romo_df = pd.read_csv('../data/Project_Data_Files/Project_SergioRomo.csv')\n",
    "Rogers_df = pd.read_csv('../data/Project_Data_Files/Project_TylerRogers.csv')\n",
    "Kimbrel_df = pd.read_csv('../data/Project_Data_Files/ProjectCraigKimbrel.csv')"
   ]
  },
  {
   "cell_type": "code",
   "execution_count": 18,
   "id": "6e63db68",
   "metadata": {},
   "outputs": [
    {
     "data": {
      "image/png": "[encoded data removed]",
      "text/plain": [
       "<Figure size 432x288 with 1 Axes>"
      ]
     },
     "metadata": {},
     "output_type": "display_data"
    },
    {
     "data": {
      "image/png": "[encoded data removed]",
      "text/plain": [
       "<Figure size 432x288 with 1 Axes>"
      ]
     },
     "metadata": {},
     "output_type": "display_data"
    },
    {
     "data": {
      "image/png": "[encoded data removed]",
      "text/plain": [
       "<Figure size 432x288 with 1 Axes>"
      ]
     },
     "metadata": {},
     "output_type": "display_data"
    },
    {
     "data": {
      "image/png": "[encoded data removed]",
      "text/plain": [
       "<Figure size 432x288 with 1 Axes>"
      ]
     },
     "metadata": {},
     "output_type": "display_data"
    },
    {
     "data": {
      "image/png": "[encoded data removed]",
      "text/plain": [
       "<Figure size 432x288 with 1 Axes>"
      ]
     },
     "metadata": {},
     "output_type": "display_data"
    }
   ],
   "source": [
    "# Check pitch type [KATIE]\n",
    "\n",
    "###########\n",
    "# CHAPMAN #\n",
    "###########\n",
    "chap_pitch_type_vals = Chapman_df[\"pitch_type\"].value_counts()\n",
    "chap_pitch_types = Chapman_df[\"pitch_type\"].unique()\n",
    "\n",
    "chap_plot = plt.pie(chap_pitch_type_vals, labels = chap_pitch_types, autopct='%1.2f%%')\n",
    "plt.title('Pitch Type Distribution of Chapman')\n",
    "plt.legend(title = \"Pitch Types\")\n",
    "plt.show()\n",
    "\n",
    "##########\n",
    "# JANSEN #\n",
    "##########\n",
    "jan_pitch_type_vals = Jansen_df[\"pitch_type\"].value_counts()\n",
    "jan_pitch_types = Jansen_df[\"pitch_type\"].unique()\n",
    "\n",
    "jan_plot = plt.pie(jan_pitch_type_vals, labels = jan_pitch_types, autopct='%1.2f%%')\n",
    "plt.title('Pitch Type Distribution of Jansen')\n",
    "plt.legend(title = \"Pitch Types\")\n",
    "plt.show()\n",
    "\n",
    "########\n",
    "# ROMO #\n",
    "########\n",
    "romo_pitch_type_vals = Jansen_df[\"pitch_type\"].value_counts()\n",
    "romo_pitch_types = Jansen_df[\"pitch_type\"].unique()\n",
    "\n",
    "romo_plot = plt.pie(romo_pitch_type_vals, labels = romo_pitch_types, autopct='%1.2f%%')\n",
    "plt.title('Pitch Type Distribution of Romo')\n",
    "plt.legend(title = \"Pitch Types\")\n",
    "plt.show()\n",
    "\n",
    "##########\n",
    "# ROGERS #\n",
    "##########\n",
    "rog_pitch_type_vals = Rogers_df[\"pitch_type\"].value_counts()\n",
    "rog_pitch_types = Rogers_df[\"pitch_type\"].unique()\n",
    "\n",
    "rog_plot = plt.pie(rog_pitch_type_vals, labels = rog_pitch_types, autopct='%1.2f%%')\n",
    "plt.title('Pitch Type Distribution of Rogers')\n",
    "plt.legend(title = \"Pitch Types\")\n",
    "plt.show()\n",
    "\n",
    "###########\n",
    "# KIMBREL #\n",
    "###########\n",
    "kim_filter = Kimbrel_df['pitch_type'].isna() == False \n",
    "kim_df = Kimbrel_df[kim_filter]\n",
    "\n",
    "kim_pitch_type_vals = kim_df[\"pitch_type\"].value_counts()\n",
    "kim_pitch_types = kim_df[\"pitch_type\"].unique()\n",
    "\n",
    "kim_plot = plt.pie(kim_pitch_type_vals, labels = kim_pitch_types, autopct='%1.2f%%')\n",
    "plt.title('Pitch Type Distribution of Kimbrel')\n",
    "plt.legend(title = \"Pitch Types\")\n",
    "plt.show()"
   ]
  },
  {
   "cell_type": "markdown",
   "id": "bddab836",
   "metadata": {},
   "source": [
    "<div class=\"alert alert-warning\">\n",
    "\n",
    "#### Aaaaaaah! Lets not use pie charts for something like this!\n",
    "  \n",
    "* Although common there are very few places where pie charts communicate very clearly there are much better and more concise options\n",
    "    \n",
    "* Instead you can use a stacked bar plot with one column per player\n",
    "    \n",
    "\n",
    "  \n",
    "</div>"
   ]
  },
  {
   "cell_type": "code",
   "execution_count": 19,
   "id": "2c52da3d",
   "metadata": {},
   "outputs": [],
   "source": [
    "\n",
    "players = ['Chapman', 'Jansen', 'Romo', 'Rogers', 'Kimbrel']\n",
    "player_dfs = [Chapman_df, Jansen_df, Romo_df, Rogers_df, Kimbrel_df]\n",
    "\n",
    "pitch_data = []\n",
    "for player, pdf in zip(players, player_dfs):\n",
    "        df=pdf[\"pitch_type\"].value_counts(normalize=True).to_frame()\n",
    "        df['player']=player\n",
    "        pitch_data.append(df)\n",
    "\n",
    "pitch_data_df = pd.concat(pitch_data)\n",
    "\n",
    "pitch_data_df=pitch_data_df.reset_index()\n",
    "pitch_data_df.rename(columns={'index': 'pitch_type',\n",
    "                              'pitch_type': 'value'}, inplace=True)\n"
   ]
  },
  {
   "cell_type": "code",
   "execution_count": 20,
   "id": "e0ace113",
   "metadata": {},
   "outputs": [],
   "source": [
    "pitch_by_player=pitch_data_df.pivot(index='player', columns='pitch_type', values='value')"
   ]
  },
  {
   "cell_type": "code",
   "execution_count": 21,
   "id": "d31cf68e",
   "metadata": {},
   "outputs": [
    {
     "data": {
      "image/png": "[encoded data removed]",
      "text/plain": [
       "<Figure size 432x288 with 1 Axes>"
      ]
     },
     "metadata": {
      "needs_background": "light"
     },
     "output_type": "display_data"
    }
   ],
   "source": [
    "pitch_by_player.plot(kind='barh', \n",
    "                     stacked=True)\n",
    "plt.legend(loc='center left', bbox_to_anchor=(1, 0.5))\n",
    "plt.show()"
   ]
  },
  {
   "cell_type": "code",
   "execution_count": 22,
   "id": "9b27f339",
   "metadata": {},
   "outputs": [
    {
     "name": "stdout",
     "output_type": "stream",
     "text": [
      "6.07    40\n",
      "6.08    40\n",
      "6.05    37\n",
      "6.11    37\n",
      "6.06    36\n",
      "        ..\n",
      "6.42     1\n",
      "6.38     1\n",
      "6.44     1\n",
      "5.82     1\n",
      "5.79     1\n",
      "Name: release_pos_z, Length: 62, dtype: int64\n"
     ]
    },
    {
     "data": {
      "image/png": "[encoded data removed]",
      "text/plain": [
       "<Figure size 432x288 with 1 Axes>"
      ]
     },
     "metadata": {
      "needs_background": "light"
     },
     "output_type": "display_data"
    }
   ],
   "source": [
    "# Check vertical release point - Katie\n",
    "\n",
    "###########\n",
    "# CHAPMAN #\n",
    "###########\n",
    "chap_release_vals = Chapman_df[\"release_pos_z\"].value_counts()\n",
    "chap_release_types = Chapman_df[\"release_pos_z\"].unique()\n",
    "print(chap_release_vals)\n",
    "chap_plot = plt.scatter(x=10, y=40, data=chap_release_vals)\n",
    "plt.title('Pitch Type Distribution of Chapman')\n",
    "#plt.legend(title = \"Pitch Types\")\n",
    "plt.show()"
   ]
  },
  {
   "cell_type": "code",
   "execution_count": 23,
   "id": "81646bc2",
   "metadata": {},
   "outputs": [],
   "source": [
    "# Strike throwing percentage - Sam"
   ]
  },
  {
   "cell_type": "code",
   "execution_count": 24,
   "id": "100f80d3",
   "metadata": {},
   "outputs": [],
   "source": [
    "# Length of at-bat - Sam"
   ]
  },
  {
   "cell_type": "markdown",
   "id": "d1d64b98",
   "metadata": {},
   "source": [
    "## Conclusion \n",
    "\n",
    "Conclusion here"
   ]
  },
  {
   "cell_type": "code",
   "execution_count": 46,
   "id": "24d7761d",
   "metadata": {},
   "outputs": [
    {
     "name": "stdout",
     "output_type": "stream",
     "text": [
      "total 13156\r\n",
      "-rw-rw-rw- 1 hlowenkron    hlowenkron    6422864 Nov 15 22:29  Data_collection_and_initial_exploration.ipynb\r\n",
      "-rw-rw-rw- 1 katie-collier katie-collier  223644 Dec  3 05:24  Final_Cleaned_Notebook.ipynb\r\n",
      "-rw-rw-rw- 1 hlowenkron    hlowenkron      51997 Dec  2 22:04  Hadriana_Assignment_Step_2.ipynb\r\n",
      "-rw-rw-rw- 1 hlowenkron    hlowenkron     189520 Nov 18 21:21  Hadriana_Relief_data_collection_and_initial_exploration.ipynb\r\n",
      "-rw-rw-rw- 1 jreum7        jreum7          74840 Dec  1 21:49  John_Reum_Assignment_Step_2.ipynb\r\n",
      "-rw-rw-rw- 1 jreum7        jreum7        3857605 Nov 24 06:07 'John Reum_Closers_data_collection_and_initial_exploration.ipynb'\r\n",
      "-rw-rw-rw- 1 jonahcharlton jonahcharlton   81605 Dec  1 22:03  Jonah_Charlton_Assignment_Step_2.ipynb\r\n",
      "-rw-rw-rw- 1 jonahcharlton jonahcharlton  456581 Nov 22 21:51  Jonah_Starters_data_collection_and_initial_exploration.ipynb\r\n",
      "-rw-rw-rw- 1 katie-collier katie-collier 1543188 Nov 18 19:25  Katie_Player_Data_Ralph_Data_collection_and_initial_exploration.ipynb\r\n",
      "-rw-rw-rw- 1 katie-collier katie-collier  125074 Dec  1 20:06  Katie_Step2.ipynb\r\n",
      "-rw-rw-rw- 1 sampasco2024  sampasco2024    22570 Nov 22 21:13 'Mega_Group_Copy_Data_Collection_&_Initial_Exploration.ipynb'\r\n",
      "-rwxrwxrwx 1 mbod          mbod              259 Nov  9 20:22  \u001b[0m\u001b[01;32mREADME.md\u001b[0m*\r\n",
      "-rw-rw-rw- 1 sampasco2024  sampasco2024   206402 Nov 30 19:11  Sam_Group_Step_2.ipynb\r\n",
      "-rw-rw-rw- 1 sampasco2024  sampasco2024   174381 Nov 22 21:44  Sam_Player_Data_Tyler_Rogers_Data_Collection_and_Initial_Exploration.ipynb\r\n",
      "-rw-rw-rw- 1 sampasco2024  sampasco2024    36862 Nov 13 22:13  SP_df.csv\r\n"
     ]
    }
   ],
   "source": [
    "ls -l"
   ]
  },
  {
   "cell_type": "code",
   "execution_count": null,
   "id": "92a619bc",
   "metadata": {},
   "outputs": [],
   "source": []
  }
 ],
 "metadata": {
  "kernelspec": {
   "display_name": "Python 3 (COMM318)",
   "language": "python",
   "name": "python3"
  },
  "language_info": {
   "codemirror_mode": {
    "name": "ipython",
    "version": 3
   },
   "file_extension": ".py",
   "mimetype": "text/x-python",
   "name": "python",
   "nbconvert_exporter": "python",
   "pygments_lexer": "ipython3",
   "version": "3.8.8"
  }
 },
 "nbformat": 4,
 "nbformat_minor": 5
}
