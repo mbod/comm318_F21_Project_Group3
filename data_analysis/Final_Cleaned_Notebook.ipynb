{
 "cells": [
  {
   "cell_type": "markdown",
   "id": "c7319663",
   "metadata": {},
   "source": [
    "# Story Title\n",
    "## By: Group Members"
   ]
  },
  {
   "cell_type": "markdown",
   "id": "b250994d",
   "metadata": {},
   "source": [
    "## Introduction (Draft/Rough Outline)\n",
    "\n",
    "Prologue: MLB pitcher success is an important topic BECAUSE (give significance)\n",
    "There are certain factors which contribute and correlate to success. We are on a mission to identify those factors. \n",
    "Luckily, baseball is a data-rich sport (baseball savant); this ample data gives us the opportunity to identify trends among various pitcher types.\n",
    "\n",
    "The Set-Up:\n",
    "Pitchers in Major League Baseball can be classified in three ways: starters, relievers, and closers. \n",
    "\n",
    "For those less familiar with baseball the Group 3 Times has provided the following definitions:\n",
    "A starter - pitches every 5 days, usually throws 80-100 pitches across 5 innings. \n",
    "Relievers - pitches every 2-3 days, usually throws 20-30 pitches across 1-2 innings. \n",
    "Closers - usually throws 10-20 pitches in 1 inning, the 9th inning. \n",
    "\n",
    "Naturally, these three pitcher types have variations in the results of their pitches. We seek to identify what leads each pitcher to success. "
   ]
  },
  {
   "cell_type": "code",
   "execution_count": 1,
   "id": "8901ee1b",
   "metadata": {},
   "outputs": [],
   "source": [
    "import matplotlib.pyplot as plt\n",
    "import pandas as pd\n",
    "import geopandas as gpd\n",
    "from shapely.geometry import Point\n",
    "from IPython.display import HTML, Markdown, display\n",
    "import seaborn as sns\n",
    "import numpy as np\n",
    "import shapely\n",
    "import json\n",
    "import plotly"
   ]
  },
  {
   "cell_type": "markdown",
   "id": "1128038b",
   "metadata": {},
   "source": [
    "## Load the Data"
   ]
  },
  {
   "cell_type": "code",
   "execution_count": 2,
   "id": "5ac0db82",
   "metadata": {},
   "outputs": [
    {
     "data": {
      "text/html": [
       "<div>\n",
       "<style scoped>\n",
       "    .dataframe tbody tr th:only-of-type {\n",
       "        vertical-align: middle;\n",
       "    }\n",
       "\n",
       "    .dataframe tbody tr th {\n",
       "        vertical-align: top;\n",
       "    }\n",
       "\n",
       "    .dataframe thead th {\n",
       "        text-align: right;\n",
       "    }\n",
       "</style>\n",
       "<table border=\"1\" class=\"dataframe\">\n",
       "  <thead>\n",
       "    <tr style=\"text-align: right;\">\n",
       "      <th></th>\n",
       "      <th>pitches</th>\n",
       "      <th>player_id</th>\n",
       "      <th>player_name</th>\n",
       "      <th>total_pitches</th>\n",
       "      <th>pitch_percent</th>\n",
       "      <th>ba</th>\n",
       "      <th>iso</th>\n",
       "      <th>babip</th>\n",
       "      <th>slg</th>\n",
       "      <th>woba</th>\n",
       "      <th>...</th>\n",
       "      <th>takes</th>\n",
       "      <th>eff_min_vel</th>\n",
       "      <th>release_extension</th>\n",
       "      <th>pos3_int_start_distance</th>\n",
       "      <th>pos4_int_start_distance</th>\n",
       "      <th>pos5_int_start_distance</th>\n",
       "      <th>pos6_int_start_distance</th>\n",
       "      <th>pos7_int_start_distance</th>\n",
       "      <th>pos8_int_start_distance</th>\n",
       "      <th>pos9_int_start_distance</th>\n",
       "    </tr>\n",
       "  </thead>\n",
       "  <tbody>\n",
       "    <tr>\n",
       "      <th>0</th>\n",
       "      <td>2864</td>\n",
       "      <td>641816</td>\n",
       "      <td>Mahle, Tyler</td>\n",
       "      <td>3196</td>\n",
       "      <td>89.6</td>\n",
       "      <td>0.234</td>\n",
       "      <td>0.157</td>\n",
       "      <td>0.313</td>\n",
       "      <td>0.391</td>\n",
       "      <td>0.307</td>\n",
       "      <td>...</td>\n",
       "      <td>1591</td>\n",
       "      <td>0.3</td>\n",
       "      <td>6.59</td>\n",
       "      <td>113</td>\n",
       "      <td>154</td>\n",
       "      <td>117</td>\n",
       "      <td>148</td>\n",
       "      <td>293</td>\n",
       "      <td>318</td>\n",
       "      <td>290</td>\n",
       "    </tr>\n",
       "    <tr>\n",
       "      <th>1</th>\n",
       "      <td>2706</td>\n",
       "      <td>656302</td>\n",
       "      <td>Cease, Dylan</td>\n",
       "      <td>2957</td>\n",
       "      <td>91.5</td>\n",
       "      <td>0.225</td>\n",
       "      <td>0.136</td>\n",
       "      <td>0.313</td>\n",
       "      <td>0.361</td>\n",
       "      <td>0.296</td>\n",
       "      <td>...</td>\n",
       "      <td>1447</td>\n",
       "      <td>-0.6</td>\n",
       "      <td>6.03</td>\n",
       "      <td>111</td>\n",
       "      <td>152</td>\n",
       "      <td>112</td>\n",
       "      <td>149</td>\n",
       "      <td>300</td>\n",
       "      <td>321</td>\n",
       "      <td>296</td>\n",
       "    </tr>\n",
       "    <tr>\n",
       "      <th>2</th>\n",
       "      <td>2608</td>\n",
       "      <td>622491</td>\n",
       "      <td>Castillo, Luis</td>\n",
       "      <td>3164</td>\n",
       "      <td>82.4</td>\n",
       "      <td>0.247</td>\n",
       "      <td>0.153</td>\n",
       "      <td>0.311</td>\n",
       "      <td>0.401</td>\n",
       "      <td>0.313</td>\n",
       "      <td>...</td>\n",
       "      <td>1328</td>\n",
       "      <td>-1.6</td>\n",
       "      <td>5.54</td>\n",
       "      <td>114</td>\n",
       "      <td>152</td>\n",
       "      <td>116</td>\n",
       "      <td>148</td>\n",
       "      <td>291</td>\n",
       "      <td>319</td>\n",
       "      <td>291</td>\n",
       "    </tr>\n",
       "    <tr>\n",
       "      <th>3</th>\n",
       "      <td>2566</td>\n",
       "      <td>640455</td>\n",
       "      <td>Manaea, Sean</td>\n",
       "      <td>2980</td>\n",
       "      <td>86.1</td>\n",
       "      <td>0.256</td>\n",
       "      <td>0.157</td>\n",
       "      <td>0.324</td>\n",
       "      <td>0.414</td>\n",
       "      <td>0.309</td>\n",
       "      <td>...</td>\n",
       "      <td>1249</td>\n",
       "      <td>1.0</td>\n",
       "      <td>7.18</td>\n",
       "      <td>110</td>\n",
       "      <td>151</td>\n",
       "      <td>120</td>\n",
       "      <td>150</td>\n",
       "      <td>301</td>\n",
       "      <td>326</td>\n",
       "      <td>299</td>\n",
       "    </tr>\n",
       "    <tr>\n",
       "      <th>4</th>\n",
       "      <td>2530</td>\n",
       "      <td>605397</td>\n",
       "      <td>Musgrove, Joe</td>\n",
       "      <td>2938</td>\n",
       "      <td>86.1</td>\n",
       "      <td>0.224</td>\n",
       "      <td>0.164</td>\n",
       "      <td>0.283</td>\n",
       "      <td>0.388</td>\n",
       "      <td>0.297</td>\n",
       "      <td>...</td>\n",
       "      <td>1348</td>\n",
       "      <td>-0.8</td>\n",
       "      <td>5.91</td>\n",
       "      <td>114</td>\n",
       "      <td>153</td>\n",
       "      <td>133</td>\n",
       "      <td>143</td>\n",
       "      <td>298</td>\n",
       "      <td>321</td>\n",
       "      <td>310</td>\n",
       "    </tr>\n",
       "  </tbody>\n",
       "</table>\n",
       "<p>5 rows × 31 columns</p>\n",
       "</div>"
      ],
      "text/plain": [
       "   pitches  player_id     player_name  total_pitches  pitch_percent     ba  \\\n",
       "0     2864     641816    Mahle, Tyler           3196           89.6  0.234   \n",
       "1     2706     656302    Cease, Dylan           2957           91.5  0.225   \n",
       "2     2608     622491  Castillo, Luis           3164           82.4  0.247   \n",
       "3     2566     640455    Manaea, Sean           2980           86.1  0.256   \n",
       "4     2530     605397   Musgrove, Joe           2938           86.1  0.224   \n",
       "\n",
       "     iso  babip    slg   woba  ...  takes  eff_min_vel  release_extension  \\\n",
       "0  0.157  0.313  0.391  0.307  ...   1591          0.3               6.59   \n",
       "1  0.136  0.313  0.361  0.296  ...   1447         -0.6               6.03   \n",
       "2  0.153  0.311  0.401  0.313  ...   1328         -1.6               5.54   \n",
       "3  0.157  0.324  0.414  0.309  ...   1249          1.0               7.18   \n",
       "4  0.164  0.283  0.388  0.297  ...   1348         -0.8               5.91   \n",
       "\n",
       "   pos3_int_start_distance  pos4_int_start_distance  pos5_int_start_distance  \\\n",
       "0                      113                      154                      117   \n",
       "1                      111                      152                      112   \n",
       "2                      114                      152                      116   \n",
       "3                      110                      151                      120   \n",
       "4                      114                      153                      133   \n",
       "\n",
       "   pos6_int_start_distance  pos7_int_start_distance  pos8_int_start_distance  \\\n",
       "0                      148                      293                      318   \n",
       "1                      149                      300                      321   \n",
       "2                      148                      291                      319   \n",
       "3                      150                      301                      326   \n",
       "4                      143                      298                      321   \n",
       "\n",
       "   pos9_int_start_distance  \n",
       "0                      290  \n",
       "1                      296  \n",
       "2                      291  \n",
       "3                      299  \n",
       "4                      310  \n",
       "\n",
       "[5 rows x 31 columns]"
      ]
     },
     "execution_count": 2,
     "metadata": {},
     "output_type": "execute_result"
    }
   ],
   "source": [
    "SP_df = pd.read_csv('../data/Project_Data_Files/Project_Starters.csv')\n",
    "RP_df = pd.read_csv('../data/Project_Data_Files/Project_Relievers.csv')\n",
    "CP_df = pd.read_csv('../data/Project_Data_Files/Project_Closers.csv')\n",
    "\n",
    "SP_df.head()"
   ]
  },
  {
   "cell_type": "markdown",
   "id": "46a05785",
   "metadata": {},
   "source": [
    "## Pitcher Type Data Analysis \n",
    "\n",
    "Factors we’re going to look at within and compare within each dataset:\n",
    "\n",
    "* Jonah’s Relationship/Correlation Finding__\n",
    "* Horizontal Release Point and Exit Velocity\n",
    "* Velocity and Whiffs\n",
    "\n",
    "***TEAM NOTE: IF YOU SEE OTHER TRENDS , NOTE THEM***"
   ]
  },
  {
   "cell_type": "markdown",
   "id": "285502f3",
   "metadata": {},
   "source": [
    "### Block 1: Jonah/Starters\n",
    "\n",
    "Write a blurb about starters "
   ]
  },
  {
   "cell_type": "code",
   "execution_count": 3,
   "id": "2d61d972",
   "metadata": {},
   "outputs": [
    {
     "data": {
      "text/plain": [
       "'\\nLooking at Starters\\n    Run starter dataset through code\\nLooking at Relievers\\n    Run reliever dataset through code\\nLooking at Closers\\n    Run closer dataset through code \\n'"
      ]
     },
     "execution_count": 3,
     "metadata": {},
     "output_type": "execute_result"
    }
   ],
   "source": [
    "\"\"\"\n",
    "Looking at Starters\n",
    "    Run starter dataset through code\n",
    "Looking at Relievers\n",
    "    Run reliever dataset through code\n",
    "Looking at Closers\n",
    "    Run closer dataset through code \n",
    "\"\"\" "
   ]
  },
  {
   "cell_type": "markdown",
   "id": "9a74e8cd",
   "metadata": {},
   "source": [
    "#### Compare all three\n",
    "* Which one has the best correlation?\n",
    "* What gives way to more success?\n",
    "* Who are the outliers?\n",
    "\n",
    "#### Take-Away(s)\n",
    "* Trend 1 \n",
    "* Trend 2"
   ]
  },
  {
   "cell_type": "markdown",
   "id": "9dee6742",
   "metadata": {},
   "source": [
    "### Block 2: Relievers/Hadriana (Horizontal Release Point)\n",
    "\n",
    "Write a blurb about relievers "
   ]
  },
  {
   "cell_type": "code",
   "execution_count": 4,
   "id": "0a1d9766",
   "metadata": {},
   "outputs": [
    {
     "data": {
      "text/plain": [
       "'\\nLooking at Starters\\n    Run starter dataset through code\\nLooking at Relievers\\n    Run reliever dataset through code\\nLooking at Closers\\n    Run closer dataset through code \\n'"
      ]
     },
     "execution_count": 4,
     "metadata": {},
     "output_type": "execute_result"
    }
   ],
   "source": [
    "\"\"\"\n",
    "Looking at Starters\n",
    "    Run starter dataset through code\n",
    "Looking at Relievers\n",
    "    Run reliever dataset through code\n",
    "Looking at Closers\n",
    "    Run closer dataset through code \n",
    "\"\"\" "
   ]
  },
  {
   "cell_type": "markdown",
   "id": "832ed441",
   "metadata": {},
   "source": [
    "#### Compare all three\n",
    "* Which one has the best correlation?\n",
    "* What gives way to more success?\n",
    "* Who are the outliers?\n",
    "\n",
    "#### Take-Away(s)\n",
    "* Relievers who release the ball horizontally between 3-4 feet give results to weaker contact by almost a full 2 miles per hour slower than 0-1 feet\n",
    "* Other trends?"
   ]
  },
  {
   "cell_type": "markdown",
   "id": "2d5db6d9",
   "metadata": {},
   "source": [
    "### Block 3: Closers/John (Velocity & Whiffs)\n",
    "\n",
    "Write a blurb about closers "
   ]
  },
  {
   "cell_type": "code",
   "execution_count": 5,
   "id": "9a38ad3e",
   "metadata": {},
   "outputs": [
    {
     "data": {
      "text/plain": [
       "'\\nLooking at Starters\\n    Run starter dataset through code\\nLooking at Relievers\\n    Run reliever dataset through code\\nLooking at Closers\\n    Run closer dataset through code \\n'"
      ]
     },
     "execution_count": 5,
     "metadata": {},
     "output_type": "execute_result"
    }
   ],
   "source": [
    "\"\"\"\n",
    "Looking at Starters\n",
    "    Run starter dataset through code\n",
    "Looking at Relievers\n",
    "    Run reliever dataset through code\n",
    "Looking at Closers\n",
    "    Run closer dataset through code \n",
    "\"\"\" "
   ]
  },
  {
   "cell_type": "markdown",
   "id": "31398000",
   "metadata": {},
   "source": [
    "#### Compare all three\n",
    "* Which one has the best correlation?\n",
    "* What gives way to more success?\n",
    "* Who are the outliers?\n",
    "\n",
    "#### Take-Away(s)\n",
    "* Highest correlation between velocity and whiffs exist within closers\n",
    "* Other trends?"
   ]
  },
  {
   "cell_type": "markdown",
   "id": "aa285bb8",
   "metadata": {},
   "source": [
    "## The Plot Thickens: Player Data Analysis\n",
    "\n",
    "What’s making them successful cause it’s not what usually makes their pitcher type successful?\n",
    "How are they defying the trend and still successful?\n",
    "\n",
    "***RUN EACH OF THESE TESTS FOR EACH PLAYER***\n",
    "Template for metrics to check in on:\n",
    "EX: _____ → Thus this could potentially be the reason making him successful despite being unique. \n",
    "\n",
    "***USE SAM AND KATIE’S NOTEBOOK’S AS REFERENCE***\n",
    "\n",
    "Outlying Players:\n",
    "_____ (Starter)\n",
    "_____ (Starter)\n",
    "_____ (Starter)\n",
    "Sergio Romo (?) (Reliever)\n",
    "_____ (Reliever)\n",
    "Tyler Rogers (Reliever)\n",
    "Aroldis Chapman (Closer)\n",
    "Craig Kimbrel (Closer)\n",
    "Kenley Jansen (Closer)"
   ]
  },
  {
   "cell_type": "code",
   "execution_count": 6,
   "id": "84e99aa5",
   "metadata": {},
   "outputs": [],
   "source": [
    "# Load player datasets\n",
    "\n",
    "Chapman_df = pd.read_csv('../data/Project_Data_Files/Project_AroldisChapman.csv')\n",
    "Jansen_df = pd.read_csv('../data/Project_Data_Files/Project_KenleyJansen.csv')\n",
    "Romo_df = pd.read_csv('../data/Project_Data_Files/Project_SergioRomo.csv')\n",
    "Rogers_df = pd.read_csv('../data/Project_Data_Files/Project_TylerRogers.csv')\n",
    "Kimbrel_df = pd.read_csv('../data/Project_Data_Files/ProjectCraigKimbrel.csv')"
   ]
  },
  {
   "cell_type": "code",
   "execution_count": 7,
   "id": "6e63db68",
   "metadata": {},
   "outputs": [
    {
     "data": {
      "image/png": "[encoded data removed]",
      "text/plain": [
       "<Figure size 432x288 with 1 Axes>"
      ]
     },
     "metadata": {},
     "output_type": "display_data"
    },
    {
     "data": {
      "image/png": "[encoded data removed]",
      "text/plain": [
       "<Figure size 432x288 with 1 Axes>"
      ]
     },
     "metadata": {},
     "output_type": "display_data"
    },
    {
     "data": {
      "image/png": "[encoded data removed]",
      "text/plain": [
       "<Figure size 432x288 with 1 Axes>"
      ]
     },
     "metadata": {},
     "output_type": "display_data"
    },
    {
     "data": {
      "image/png": "[encoded data removed]",
      "text/plain": [
       "<Figure size 432x288 with 1 Axes>"
      ]
     },
     "metadata": {},
     "output_type": "display_data"
    },
    {
     "data": {
      "image/png": "[encoded data removed]",
      "text/plain": [
       "<Figure size 432x288 with 1 Axes>"
      ]
     },
     "metadata": {},
     "output_type": "display_data"
    }
   ],
   "source": [
    "# Check pitch type [KATIE]\n",
    "\n",
    "###########\n",
    "# CHAPMAN #\n",
    "###########\n",
    "chap_pitch_type_vals = Chapman_df[\"pitch_type\"].value_counts()\n",
    "chap_pitch_types = Chapman_df[\"pitch_type\"].unique()\n",
    "\n",
    "chap_plot = plt.pie(chap_pitch_type_vals, labels = chap_pitch_types, autopct='%1.2f%%')\n",
    "plt.title('Pitch Type Distribution of Chapman')\n",
    "plt.legend(title = \"Pitch Types\")\n",
    "plt.show()\n",
    "\n",
    "##########\n",
    "# JANSEN #\n",
    "##########\n",
    "jan_pitch_type_vals = Jansen_df[\"pitch_type\"].value_counts()\n",
    "jan_pitch_types = Jansen_df[\"pitch_type\"].unique()\n",
    "\n",
    "jan_plot = plt.pie(jan_pitch_type_vals, labels = jan_pitch_types, autopct='%1.2f%%')\n",
    "plt.title('Pitch Type Distribution of Jansen')\n",
    "plt.legend(title = \"Pitch Types\")\n",
    "plt.show()\n",
    "\n",
    "########\n",
    "# ROMO #\n",
    "########\n",
    "romo_pitch_type_vals = Jansen_df[\"pitch_type\"].value_counts()\n",
    "romo_pitch_types = Jansen_df[\"pitch_type\"].unique()\n",
    "\n",
    "romo_plot = plt.pie(romo_pitch_type_vals, labels = romo_pitch_types, autopct='%1.2f%%')\n",
    "plt.title('Pitch Type Distribution of Romo')\n",
    "plt.legend(title = \"Pitch Types\")\n",
    "plt.show()\n",
    "\n",
    "##########\n",
    "# ROGERS #\n",
    "##########\n",
    "rog_pitch_type_vals = Rogers_df[\"pitch_type\"].value_counts()\n",
    "rog_pitch_types = Rogers_df[\"pitch_type\"].unique()\n",
    "\n",
    "rog_plot = plt.pie(rog_pitch_type_vals, labels = rog_pitch_types, autopct='%1.2f%%')\n",
    "plt.title('Pitch Type Distribution of Rogers')\n",
    "plt.legend(title = \"Pitch Types\")\n",
    "plt.show()\n",
    "\n",
    "###########\n",
    "# KIMBREL #\n",
    "###########\n",
    "kim_filter = Kimbrel_df['pitch_type'].isna() == False \n",
    "kim_df = Kimbrel_df[kim_filter]\n",
    "\n",
    "kim_pitch_type_vals = kim_df[\"pitch_type\"].value_counts()\n",
    "kim_pitch_types = kim_df[\"pitch_type\"].unique()\n",
    "\n",
    "kim_plot = plt.pie(kim_pitch_type_vals, labels = kim_pitch_types, autopct='%1.2f%%')\n",
    "plt.title('Pitch Type Distribution of Kimbrel')\n",
    "plt.legend(title = \"Pitch Types\")\n",
    "plt.show()"
   ]
  },
  {
   "cell_type": "markdown",
   "id": "bddab836",
   "metadata": {},
   "source": [
    "<div class=\"alert alert-warning\">\n",
    "\n",
    "#### Aaaaaaah! Lets not use pie charts for something like this!\n",
    "  \n",
    "* Although common there are very few places where pie charts communicate very clearly there are much better and more concise options\n",
    "    \n",
    "* Instead you can use a stacked bar plot with one column per player\n",
    "    \n",
    "\n",
    "  \n",
    "</div>"
   ]
  },
  {
   "cell_type": "code",
   "execution_count": 39,
   "id": "2c52da3d",
   "metadata": {},
   "outputs": [],
   "source": [
    "\n",
    "players = ['Chapman', 'Jansen', 'Romo', 'Rogers', 'Kimbrel']\n",
    "player_dfs = [Chapman_df, Jansen_df, Romo_df, Rogers_df, Kimbrel_df]\n",
    "\n",
    "pitch_data = []\n",
    "for player, pdf in zip(players, player_dfs):\n",
    "        df=pdf[\"pitch_type\"].value_counts(normalize=True).to_frame()\n",
    "        df['player']=player\n",
    "        pitch_data.append(df)\n",
    "\n",
    "pitch_data_df = pd.concat(pitch_data)\n",
    "\n",
    "pitch_data_df=pitch_data_df.reset_index()\n",
    "pitch_data_df.rename(columns={'index': 'pitch_type',\n",
    "                              'pitch_type': 'value'}, inplace=True)\n"
   ]
  },
  {
   "cell_type": "code",
   "execution_count": 40,
   "id": "e0ace113",
   "metadata": {},
   "outputs": [],
   "source": [
    "pitch_by_player=pitch_data_df.pivot(index='player', columns='pitch_type', values='value')"
   ]
  },
  {
   "cell_type": "code",
   "execution_count": 44,
   "id": "d31cf68e",
   "metadata": {},
   "outputs": [
    {
     "data": {
      "image/png": "[encoded data removed]",
      "text/plain": [
       "<Figure size 432x288 with 1 Axes>"
      ]
     },
     "metadata": {
      "needs_background": "light"
     },
     "output_type": "display_data"
    }
   ],
   "source": [
    "pitch_by_player.plot(kind='barh', \n",
    "                     stacked=True)\n",
    "plt.legend(loc='center left', bbox_to_anchor=(1, 0.5))\n",
    "plt.show()"
   ]
  },
  {
   "cell_type": "code",
   "execution_count": 135,
   "id": "9b27f339",
   "metadata": {},
   "outputs": [
    {
     "name": "stdout",
     "output_type": "stream",
     "text": [
      "6.07    40\n",
      "6.08    40\n",
      "6.05    37\n",
      "6.11    37\n",
      "6.06    36\n",
      "        ..\n",
      "6.42     1\n",
      "6.38     1\n",
      "6.44     1\n",
      "5.82     1\n",
      "5.79     1\n",
      "Name: release_pos_z, Length: 62, dtype: int64\n"
     ]
    },
    {
     "data": {
      "image/png": "[encoded data removed]",
      "text/plain": [
       "<Figure size 432x288 with 1 Axes>"
      ]
     },
     "metadata": {
      "needs_background": "light"
     },
     "output_type": "display_data"
    }
   ],
   "source": [
    "# Check vertical release point - Katie\n",
    "\n",
    "###########\n",
    "# CHAPMAN #\n",
    "###########\n",
    "chap_release_vals = Chapman_df[\"release_pos_z\"].value_counts()\n",
    "chap_release_types = Chapman_df[\"release_pos_z\"].unique()\n",
    "print(chap_release_vals)\n",
    "chap_plot = plt.scatter(x=10, y=40, data=chap_release_vals)\n",
    "plt.title('Pitch Type Distribution of Chapman')\n",
    "#plt.legend(title = \"Pitch Types\")\n",
    "plt.show()"
   ]
  },
  {
   "cell_type": "code",
   "execution_count": null,
   "id": "81646bc2",
   "metadata": {},
   "outputs": [],
   "source": [
    "# Strike throwing percentage - Sam"
   ]
  },
  {
   "cell_type": "code",
   "execution_count": 15,
   "id": "100f80d3",
   "metadata": {},
   "outputs": [],
   "source": [
    "# Length of at-bat - Sam"
   ]
  },
  {
   "cell_type": "markdown",
   "id": "d1d64b98",
   "metadata": {},
   "source": [
    "## Conclusion \n",
    "\n",
    "Conclusion here"
   ]
  },
  {
   "cell_type": "code",
   "execution_count": 45,
   "id": "24d7761d",
   "metadata": {},
   "outputs": [
    {
     "name": "stdout",
     "output_type": "stream",
     "text": [
      "total 12896\r\n",
      "-rw-rw-rw- 1 hlowenkron    hlowenkron    6422864 Nov 15 22:29 'Data collection and initial exploration.ipynb'\r\n",
      "-rw-rw-rw- 1 katie-collier katie-collier  120815 Dec  1 18:50 'Final Cleaned Notebook.ipynb'\r\n",
      "-rw-rw-rw- 1 hlowenkron    hlowenkron      55414 Nov 24 15:19 'Hadriana - Assignment Step 2.ipynb'\r\n",
      "-rw-rw-rw- 1 hlowenkron    hlowenkron     189520 Nov 18 21:21 'Hadriana - Relief data collection and initial exploration.ipynb'\r\n",
      "-rw-rw-rw- 1 jreum7        jreum7          74728 Nov 24 06:21 'John Reum - Assignment Step 2.ipynb'\r\n",
      "-rw-rw-rw- 1 jreum7        jreum7        3857605 Nov 24 06:07 'John Reum - Closers data collection and initial exploration.ipynb'\r\n",
      "-rw-rw-rw- 1 jonahcharlton jonahcharlton  456581 Nov 22 21:51 'Jonah - Starters data collection and initial exploration.ipynb'\r\n",
      "-rw-rw-rw- 1 katie-collier katie-collier 1543188 Nov 18 19:25 'Katie - PlayerData (Ralph) - Data collection and initial exploration.ipynb'\r\n",
      "-rw-rw-rw- 1 katie-collier katie-collier   40529 Nov 23 00:57  Katie_Step2.ipynb\r\n",
      "-rw-rw-rw- 1 sampasco2024  sampasco2024    22570 Nov 22 21:13 'Mega Group Copy Data Collection & Initial Exploration.ipynb'\r\n",
      "-rwxrwxrwx 1 mbod          mbod              259 Nov  9 20:22  \u001b[0m\u001b[01;32mREADME.md\u001b[0m*\r\n",
      "-rw-rw-rw- 1 sampasco2024  sampasco2024   206402 Nov 30 19:11  Sam_Group_Step_2.ipynb\r\n",
      "-rw-rw-rw- 1 sampasco2024  sampasco2024   174381 Nov 22 21:44 'Sam - Player Data (Tyler Rogers) Data Collection & Initial Exploration.ipynb'\r\n",
      "-rw-rw-rw- 1 sampasco2024  sampasco2024    36862 Nov 13 22:13  SP_df.csv\r\n"
     ]
    }
   ],
   "source": [
    "ls -l"
   ]
  },
  {
   "cell_type": "code",
   "execution_count": null,
   "id": "92a619bc",
   "metadata": {},
   "outputs": [],
   "source": []
  }
 ],
 "metadata": {
  "kernelspec": {
   "display_name": "Python 3 (COMM318)",
   "language": "python",
   "name": "python3"
  },
  "language_info": {
   "codemirror_mode": {
    "name": "ipython",
    "version": 3
   },
   "file_extension": ".py",
   "mimetype": "text/x-python",
   "name": "python",
   "nbconvert_exporter": "python",
   "pygments_lexer": "ipython3",
   "version": "3.8.8"
  }
 },
 "nbformat": 4,
 "nbformat_minor": 5
}
