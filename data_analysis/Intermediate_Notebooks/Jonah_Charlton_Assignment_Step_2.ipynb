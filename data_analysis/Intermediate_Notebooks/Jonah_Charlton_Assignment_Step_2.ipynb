{
 "cells": [
  {
   "cell_type": "markdown",
   "id": "09921d3d",
   "metadata": {},
   "source": [
    "# The \"Perfect\" Release Point: Step 2 Analysis for MLB Starting Pitchers\n",
    "### By: Jonah Charlton"
   ]
  },
  {
   "cell_type": "markdown",
   "id": "2fd6b5c2",
   "metadata": {},
   "source": [
    "## The first thing we want to look at is the relationships and patterns that make an MLB starting pitchers effective and dominant."
   ]
  },
  {
   "cell_type": "markdown",
   "id": "4e97f708",
   "metadata": {},
   "source": [
    "## Step 1. Setup and importing the data and codebooks"
   ]
  },
  {
   "cell_type": "code",
   "execution_count": 1,
   "id": "2b39ec13",
   "metadata": {},
   "outputs": [],
   "source": [
    "import matplotlib.pyplot as plt\n",
    "import pandas as pd\n",
    "import geopandas as gpd\n",
    "from shapely.geometry import Point\n",
    "from IPython.display import HTML, Markdown, display\n",
    "import seaborn as sns\n",
    "import numpy as np\n",
    "import shapely\n",
    "import json\n",
    "import plotly"
   ]
  },
  {
   "cell_type": "code",
   "execution_count": 76,
   "id": "76322162",
   "metadata": {},
   "outputs": [
    {
     "data": {
      "text/html": [
       "<div>\n",
       "<style scoped>\n",
       "    .dataframe tbody tr th:only-of-type {\n",
       "        vertical-align: middle;\n",
       "    }\n",
       "\n",
       "    .dataframe tbody tr th {\n",
       "        vertical-align: top;\n",
       "    }\n",
       "\n",
       "    .dataframe thead th {\n",
       "        text-align: right;\n",
       "    }\n",
       "</style>\n",
       "<table border=\"1\" class=\"dataframe\">\n",
       "  <thead>\n",
       "    <tr style=\"text-align: right;\">\n",
       "      <th></th>\n",
       "      <th>pitches</th>\n",
       "      <th>player_id</th>\n",
       "      <th>player_name</th>\n",
       "      <th>total_pitches</th>\n",
       "      <th>pitch_percent</th>\n",
       "      <th>ba</th>\n",
       "      <th>iso</th>\n",
       "      <th>babip</th>\n",
       "      <th>slg</th>\n",
       "      <th>woba</th>\n",
       "      <th>xwoba</th>\n",
       "      <th>xba</th>\n",
       "      <th>hits</th>\n",
       "      <th>abs</th>\n",
       "      <th>launch_speed</th>\n",
       "      <th>launch_angle</th>\n",
       "      <th>spin_rate</th>\n",
       "      <th>velocity</th>\n",
       "      <th>effective_speed</th>\n",
       "      <th>whiffs</th>\n",
       "      <th>swings</th>\n",
       "      <th>takes</th>\n",
       "      <th>eff_min_vel</th>\n",
       "      <th>release_extension</th>\n",
       "      <th>pos3_int_start_distance</th>\n",
       "      <th>pos4_int_start_distance</th>\n",
       "      <th>pos5_int_start_distance</th>\n",
       "      <th>pos6_int_start_distance</th>\n",
       "      <th>pos7_int_start_distance</th>\n",
       "      <th>pos8_int_start_distance</th>\n",
       "      <th>pos9_int_start_distance</th>\n",
       "      <th>horizontal_release_point</th>\n",
       "      <th>vertical_release_point</th>\n",
       "    </tr>\n",
       "  </thead>\n",
       "  <tbody>\n",
       "    <tr>\n",
       "      <th>0</th>\n",
       "      <td>1893</td>\n",
       "      <td>571760</td>\n",
       "      <td>Heaney, Andrew</td>\n",
       "      <td>2330</td>\n",
       "      <td>81.2</td>\n",
       "      <td>0.236</td>\n",
       "      <td>0.231</td>\n",
       "      <td>0.273</td>\n",
       "      <td>0.467</td>\n",
       "      <td>0.327</td>\n",
       "      <td>0.295</td>\n",
       "      <td>0.214</td>\n",
       "      <td>95</td>\n",
       "      <td>403</td>\n",
       "      <td>88.9</td>\n",
       "      <td>18.6</td>\n",
       "      <td>2399</td>\n",
       "      <td>87.6</td>\n",
       "      <td>87.03</td>\n",
       "      <td>265</td>\n",
       "      <td>916</td>\n",
       "      <td>977</td>\n",
       "      <td>-0.6</td>\n",
       "      <td>6.11</td>\n",
       "      <td>111</td>\n",
       "      <td>155</td>\n",
       "      <td>118</td>\n",
       "      <td>147</td>\n",
       "      <td>303</td>\n",
       "      <td>325</td>\n",
       "      <td>293</td>\n",
       "      <td>3.41</td>\n",
       "      <td>5.31</td>\n",
       "    </tr>\n",
       "    <tr>\n",
       "      <th>1</th>\n",
       "      <td>2566</td>\n",
       "      <td>640455</td>\n",
       "      <td>Manaea, Sean</td>\n",
       "      <td>2980</td>\n",
       "      <td>86.1</td>\n",
       "      <td>0.256</td>\n",
       "      <td>0.157</td>\n",
       "      <td>0.324</td>\n",
       "      <td>0.414</td>\n",
       "      <td>0.309</td>\n",
       "      <td>0.316</td>\n",
       "      <td>0.256</td>\n",
       "      <td>153</td>\n",
       "      <td>597</td>\n",
       "      <td>89.9</td>\n",
       "      <td>12.3</td>\n",
       "      <td>1848</td>\n",
       "      <td>89.0</td>\n",
       "      <td>90.03</td>\n",
       "      <td>364</td>\n",
       "      <td>1317</td>\n",
       "      <td>1249</td>\n",
       "      <td>1.0</td>\n",
       "      <td>7.18</td>\n",
       "      <td>110</td>\n",
       "      <td>151</td>\n",
       "      <td>120</td>\n",
       "      <td>150</td>\n",
       "      <td>301</td>\n",
       "      <td>326</td>\n",
       "      <td>299</td>\n",
       "      <td>3.31</td>\n",
       "      <td>5.65</td>\n",
       "    </tr>\n",
       "    <tr>\n",
       "      <th>2</th>\n",
       "      <td>1971</td>\n",
       "      <td>518516</td>\n",
       "      <td>Bumgarner, Madison</td>\n",
       "      <td>2294</td>\n",
       "      <td>85.9</td>\n",
       "      <td>0.247</td>\n",
       "      <td>0.192</td>\n",
       "      <td>0.280</td>\n",
       "      <td>0.439</td>\n",
       "      <td>0.315</td>\n",
       "      <td>0.322</td>\n",
       "      <td>0.247</td>\n",
       "      <td>116</td>\n",
       "      <td>469</td>\n",
       "      <td>88.6</td>\n",
       "      <td>18.8</td>\n",
       "      <td>2318</td>\n",
       "      <td>85.7</td>\n",
       "      <td>85.77</td>\n",
       "      <td>215</td>\n",
       "      <td>970</td>\n",
       "      <td>1001</td>\n",
       "      <td>0.1</td>\n",
       "      <td>6.55</td>\n",
       "      <td>109</td>\n",
       "      <td>153</td>\n",
       "      <td>118</td>\n",
       "      <td>149</td>\n",
       "      <td>300</td>\n",
       "      <td>327</td>\n",
       "      <td>296</td>\n",
       "      <td>3.26</td>\n",
       "      <td>5.70</td>\n",
       "    </tr>\n",
       "    <tr>\n",
       "      <th>3</th>\n",
       "      <td>2306</td>\n",
       "      <td>669373</td>\n",
       "      <td>Skubal, Tarik</td>\n",
       "      <td>2547</td>\n",
       "      <td>90.5</td>\n",
       "      <td>0.237</td>\n",
       "      <td>0.239</td>\n",
       "      <td>0.269</td>\n",
       "      <td>0.477</td>\n",
       "      <td>0.329</td>\n",
       "      <td>0.355</td>\n",
       "      <td>0.263</td>\n",
       "      <td>122</td>\n",
       "      <td>514</td>\n",
       "      <td>90.0</td>\n",
       "      <td>14.3</td>\n",
       "      <td>2033</td>\n",
       "      <td>89.5</td>\n",
       "      <td>89.16</td>\n",
       "      <td>305</td>\n",
       "      <td>1134</td>\n",
       "      <td>1172</td>\n",
       "      <td>-0.3</td>\n",
       "      <td>6.21</td>\n",
       "      <td>107</td>\n",
       "      <td>153</td>\n",
       "      <td>118</td>\n",
       "      <td>148</td>\n",
       "      <td>301</td>\n",
       "      <td>327</td>\n",
       "      <td>297</td>\n",
       "      <td>2.97</td>\n",
       "      <td>6.34</td>\n",
       "    </tr>\n",
       "    <tr>\n",
       "      <th>4</th>\n",
       "      <td>2155</td>\n",
       "      <td>642232</td>\n",
       "      <td>Yarbrough, Ryan</td>\n",
       "      <td>2488</td>\n",
       "      <td>86.6</td>\n",
       "      <td>0.282</td>\n",
       "      <td>0.207</td>\n",
       "      <td>0.310</td>\n",
       "      <td>0.489</td>\n",
       "      <td>0.344</td>\n",
       "      <td>0.332</td>\n",
       "      <td>0.279</td>\n",
       "      <td>147</td>\n",
       "      <td>521</td>\n",
       "      <td>83.9</td>\n",
       "      <td>16.5</td>\n",
       "      <td>2081</td>\n",
       "      <td>79.6</td>\n",
       "      <td>79.49</td>\n",
       "      <td>224</td>\n",
       "      <td>1052</td>\n",
       "      <td>1103</td>\n",
       "      <td>-0.1</td>\n",
       "      <td>6.63</td>\n",
       "      <td>105</td>\n",
       "      <td>152</td>\n",
       "      <td>116</td>\n",
       "      <td>149</td>\n",
       "      <td>299</td>\n",
       "      <td>322</td>\n",
       "      <td>291</td>\n",
       "      <td>2.93</td>\n",
       "      <td>5.12</td>\n",
       "    </tr>\n",
       "  </tbody>\n",
       "</table>\n",
       "</div>"
      ],
      "text/plain": [
       "   pitches  player_id         player_name  total_pitches  pitch_percent  \\\n",
       "0     1893     571760      Heaney, Andrew           2330           81.2   \n",
       "1     2566     640455        Manaea, Sean           2980           86.1   \n",
       "2     1971     518516  Bumgarner, Madison           2294           85.9   \n",
       "3     2306     669373       Skubal, Tarik           2547           90.5   \n",
       "4     2155     642232     Yarbrough, Ryan           2488           86.6   \n",
       "\n",
       "      ba    iso  babip    slg   woba  xwoba    xba  hits  abs  launch_speed  \\\n",
       "0  0.236  0.231  0.273  0.467  0.327  0.295  0.214    95  403          88.9   \n",
       "1  0.256  0.157  0.324  0.414  0.309  0.316  0.256   153  597          89.9   \n",
       "2  0.247  0.192  0.280  0.439  0.315  0.322  0.247   116  469          88.6   \n",
       "3  0.237  0.239  0.269  0.477  0.329  0.355  0.263   122  514          90.0   \n",
       "4  0.282  0.207  0.310  0.489  0.344  0.332  0.279   147  521          83.9   \n",
       "\n",
       "   launch_angle  spin_rate  velocity  effective_speed  whiffs  swings  takes  \\\n",
       "0          18.6       2399      87.6            87.03     265     916    977   \n",
       "1          12.3       1848      89.0            90.03     364    1317   1249   \n",
       "2          18.8       2318      85.7            85.77     215     970   1001   \n",
       "3          14.3       2033      89.5            89.16     305    1134   1172   \n",
       "4          16.5       2081      79.6            79.49     224    1052   1103   \n",
       "\n",
       "   eff_min_vel  release_extension  pos3_int_start_distance  \\\n",
       "0         -0.6               6.11                      111   \n",
       "1          1.0               7.18                      110   \n",
       "2          0.1               6.55                      109   \n",
       "3         -0.3               6.21                      107   \n",
       "4         -0.1               6.63                      105   \n",
       "\n",
       "   pos4_int_start_distance  pos5_int_start_distance  pos6_int_start_distance  \\\n",
       "0                      155                      118                      147   \n",
       "1                      151                      120                      150   \n",
       "2                      153                      118                      149   \n",
       "3                      153                      118                      148   \n",
       "4                      152                      116                      149   \n",
       "\n",
       "   pos7_int_start_distance  pos8_int_start_distance  pos9_int_start_distance  \\\n",
       "0                      303                      325                      293   \n",
       "1                      301                      326                      299   \n",
       "2                      300                      327                      296   \n",
       "3                      301                      327                      297   \n",
       "4                      299                      322                      291   \n",
       "\n",
       "   horizontal_release_point  vertical_release_point  \n",
       "0                      3.41                    5.31  \n",
       "1                      3.31                    5.65  \n",
       "2                      3.26                    5.70  \n",
       "3                      2.97                    6.34  \n",
       "4                      2.93                    5.12  "
      ]
     },
     "execution_count": 76,
     "metadata": {},
     "output_type": "execute_result"
    }
   ],
   "source": [
    "pd.set_option('display.max_columns', None)\n",
    "cleanSP_df = pd.read_csv('../data/Project_Data_Files/Project_Starters.csv')\n",
    "cleanSP_df.head()"
   ]
  },
  {
   "cell_type": "markdown",
   "id": "7cfcedb3",
   "metadata": {},
   "source": [
    "## Table of Contents:\n",
    "\n",
    "**Block 1** - What are the top 5 starters with the highest release extension (ft)?\n",
    "\n",
    "**Block 2** - What percentage of starters have a batting average of opponents that is .220 or less?\n",
    "\n",
    "**Block 3** - How many starters have a vertical release extension above 6.5 ft and produce a batting average at or below .220? What is average batting average against of starters with a vertical release extension above 6.5 ft? \n",
    "\n",
    "**Block 4** - Investigate the top five starters that have the high vertical release extension and also create the lowest batting average against. Is there a relationship between the two metrics?\n",
    "\n",
    "**Block 5** -What is the relationship between release extensions 6.5 and over and whiffs?\n"
   ]
  },
  {
   "cell_type": "markdown",
   "id": "bf807375",
   "metadata": {},
   "source": [
    "# Block 1"
   ]
  },
  {
   "cell_type": "markdown",
   "id": "fb4de691",
   "metadata": {},
   "source": [
    "### Question: What are the top 5 starters with the highest release extension (ft)?\n",
    "\n",
    "### Steps:\n",
    "\n",
    "* Order player names by their release extension \n",
    "* Use the head function to retrieve the top 5 starters\n",
    "* Run the list"
   ]
  },
  {
   "cell_type": "code",
   "execution_count": 41,
   "id": "415bd548",
   "metadata": {
    "scrolled": true
   },
   "outputs": [
    {
     "data": {
      "text/plain": [
       "player_name\n",
       "Gilbert, Logan    7.41\n",
       "Ober, Bailey      7.33\n",
       "Glasnow, Tyler    7.30\n",
       "Megill, Tylor     7.21\n",
       "Manaea, Sean      7.18\n",
       "Name: release_extension, dtype: float64"
      ]
     },
     "execution_count": 41,
     "metadata": {},
     "output_type": "execute_result"
    }
   ],
   "source": [
    "# Order dataframe by player name and sort from highest to lowest release extension\n",
    "release_order = cleanSP_df.groupby('player_name')['release_extension'].mean().sort_values(ascending=False)\n",
    "\n",
    "# Run the top 5 of the list, which will return the 5 pitchers\n",
    "highest_release = release_order\n",
    "highest_release.head()"
   ]
  },
  {
   "cell_type": "markdown",
   "id": "c6bbcacf",
   "metadata": {},
   "source": [
    "### ANSWER: \n",
    "\n",
    "The five starters that have the highest release extension in the MLB 2021 season are Logan Gilbert, Bailey Ober, Tyler Glasnow, Tylor Megill, and Sean Manaea."
   ]
  },
  {
   "cell_type": "markdown",
   "id": "2894c2b2",
   "metadata": {},
   "source": [
    "### INTERPRETATION/OBSERVATION:\n",
    "\n",
    "It is critical to establish a baseline of the starters with the heighest release extension. These names are likely to appear in other calculations as we look into for the following areas."
   ]
  },
  {
   "cell_type": "markdown",
   "id": "348651e5",
   "metadata": {},
   "source": [
    "# Block 2"
   ]
  },
  {
   "cell_type": "markdown",
   "id": "9ed837e2",
   "metadata": {},
   "source": [
    "### Question: What percentage of starters have a batting average of opponents that is .220 or less?\n",
    "\n",
    "### Steps:\n",
    "\n",
    "* Create filter for batting average at and below .220\n",
    "* Subset the data for those players with that filter and sort by batting average\n",
    "* Calculate percent of that number of players out of the total number of players"
   ]
  },
  {
   "cell_type": "code",
   "execution_count": 42,
   "id": "7a31009e",
   "metadata": {},
   "outputs": [
    {
     "data": {
      "text/plain": [
       "player_name\n",
       "Peralta, Freddy    0.155\n",
       "Bauer, Trevor      0.161\n",
       "Glasnow, Tyler     0.176\n",
       "Manoah, Alek       0.182\n",
       "Burnes, Corbin     0.182\n",
       "Name: ba, dtype: float64"
      ]
     },
     "execution_count": 42,
     "metadata": {},
     "output_type": "execute_result"
    }
   ],
   "source": [
    "# Create a filter for .235 batting average and below\n",
    "ba_filter = cleanSP_df['ba'] <= .220\n",
    "\n",
    "# Subset the data for those players based on the filter, sort by batting average\n",
    "ba_220_below = cleanSP_df[ba_filter].groupby('player_name')['ba'].mean().sort_values(ascending=True)\n",
    "ba_220_below.head()"
   ]
  },
  {
   "cell_type": "markdown",
   "id": "1ac5a29a",
   "metadata": {},
   "source": [
    "#### _A note_\n",
    "It is worth pointing out that Tyler Glasnow is in both the highest release extension as well as the lowest batting average against."
   ]
  },
  {
   "cell_type": "code",
   "execution_count": 43,
   "id": "81ad8d4a",
   "metadata": {},
   "outputs": [
    {
     "data": {
      "text/plain": [
       "20.606060606060606"
      ]
     },
     "execution_count": 43,
     "metadata": {},
     "output_type": "execute_result"
    }
   ],
   "source": [
    "# Calculate percent of that number of players out of the total number of players in the dataframe\n",
    "ba220percentage = ((len(ba_220_below))/(len(cleanSP_df)))*100\n",
    "ba220percentage"
   ]
  },
  {
   "cell_type": "markdown",
   "id": "074e2b11",
   "metadata": {},
   "source": [
    "### ANSWER: \n",
    "\n",
    "* 20.6% of the starters within the dataset produce opponents with a batting average of .235 or less."
   ]
  },
  {
   "cell_type": "markdown",
   "id": "5e76a200",
   "metadata": {},
   "source": [
    "### INTERPRETATION/OBSERVATION:\n",
    "\n",
    "After observing the percentage of pitchers that have the lowest opponent batting averages, we can further investigate why the top 20% or so of the dataset produce such low batting averages."
   ]
  },
  {
   "cell_type": "markdown",
   "id": "fcc2ab09",
   "metadata": {},
   "source": [
    "# Block 3"
   ]
  },
  {
   "cell_type": "markdown",
   "id": "586cd0b6",
   "metadata": {},
   "source": [
    "### Question: How many starters have a vertical release extension above 6.5 ft and produce a batting average at or below .220? What is average batting average against of starters with a vertical release extension above 6.5 ft? \n",
    "\n",
    "### Steps:\n",
    "\n",
    "* Create filters where the vertical release extension is above 6.5 ft and batting average against below .220\n",
    "* Subset the data to run the players within that filter and sort that list by release extension"
   ]
  },
  {
   "cell_type": "code",
   "execution_count": 30,
   "id": "7a93d0d5",
   "metadata": {},
   "outputs": [
    {
     "name": "stdout",
     "output_type": "stream",
     "text": [
      "The number of starters that have a vertical release extension > 6.5 ft and batting average against at or below .220\n",
      "-------------------------------------------------------------------------------------------------------------------\n"
     ]
    },
    {
     "data": {
      "text/plain": [
       "10"
      ]
     },
     "execution_count": 30,
     "metadata": {},
     "output_type": "execute_result"
    }
   ],
   "source": [
    "# Create filter where the vertical release extension is above 6.5 ft and for batting average below .220\n",
    "above_relext_filters = cleanSP_df[(cleanSP_df['release_extension'] > 6.5) & (cleanSP_df['ba'] <= .220)]\n",
    "\n",
    "# Group the pitch_filters by players and use the count function\n",
    "starters_count = above_relext_filters['player_name'].count()\n",
    "\n",
    "title = 'The number of starters that have a vertical release extension > 6.5 ft and batting average against at or below .220'\n",
    "print(title)\n",
    "print('-'*len(title))\n",
    "starters_count\n"
   ]
  },
  {
   "cell_type": "code",
   "execution_count": 34,
   "id": "f5f3b826",
   "metadata": {},
   "outputs": [
    {
     "name": "stdout",
     "output_type": "stream",
     "text": [
      "Average batting average against for starters with a vertical release extension above 6.5 ft\n",
      "-------------------------------------------------------------------------------------------\n"
     ]
    },
    {
     "data": {
      "text/plain": [
       "0.2413888888888889"
      ]
     },
     "execution_count": 34,
     "metadata": {},
     "output_type": "execute_result"
    }
   ],
   "source": [
    "# Create another filter where vertical release extension is at and above 6.5 ft\n",
    "new_above_relext_filters = cleanSP_df['release_extension'] > 6.5\n",
    "\n",
    "# Subset the data for those players based on the filter, sort by batting average and use the mean function to find the average\n",
    "below_ba_avg = cleanSP_df[new_above_relext_filters]['ba'].mean()\n",
    "\n",
    "title1='Average batting average against for starters with a vertical release extension above 6.5 ft'\n",
    "print(title1)\n",
    "print('-'*len(title1))\n",
    "below_ba_avg\n"
   ]
  },
  {
   "cell_type": "markdown",
   "id": "17382200",
   "metadata": {},
   "source": [
    "### ANSWER:\n",
    "\n",
    "There are 10 starting pitchers pitchers who have a vertical release point above 6.5 ft an also have a batting average against of less than .220 The average batting average against of a starting pitcher that has a release extension of above 6.5 is .241, much higher than these 10 \"elite\" pitchers."
   ]
  },
  {
   "cell_type": "markdown",
   "id": "dea37b64",
   "metadata": {},
   "source": [
    "### INTERPRETATION/OBSERVATION: "
   ]
  },
  {
   "cell_type": "markdown",
   "id": "b6384724",
   "metadata": {},
   "source": [
    "We see that a specific relationship for these 10 pitchers' success is clearly something that matters. Now we will focus on these 10 pitchers, and even the upper echelon 5 pitchers."
   ]
  },
  {
   "cell_type": "markdown",
   "id": "8bf0785b",
   "metadata": {},
   "source": [
    "# Block 4"
   ]
  },
  {
   "cell_type": "markdown",
   "id": "3eb8881a",
   "metadata": {},
   "source": [
    "### Question: Investigate the top five starters that have the high vertical release extension and also create the lowest batting average against. Is there a relationship between the two metrics?\n",
    "### Steps:\n",
    "\n",
    "* Identify the top 5 starters from the last step with the highest release extensions\n",
    "* Create a function within the subset that sorts the values by release extension and returns only the top 5 pitchers\n",
    "* Plot the findings"
   ]
  },
  {
   "cell_type": "code",
   "execution_count": 142,
   "id": "7a01cb4f",
   "metadata": {},
   "outputs": [
    {
     "data": {
      "text/html": [
       "<div>\n",
       "<style scoped>\n",
       "    .dataframe tbody tr th:only-of-type {\n",
       "        vertical-align: middle;\n",
       "    }\n",
       "\n",
       "    .dataframe tbody tr th {\n",
       "        vertical-align: top;\n",
       "    }\n",
       "\n",
       "    .dataframe thead th {\n",
       "        text-align: right;\n",
       "    }\n",
       "</style>\n",
       "<table border=\"1\" class=\"dataframe\">\n",
       "  <thead>\n",
       "    <tr style=\"text-align: right;\">\n",
       "      <th></th>\n",
       "      <th>pitches</th>\n",
       "      <th>player_id</th>\n",
       "      <th>player_name</th>\n",
       "      <th>total_pitches</th>\n",
       "      <th>pitch_percent</th>\n",
       "      <th>ba</th>\n",
       "      <th>iso</th>\n",
       "      <th>babip</th>\n",
       "      <th>slg</th>\n",
       "      <th>woba</th>\n",
       "      <th>xwoba</th>\n",
       "      <th>xba</th>\n",
       "      <th>hits</th>\n",
       "      <th>abs</th>\n",
       "      <th>launch_speed</th>\n",
       "      <th>launch_angle</th>\n",
       "      <th>spin_rate</th>\n",
       "      <th>velocity</th>\n",
       "      <th>effective_speed</th>\n",
       "      <th>whiffs</th>\n",
       "      <th>swings</th>\n",
       "      <th>takes</th>\n",
       "      <th>eff_min_vel</th>\n",
       "      <th>release_extension</th>\n",
       "      <th>pos3_int_start_distance</th>\n",
       "      <th>pos4_int_start_distance</th>\n",
       "      <th>pos5_int_start_distance</th>\n",
       "      <th>pos6_int_start_distance</th>\n",
       "      <th>pos7_int_start_distance</th>\n",
       "      <th>pos8_int_start_distance</th>\n",
       "      <th>pos9_int_start_distance</th>\n",
       "    </tr>\n",
       "  </thead>\n",
       "  <tbody>\n",
       "    <tr>\n",
       "      <th>157</th>\n",
       "      <td>1047</td>\n",
       "      <td>607192</td>\n",
       "      <td>Glasnow, Tyler</td>\n",
       "      <td>1339</td>\n",
       "      <td>78.2</td>\n",
       "      <td>0.176</td>\n",
       "      <td>0.131</td>\n",
       "      <td>0.257</td>\n",
       "      <td>0.306</td>\n",
       "      <td>0.240</td>\n",
       "      <td>0.241</td>\n",
       "      <td>0.175</td>\n",
       "      <td>43</td>\n",
       "      <td>245</td>\n",
       "      <td>90.8</td>\n",
       "      <td>11.9</td>\n",
       "      <td>2599</td>\n",
       "      <td>92.1</td>\n",
       "      <td>93.51</td>\n",
       "      <td>191</td>\n",
       "      <td>518</td>\n",
       "      <td>529</td>\n",
       "      <td>1.4</td>\n",
       "      <td>7.30</td>\n",
       "      <td>108</td>\n",
       "      <td>159</td>\n",
       "      <td>118</td>\n",
       "      <td>150</td>\n",
       "      <td>302</td>\n",
       "      <td>322</td>\n",
       "      <td>294</td>\n",
       "    </tr>\n",
       "    <tr>\n",
       "      <th>65</th>\n",
       "      <td>2018</td>\n",
       "      <td>642547</td>\n",
       "      <td>Peralta, Freddy</td>\n",
       "      <td>2356</td>\n",
       "      <td>85.7</td>\n",
       "      <td>0.155</td>\n",
       "      <td>0.141</td>\n",
       "      <td>0.220</td>\n",
       "      <td>0.296</td>\n",
       "      <td>0.244</td>\n",
       "      <td>0.249</td>\n",
       "      <td>0.170</td>\n",
       "      <td>67</td>\n",
       "      <td>433</td>\n",
       "      <td>86.2</td>\n",
       "      <td>19.9</td>\n",
       "      <td>2258</td>\n",
       "      <td>87.7</td>\n",
       "      <td>84.88</td>\n",
       "      <td>322</td>\n",
       "      <td>920</td>\n",
       "      <td>1098</td>\n",
       "      <td>-2.8</td>\n",
       "      <td>7.17</td>\n",
       "      <td>111</td>\n",
       "      <td>155</td>\n",
       "      <td>118</td>\n",
       "      <td>148</td>\n",
       "      <td>298</td>\n",
       "      <td>321</td>\n",
       "      <td>297</td>\n",
       "    </tr>\n",
       "    <tr>\n",
       "      <th>23</th>\n",
       "      <td>2339</td>\n",
       "      <td>554430</td>\n",
       "      <td>Wheeler, Zack</td>\n",
       "      <td>3205</td>\n",
       "      <td>73.0</td>\n",
       "      <td>0.203</td>\n",
       "      <td>0.087</td>\n",
       "      <td>0.282</td>\n",
       "      <td>0.290</td>\n",
       "      <td>0.240</td>\n",
       "      <td>0.248</td>\n",
       "      <td>0.210</td>\n",
       "      <td>115</td>\n",
       "      <td>566</td>\n",
       "      <td>83.5</td>\n",
       "      <td>6.7</td>\n",
       "      <td>2361</td>\n",
       "      <td>94.1</td>\n",
       "      <td>95.03</td>\n",
       "      <td>314</td>\n",
       "      <td>1185</td>\n",
       "      <td>1154</td>\n",
       "      <td>0.9</td>\n",
       "      <td>7.15</td>\n",
       "      <td>111</td>\n",
       "      <td>152</td>\n",
       "      <td>113</td>\n",
       "      <td>149</td>\n",
       "      <td>294</td>\n",
       "      <td>322</td>\n",
       "      <td>293</td>\n",
       "    </tr>\n",
       "    <tr>\n",
       "      <th>53</th>\n",
       "      <td>2123</td>\n",
       "      <td>605483</td>\n",
       "      <td>Snell, Blake</td>\n",
       "      <td>2347</td>\n",
       "      <td>90.5</td>\n",
       "      <td>0.220</td>\n",
       "      <td>0.164</td>\n",
       "      <td>0.303</td>\n",
       "      <td>0.383</td>\n",
       "      <td>0.313</td>\n",
       "      <td>0.340</td>\n",
       "      <td>0.236</td>\n",
       "      <td>94</td>\n",
       "      <td>428</td>\n",
       "      <td>88.2</td>\n",
       "      <td>10.9</td>\n",
       "      <td>2315</td>\n",
       "      <td>90.3</td>\n",
       "      <td>90.80</td>\n",
       "      <td>292</td>\n",
       "      <td>935</td>\n",
       "      <td>1188</td>\n",
       "      <td>0.5</td>\n",
       "      <td>6.78</td>\n",
       "      <td>112</td>\n",
       "      <td>152</td>\n",
       "      <td>124</td>\n",
       "      <td>146</td>\n",
       "      <td>301</td>\n",
       "      <td>323</td>\n",
       "      <td>311</td>\n",
       "    </tr>\n",
       "    <tr>\n",
       "      <th>96</th>\n",
       "      <td>1689</td>\n",
       "      <td>660271</td>\n",
       "      <td>Ohtani, Shohei</td>\n",
       "      <td>2027</td>\n",
       "      <td>83.3</td>\n",
       "      <td>0.214</td>\n",
       "      <td>0.153</td>\n",
       "      <td>0.277</td>\n",
       "      <td>0.366</td>\n",
       "      <td>0.286</td>\n",
       "      <td>0.284</td>\n",
       "      <td>0.211</td>\n",
       "      <td>84</td>\n",
       "      <td>393</td>\n",
       "      <td>88.0</td>\n",
       "      <td>10.5</td>\n",
       "      <td>2122</td>\n",
       "      <td>89.6</td>\n",
       "      <td>90.04</td>\n",
       "      <td>224</td>\n",
       "      <td>805</td>\n",
       "      <td>884</td>\n",
       "      <td>0.4</td>\n",
       "      <td>6.78</td>\n",
       "      <td>114</td>\n",
       "      <td>158</td>\n",
       "      <td>116</td>\n",
       "      <td>150</td>\n",
       "      <td>304</td>\n",
       "      <td>326</td>\n",
       "      <td>298</td>\n",
       "    </tr>\n",
       "  </tbody>\n",
       "</table>\n",
       "</div>"
      ],
      "text/plain": [
       "     pitches  player_id      player_name  total_pitches  pitch_percent     ba  \\\n",
       "157     1047     607192   Glasnow, Tyler           1339           78.2  0.176   \n",
       "65      2018     642547  Peralta, Freddy           2356           85.7  0.155   \n",
       "23      2339     554430    Wheeler, Zack           3205           73.0  0.203   \n",
       "53      2123     605483     Snell, Blake           2347           90.5  0.220   \n",
       "96      1689     660271   Ohtani, Shohei           2027           83.3  0.214   \n",
       "\n",
       "       iso  babip    slg   woba  xwoba    xba  hits  abs  launch_speed  \\\n",
       "157  0.131  0.257  0.306  0.240  0.241  0.175    43  245          90.8   \n",
       "65   0.141  0.220  0.296  0.244  0.249  0.170    67  433          86.2   \n",
       "23   0.087  0.282  0.290  0.240  0.248  0.210   115  566          83.5   \n",
       "53   0.164  0.303  0.383  0.313  0.340  0.236    94  428          88.2   \n",
       "96   0.153  0.277  0.366  0.286  0.284  0.211    84  393          88.0   \n",
       "\n",
       "     launch_angle  spin_rate  velocity  effective_speed  whiffs  swings  \\\n",
       "157          11.9       2599      92.1            93.51     191     518   \n",
       "65           19.9       2258      87.7            84.88     322     920   \n",
       "23            6.7       2361      94.1            95.03     314    1185   \n",
       "53           10.9       2315      90.3            90.80     292     935   \n",
       "96           10.5       2122      89.6            90.04     224     805   \n",
       "\n",
       "     takes  eff_min_vel  release_extension  pos3_int_start_distance  \\\n",
       "157    529          1.4               7.30                      108   \n",
       "65    1098         -2.8               7.17                      111   \n",
       "23    1154          0.9               7.15                      111   \n",
       "53    1188          0.5               6.78                      112   \n",
       "96     884          0.4               6.78                      114   \n",
       "\n",
       "     pos4_int_start_distance  pos5_int_start_distance  \\\n",
       "157                      159                      118   \n",
       "65                       155                      118   \n",
       "23                       152                      113   \n",
       "53                       152                      124   \n",
       "96                       158                      116   \n",
       "\n",
       "     pos6_int_start_distance  pos7_int_start_distance  \\\n",
       "157                      150                      302   \n",
       "65                       148                      298   \n",
       "23                       149                      294   \n",
       "53                       146                      301   \n",
       "96                       150                      304   \n",
       "\n",
       "     pos8_int_start_distance  pos9_int_start_distance  \n",
       "157                      322                      294  \n",
       "65                       321                      297  \n",
       "23                       322                      293  \n",
       "53                       323                      311  \n",
       "96                       326                      298  "
      ]
     },
     "execution_count": 142,
     "metadata": {},
     "output_type": "execute_result"
    }
   ],
   "source": [
    "# Identify the 5 starters with the combination of low batting average against and high release extension\n",
    "above_relext_filters.head()\n",
    "\n",
    "# Create a function within the subset that sorts the values by release extension and returns only the top 5 pitchers\n",
    "top5 = above_relext_filters.sort_values('release_extension', ascending=False).head()\n",
    "top5"
   ]
  },
  {
   "cell_type": "code",
   "execution_count": 75,
   "id": "0bf343d3",
   "metadata": {},
   "outputs": [
    {
     "data": {
      "text/plain": [
       "[Text(0.5, 1.0, 'SP - Batting Average Against vs Release Extension')]"
      ]
     },
     "execution_count": 75,
     "metadata": {},
     "output_type": "execute_result"
    },
    {
     "data": {
      "image/png": "[encoded data removed]",
      "text/plain": [
       "<Figure size 432x288 with 1 Axes>"
      ]
     },
     "metadata": {
      "needs_background": "light"
     },
     "output_type": "display_data"
    }
   ],
   "source": [
    "# Show a plot analysis for what insight you discovered depending on the metric used\n",
    "sns.regplot(x=\"ba\", y=\"release_extension\", ci=None, data = top5).set(title = 'SP - Batting Average Against vs Release Extension')"
   ]
  },
  {
   "cell_type": "markdown",
   "id": "49e33003",
   "metadata": {},
   "source": [
    "### ANSWER: \n",
    "\n",
    "By further investigating the top 5 starters with the highest release extensions, we find that there is a strong relationship between batting average against and the release extension. Tyler Glasnow's 7.30 release extension leads to one of the lowest batting average against scores, only outdone by Freddy Peralta who has a similarly high 7.17 release extension."
   ]
  },
  {
   "cell_type": "markdown",
   "id": "b9fb1a7e",
   "metadata": {},
   "source": [
    "### INTERPRETATION/OBSERVATION:\n",
    "\n",
    "This step builds off of our prior result in Block 3, which worked on the releationship between release extension and batting average against. We see that the higher release extensions tends to lead to a lower batting average against and we can note that it is definitely a key metric for judging success."
   ]
  },
  {
   "cell_type": "markdown",
   "id": "22c12038",
   "metadata": {},
   "source": [
    "# Block 5"
   ]
  },
  {
   "cell_type": "markdown",
   "id": "25e4dd16",
   "metadata": {},
   "source": [
    "### Question: What is the relationship between release extensions 6.5 and over and whiffs?\n",
    "\n",
    "### Steps:\n",
    "\n",
    "* Create a subset with player name, release extension, and whiffs and filter for top result\n",
    "* Plot the relationship between release extension and whiffs, a key metric in the ability to get a batter out\n",
    "* Create a function within the subset that sorts the values by whiffs\n",
    "\n"
   ]
  },
  {
   "cell_type": "code",
   "execution_count": 131,
   "id": "5f9c1344",
   "metadata": {},
   "outputs": [
    {
     "data": {
      "text/html": [
       "<div>\n",
       "<style scoped>\n",
       "    .dataframe tbody tr th:only-of-type {\n",
       "        vertical-align: middle;\n",
       "    }\n",
       "\n",
       "    .dataframe tbody tr th {\n",
       "        vertical-align: top;\n",
       "    }\n",
       "\n",
       "    .dataframe thead th {\n",
       "        text-align: right;\n",
       "    }\n",
       "</style>\n",
       "<table border=\"1\" class=\"dataframe\">\n",
       "  <thead>\n",
       "    <tr style=\"text-align: right;\">\n",
       "      <th></th>\n",
       "      <th>player_name</th>\n",
       "      <th>release_extension</th>\n",
       "      <th>whiffs</th>\n",
       "    </tr>\n",
       "  </thead>\n",
       "  <tbody>\n",
       "    <tr>\n",
       "      <th>23</th>\n",
       "      <td>Wheeler, Zack</td>\n",
       "      <td>7.15</td>\n",
       "      <td>314</td>\n",
       "    </tr>\n",
       "    <tr>\n",
       "      <th>53</th>\n",
       "      <td>Snell, Blake</td>\n",
       "      <td>6.78</td>\n",
       "      <td>292</td>\n",
       "    </tr>\n",
       "    <tr>\n",
       "      <th>65</th>\n",
       "      <td>Peralta, Freddy</td>\n",
       "      <td>7.17</td>\n",
       "      <td>322</td>\n",
       "    </tr>\n",
       "    <tr>\n",
       "      <th>72</th>\n",
       "      <td>Rogers, Trevor</td>\n",
       "      <td>6.66</td>\n",
       "      <td>296</td>\n",
       "    </tr>\n",
       "    <tr>\n",
       "      <th>84</th>\n",
       "      <td>Webb, Logan</td>\n",
       "      <td>6.75</td>\n",
       "      <td>255</td>\n",
       "    </tr>\n",
       "    <tr>\n",
       "      <th>93</th>\n",
       "      <td>McKenzie, Triston</td>\n",
       "      <td>6.76</td>\n",
       "      <td>222</td>\n",
       "    </tr>\n",
       "    <tr>\n",
       "      <th>96</th>\n",
       "      <td>Ohtani, Shohei</td>\n",
       "      <td>6.78</td>\n",
       "      <td>224</td>\n",
       "    </tr>\n",
       "    <tr>\n",
       "      <th>109</th>\n",
       "      <td>Manoah, Alek</td>\n",
       "      <td>6.58</td>\n",
       "      <td>227</td>\n",
       "    </tr>\n",
       "    <tr>\n",
       "      <th>147</th>\n",
       "      <td>Flaherty, Jack</td>\n",
       "      <td>6.71</td>\n",
       "      <td>146</td>\n",
       "    </tr>\n",
       "    <tr>\n",
       "      <th>157</th>\n",
       "      <td>Glasnow, Tyler</td>\n",
       "      <td>7.30</td>\n",
       "      <td>191</td>\n",
       "    </tr>\n",
       "  </tbody>\n",
       "</table>\n",
       "</div>"
      ],
      "text/plain": [
       "           player_name  release_extension  whiffs\n",
       "23       Wheeler, Zack               7.15     314\n",
       "53        Snell, Blake               6.78     292\n",
       "65     Peralta, Freddy               7.17     322\n",
       "72      Rogers, Trevor               6.66     296\n",
       "84         Webb, Logan               6.75     255\n",
       "93   McKenzie, Triston               6.76     222\n",
       "96      Ohtani, Shohei               6.78     224\n",
       "109       Manoah, Alek               6.58     227\n",
       "147     Flaherty, Jack               6.71     146\n",
       "157     Glasnow, Tyler               7.30     191"
      ]
     },
     "execution_count": 131,
     "metadata": {},
     "output_type": "execute_result"
    }
   ],
   "source": [
    "# Create a subset with player name, release extension, and whiffs and filter for top result\n",
    "subset = above_relext_filters[['player_name', 'release_extension', 'whiffs']]\n",
    "subset"
   ]
  },
  {
   "cell_type": "code",
   "execution_count": 137,
   "id": "b92624fc",
   "metadata": {},
   "outputs": [
    {
     "data": {
      "text/plain": [
       "[Text(0.5, 1.0, 'SP - Release Extension vs Whiffs')]"
      ]
     },
     "execution_count": 137,
     "metadata": {},
     "output_type": "execute_result"
    },
    {
     "data": {
      "image/png": "[encoded data removed]",
      "text/plain": [
       "<Figure size 432x288 with 1 Axes>"
      ]
     },
     "metadata": {
      "needs_background": "light"
     },
     "output_type": "display_data"
    }
   ],
   "source": [
    "# Plot the relationship between release extension and whiffs\n",
    "sns.regplot(x=\"whiffs\", y=\"release_extension\", ci=None, data = subset_release_extension).set(title = 'SP - Release Extension vs Whiffs')"
   ]
  },
  {
   "cell_type": "code",
   "execution_count": 140,
   "id": "17de2afd",
   "metadata": {},
   "outputs": [
    {
     "data": {
      "text/html": [
       "<div>\n",
       "<style scoped>\n",
       "    .dataframe tbody tr th:only-of-type {\n",
       "        vertical-align: middle;\n",
       "    }\n",
       "\n",
       "    .dataframe tbody tr th {\n",
       "        vertical-align: top;\n",
       "    }\n",
       "\n",
       "    .dataframe thead th {\n",
       "        text-align: right;\n",
       "    }\n",
       "</style>\n",
       "<table border=\"1\" class=\"dataframe\">\n",
       "  <thead>\n",
       "    <tr style=\"text-align: right;\">\n",
       "      <th></th>\n",
       "      <th>player_name</th>\n",
       "      <th>release_extension</th>\n",
       "      <th>whiffs</th>\n",
       "    </tr>\n",
       "  </thead>\n",
       "  <tbody>\n",
       "    <tr>\n",
       "      <th>65</th>\n",
       "      <td>Peralta, Freddy</td>\n",
       "      <td>7.17</td>\n",
       "      <td>322</td>\n",
       "    </tr>\n",
       "    <tr>\n",
       "      <th>23</th>\n",
       "      <td>Wheeler, Zack</td>\n",
       "      <td>7.15</td>\n",
       "      <td>314</td>\n",
       "    </tr>\n",
       "    <tr>\n",
       "      <th>72</th>\n",
       "      <td>Rogers, Trevor</td>\n",
       "      <td>6.66</td>\n",
       "      <td>296</td>\n",
       "    </tr>\n",
       "    <tr>\n",
       "      <th>53</th>\n",
       "      <td>Snell, Blake</td>\n",
       "      <td>6.78</td>\n",
       "      <td>292</td>\n",
       "    </tr>\n",
       "    <tr>\n",
       "      <th>84</th>\n",
       "      <td>Webb, Logan</td>\n",
       "      <td>6.75</td>\n",
       "      <td>255</td>\n",
       "    </tr>\n",
       "  </tbody>\n",
       "</table>\n",
       "</div>"
      ],
      "text/plain": [
       "        player_name  release_extension  whiffs\n",
       "65  Peralta, Freddy               7.17     322\n",
       "23    Wheeler, Zack               7.15     314\n",
       "72   Rogers, Trevor               6.66     296\n",
       "53     Snell, Blake               6.78     292\n",
       "84      Webb, Logan               6.75     255"
      ]
     },
     "execution_count": 140,
     "metadata": {},
     "output_type": "execute_result"
    }
   ],
   "source": [
    "# Create a function within the subset that sorts the values by whiffs\n",
    "highest_extension = subset.sort_values('whiffs', ascending=False).head()\n",
    "highest_extension"
   ]
  },
  {
   "cell_type": "markdown",
   "id": "a45b4a3a",
   "metadata": {},
   "source": [
    "### ANSWER: \n",
    "There is a positive relationship between release extension and whiffs. The starter with the highest number of whiffs is Freddy Peralta, a name we have seen pop up a number of times and exhibits the second highest release extension. The highest release extension — which belongs to Tyler Glasnow — falls behind and is an outlier on the positive correlation here; this is due to the fact that Glasnow was injured mid-season and faced fewer hitters. Without Glasnow, the relationship will appear even more positive."
   ]
  },
  {
   "cell_type": "markdown",
   "id": "4e1b1f55",
   "metadata": {},
   "source": [
    "### INTERPRETATION/OBSERVATION:\n",
    "\n",
    "Throughout the Blocks, we have built upon the notions regarding the stark importance of release extension to the success of starting pitchers in the MLB. In this block we see again that there is an important relationship between release extension and whiffs, another important indicator of success for a starting pitcher."
   ]
  }
 ],
 "metadata": {
  "kernelspec": {
   "display_name": "Python 3 (COMM318)",
   "language": "python",
   "name": "python3"
  },
  "language_info": {
   "codemirror_mode": {
    "name": "ipython",
    "version": 3
   },
   "file_extension": ".py",
   "mimetype": "text/x-python",
   "name": "python",
   "nbconvert_exporter": "python",
   "pygments_lexer": "ipython3",
   "version": "3.8.8"
  }
 },
 "nbformat": 4,
 "nbformat_minor": 5
}
