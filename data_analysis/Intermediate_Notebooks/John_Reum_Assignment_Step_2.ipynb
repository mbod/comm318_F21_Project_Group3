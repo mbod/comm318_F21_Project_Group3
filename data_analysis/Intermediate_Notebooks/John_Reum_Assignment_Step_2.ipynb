{
 "cells": [
  {
   "cell_type": "markdown",
   "id": "09921d3d",
   "metadata": {},
   "source": [
    "# The \"Perfect\" Release Point: Step 2 Analysis for MLB Closers (9th inning)\n",
    "### By: John Reum"
   ]
  },
  {
   "cell_type": "markdown",
   "id": "8aa47194",
   "metadata": {},
   "source": [
    "## Create a notebook that focuses on analyzing your data\n",
    "\n",
    "* Create a notebooks in the `data_analysis` folder of your group's project folder to carry out some analysis of your data to answer some questions related to your group's overall research question.\n",
    "\n",
    "\n",
    "* The notebook(s) should be organized into a series of blocks that follow the:\n",
    "    * _question_\n",
    "    * _steps_\n",
    "    * _code_\n",
    "    * _answer_\n",
    "    * _interpretation/observation_ \n",
    "    \n",
    "  sequence we have talked about.\n",
    "\n",
    "\n",
    "* These steps are:\n",
    "    1. **QUESTION**: What is the question you are going to answer in this block, e.g.\n",
    "        * _How many crashes in Philadelphia in 2013 involved SUVs or large trucks?_\n",
    "        * _Which zipcodes reported the highest proportion of children with high lead blood levels?_\n",
    "        * _Is the proportion of the population living in urban areas increasing in counties in the African continent?_\n",
    "       \n",
    "       _(The typology of kinds of data story components can be helpful. Try to use a number of the different kinds)_ <br/><br/>\n",
    "       \n",
    "    2. **STEPS**: Lay out the conceptual analysis steps to go from your data to the answer. Do this in bullet points in Markdown, e.g. for the first question above, these would be:\n",
    "       1. _Create filters for rows where `year` is 2013 and `SUV_count` or `large_truck_count` greater than 0_\n",
    "       2. _Subset the complete crash data frame_\n",
    "       3. _Count the number of rows_ <br/><br/>\n",
    "    3. **CODE**: Implement these steps in one or more code cell(s). Remember to include comments, e.g.:\n",
    "       ```\n",
    "       # Create filters for rows where 'year' is 2013 and 'SUV_count' or 'large_truck_count' greater than 0\n",
    "       y2013_filter = crash_df['year']==2013\n",
    "       suv_filter = crash_df['SUV_count']>0\n",
    "       large_truck_filter = crash_df['large_truck_count']>0\n",
    "       \n",
    "       # Subset the complete crash data frame\n",
    "       suv_truck_2013_df = crash_df[(y2013_filter) & (suv_filter | large_truck_filter)]\n",
    "       \n",
    "       # Count the number of rows\n",
    "       crash_num = suv_truck_2013_df.shape[0]\n",
    "       ``` \n",
    "       <br/><br/>\n",
    "    4. **ANSWER**: State the answer in narrative form (in a Markdown cell). <br/><br/>\n",
    "    5. **INTERPRETATION/OBSERVATION**: Add some observations and interpretations of what you have found. Also remember to note follow up questions that become relevant after answering the question.\n",
    "    \n",
    "    \n",
    "    \n",
    "#### NOTES\n",
    "\n",
    "* Examples can be found in these notebooks:\n",
    "    * `comm318_F21_Data_Stories_Part1_and_initial_data_exploration_10-11-21/use_of_data_in_stories_part1.ipynb`\n",
    "    * `comm318_F21_Data_Stories_Part2_10-18-21/use_of_data_in_stories_part2.ipynb`\n",
    "\n",
    "\n",
    "* The type of questions you ask and apply these steps to will vary depending on your specific project.\n",
    "\n",
    "\n",
    "* Try to include at least 5 blocks following steps 1-5 for each. You can include more than this of course!"
   ]
  },
  {
   "cell_type": "markdown",
   "id": "2c5afad4",
   "metadata": {},
   "source": [
    "# Title of HW: PITCH SPEED or NO SPEED is the Question?"
   ]
  },
  {
   "cell_type": "markdown",
   "id": "2fd6b5c2",
   "metadata": {},
   "source": [
    "## Today, we will be investigating what relationships and patterns make an MLB closer effective and dominant."
   ]
  },
  {
   "cell_type": "markdown",
   "id": "4e97f708",
   "metadata": {},
   "source": [
    "## Step 1. Setup and importing the data and codebooks"
   ]
  },
  {
   "cell_type": "code",
   "execution_count": 10,
   "id": "2b39ec13",
   "metadata": {},
   "outputs": [],
   "source": [
    "import matplotlib.pyplot as plt\n",
    "import pandas as pd\n",
    "import geopandas as gpd\n",
    "from shapely.geometry import Point\n",
    "from IPython.display import HTML, Markdown, display\n",
    "import seaborn as sns\n",
    "import numpy as np\n",
    "import shapely\n",
    "import json\n",
    "import plotly"
   ]
  },
  {
   "cell_type": "code",
   "execution_count": 11,
   "id": "76322162",
   "metadata": {},
   "outputs": [
    {
     "data": {
      "text/html": [
       "<div>\n",
       "<style scoped>\n",
       "    .dataframe tbody tr th:only-of-type {\n",
       "        vertical-align: middle;\n",
       "    }\n",
       "\n",
       "    .dataframe tbody tr th {\n",
       "        vertical-align: top;\n",
       "    }\n",
       "\n",
       "    .dataframe thead th {\n",
       "        text-align: right;\n",
       "    }\n",
       "</style>\n",
       "<table border=\"1\" class=\"dataframe\">\n",
       "  <thead>\n",
       "    <tr style=\"text-align: right;\">\n",
       "      <th></th>\n",
       "      <th>Unnamed: 0</th>\n",
       "      <th>pitches</th>\n",
       "      <th>player_id</th>\n",
       "      <th>player_name</th>\n",
       "      <th>total_pitches</th>\n",
       "      <th>pitch_percent</th>\n",
       "      <th>xwoba</th>\n",
       "      <th>xba</th>\n",
       "      <th>abs</th>\n",
       "      <th>launch_speed</th>\n",
       "      <th>launch_angle</th>\n",
       "      <th>spin_rate</th>\n",
       "      <th>velocity</th>\n",
       "      <th>effective_speed</th>\n",
       "      <th>whiffs</th>\n",
       "      <th>swings</th>\n",
       "      <th>takes</th>\n",
       "      <th>eff_min_vel</th>\n",
       "      <th>release_extension</th>\n",
       "      <th>vertical_release_point_ft</th>\n",
       "    </tr>\n",
       "  </thead>\n",
       "  <tbody>\n",
       "    <tr>\n",
       "      <th>0</th>\n",
       "      <td>0</td>\n",
       "      <td>139</td>\n",
       "      <td>661403</td>\n",
       "      <td>Clase, Emmanuel</td>\n",
       "      <td>1057</td>\n",
       "      <td>13.2</td>\n",
       "      <td>0.130</td>\n",
       "      <td>0.130</td>\n",
       "      <td>139</td>\n",
       "      <td>84.4</td>\n",
       "      <td>0.0</td>\n",
       "      <td>2562</td>\n",
       "      <td>94.0</td>\n",
       "      <td>97.95</td>\n",
       "      <td>45</td>\n",
       "      <td>135</td>\n",
       "      <td>4</td>\n",
       "      <td>-0.1</td>\n",
       "      <td>6.45</td>\n",
       "      <td>6.18</td>\n",
       "    </tr>\n",
       "    <tr>\n",
       "      <th>1</th>\n",
       "      <td>1</td>\n",
       "      <td>26</td>\n",
       "      <td>544727</td>\n",
       "      <td>Familia, Jeurys</td>\n",
       "      <td>1017</td>\n",
       "      <td>2.6</td>\n",
       "      <td>0.061</td>\n",
       "      <td>0.055</td>\n",
       "      <td>26</td>\n",
       "      <td>87.4</td>\n",
       "      <td>19.0</td>\n",
       "      <td>2254</td>\n",
       "      <td>95.6</td>\n",
       "      <td>94.83</td>\n",
       "      <td>10</td>\n",
       "      <td>22</td>\n",
       "      <td>4</td>\n",
       "      <td>-0.8</td>\n",
       "      <td>5.82</td>\n",
       "      <td>6.13</td>\n",
       "    </tr>\n",
       "    <tr>\n",
       "      <th>2</th>\n",
       "      <td>2</td>\n",
       "      <td>119</td>\n",
       "      <td>605447</td>\n",
       "      <td>Romano, Jordan</td>\n",
       "      <td>1031</td>\n",
       "      <td>11.5</td>\n",
       "      <td>0.084</td>\n",
       "      <td>0.076</td>\n",
       "      <td>118</td>\n",
       "      <td>84.8</td>\n",
       "      <td>14.6</td>\n",
       "      <td>2295</td>\n",
       "      <td>93.6</td>\n",
       "      <td>95.98</td>\n",
       "      <td>45</td>\n",
       "      <td>103</td>\n",
       "      <td>16</td>\n",
       "      <td>1.4</td>\n",
       "      <td>7.14</td>\n",
       "      <td>6.20</td>\n",
       "    </tr>\n",
       "    <tr>\n",
       "      <th>3</th>\n",
       "      <td>3</td>\n",
       "      <td>124</td>\n",
       "      <td>642397</td>\n",
       "      <td>Soto, Gregory</td>\n",
       "      <td>1131</td>\n",
       "      <td>11.0</td>\n",
       "      <td>0.133</td>\n",
       "      <td>0.117</td>\n",
       "      <td>124</td>\n",
       "      <td>87.7</td>\n",
       "      <td>13.0</td>\n",
       "      <td>2379</td>\n",
       "      <td>94.3</td>\n",
       "      <td>94.48</td>\n",
       "      <td>36</td>\n",
       "      <td>114</td>\n",
       "      <td>10</td>\n",
       "      <td>0.2</td>\n",
       "      <td>6.80</td>\n",
       "      <td>5.62</td>\n",
       "    </tr>\n",
       "    <tr>\n",
       "      <th>4</th>\n",
       "      <td>4</td>\n",
       "      <td>48</td>\n",
       "      <td>570663</td>\n",
       "      <td>Robles, Hansel</td>\n",
       "      <td>1185</td>\n",
       "      <td>4.1</td>\n",
       "      <td>0.172</td>\n",
       "      <td>0.163</td>\n",
       "      <td>48</td>\n",
       "      <td>88.7</td>\n",
       "      <td>10.2</td>\n",
       "      <td>2086</td>\n",
       "      <td>94.3</td>\n",
       "      <td>94.24</td>\n",
       "      <td>12</td>\n",
       "      <td>45</td>\n",
       "      <td>3</td>\n",
       "      <td>-0.1</td>\n",
       "      <td>6.14</td>\n",
       "      <td>5.36</td>\n",
       "    </tr>\n",
       "  </tbody>\n",
       "</table>\n",
       "</div>"
      ],
      "text/plain": [
       "   Unnamed: 0  pitches  player_id      player_name  total_pitches  \\\n",
       "0           0      139     661403  Clase, Emmanuel           1057   \n",
       "1           1       26     544727  Familia, Jeurys           1017   \n",
       "2           2      119     605447   Romano, Jordan           1031   \n",
       "3           3      124     642397    Soto, Gregory           1131   \n",
       "4           4       48     570663   Robles, Hansel           1185   \n",
       "\n",
       "   pitch_percent  xwoba    xba  abs  launch_speed  launch_angle  spin_rate  \\\n",
       "0           13.2  0.130  0.130  139          84.4           0.0       2562   \n",
       "1            2.6  0.061  0.055   26          87.4          19.0       2254   \n",
       "2           11.5  0.084  0.076  118          84.8          14.6       2295   \n",
       "3           11.0  0.133  0.117  124          87.7          13.0       2379   \n",
       "4            4.1  0.172  0.163   48          88.7          10.2       2086   \n",
       "\n",
       "   velocity  effective_speed  whiffs  swings  takes  eff_min_vel  \\\n",
       "0      94.0            97.95      45     135      4         -0.1   \n",
       "1      95.6            94.83      10      22      4         -0.8   \n",
       "2      93.6            95.98      45     103     16          1.4   \n",
       "3      94.3            94.48      36     114     10          0.2   \n",
       "4      94.3            94.24      12      45      3         -0.1   \n",
       "\n",
       "   release_extension  vertical_release_point_ft  \n",
       "0               6.45                       6.18  \n",
       "1               5.82                       6.13  \n",
       "2               7.14                       6.20  \n",
       "3               6.80                       5.62  \n",
       "4               6.14                       5.36  "
      ]
     },
     "execution_count": 11,
     "metadata": {},
     "output_type": "execute_result"
    }
   ],
   "source": [
    "pd.set_option('display.max_columns', None)\n",
    "cleanCP_df = pd.read_csv('../data/Clean_Data_Files/CP_df.csv')\n",
    "cleanCP_df.head()"
   ]
  },
  {
   "cell_type": "markdown",
   "id": "7cfcedb3",
   "metadata": {},
   "source": [
    "## Table of Contents:\n",
    "\n",
    "**Block 1** - What are the top 5 pitchers with the highest vertical release point (ft)?\n",
    "\n",
    "**Block 2** - How many closers have a vertical release point above 5 ft throw above 92 mph? What is average pitch speed of closers with a vertical release point above 5 ft? Do the same for closers with a vertical release point at and below 5ft.\n",
    "\n",
    "**Block 3** - What percentage of closers create 40 or more whiffs from their pitch?\n",
    "\n",
    "**Block 4** - Investigate the top five closer that create the most whiffs and why? Look into their stats to discover any insights.\n",
    "\n",
    "**Block 5** - What is the relationship between velocity (90+ mph) and closer release extension? Who has the highest release extension?\n"
   ]
  },
  {
   "cell_type": "markdown",
   "id": "bf807375",
   "metadata": {},
   "source": [
    "# Block 1"
   ]
  },
  {
   "cell_type": "markdown",
   "id": "fb4de691",
   "metadata": {},
   "source": [
    "### Question: What are the top 5 closers with the highest vertical release point (ft)?\n",
    "\n",
    "### Steps:\n",
    "\n",
    "* Order player names by their vertical release point \n",
    "* Use the head function to retrieve the top 5 closers\n",
    "* Run the list"
   ]
  },
  {
   "cell_type": "code",
   "execution_count": 12,
   "id": "415bd548",
   "metadata": {},
   "outputs": [
    {
     "data": {
      "text/plain": [
       "player_name\n",
       "Smith, Will           6.68\n",
       "Gallegos, Giovanny    6.62\n",
       "Karinchak, James      6.48\n",
       "Sborz, Josh           6.42\n",
       "Jansen, Kenley        6.41\n",
       "Name: vertical_release_point_ft, dtype: float64"
      ]
     },
     "execution_count": 12,
     "metadata": {},
     "output_type": "execute_result"
    }
   ],
   "source": [
    "# Order dataframe by player name and sort from highest to lowest release point\n",
    "release_order = cleanCP_df.groupby('player_name')['vertical_release_point_ft'].mean().sort_values(ascending=False)\n",
    "\n",
    "# Run the top 5 of the list, which will return the 5 fastes pitchers\n",
    "highest_release = release_order.head()\n",
    "highest_release"
   ]
  },
  {
   "cell_type": "markdown",
   "id": "c6bbcacf",
   "metadata": {},
   "source": [
    "### ANSWER: \n",
    "\n",
    "The five closers that have the highest release point in the MLB 2021 season are (high to low): \n",
    "1. Will Smith\n",
    "2. Giovanny Gallegos\n",
    "3. James Karinchak\n",
    "4. Josh Sborz\n",
    "5. Kenley Jansen."
   ]
  },
  {
   "cell_type": "markdown",
   "id": "2894c2b2",
   "metadata": {},
   "source": [
    "### INTERPRETATION/OBSERVATION:\n",
    "\n",
    "Important to establish a baseline of the closers with the heighest release point. These names are likely to appear in other calculations as we look into for the following problems."
   ]
  },
  {
   "cell_type": "markdown",
   "id": "fcc2ab09",
   "metadata": {},
   "source": [
    "# Block 2"
   ]
  },
  {
   "cell_type": "markdown",
   "id": "586cd0b6",
   "metadata": {},
   "source": [
    "### Questions: \n",
    "\n",
    "1. How many closers have a vertical release point above 5 ft throw above 92 mph? \n",
    "2. What is average pitch speed of closers with a vertical release point above 5 ft? \n",
    "3. Do the same for closers with a vertical release point at and below 5ft.\n",
    "\n",
    "### Steps:\n",
    "\n",
    "* Create filters where the vertical release point is above 5 ft and over 93mph\n",
    "* Subset the data to run the players within that filter and sort that list by velocity"
   ]
  },
  {
   "cell_type": "code",
   "execution_count": 13,
   "id": "7a93d0d5",
   "metadata": {},
   "outputs": [
    {
     "name": "stdout",
     "output_type": "stream",
     "text": [
      "The number of closers that have a vertical release > 5ft and a pitch velocity above 92 mph\n",
      "------------------------------------------------------------------------------------------\n"
     ]
    },
    {
     "data": {
      "text/plain": [
       "22"
      ]
     },
     "execution_count": 13,
     "metadata": {},
     "output_type": "execute_result"
    }
   ],
   "source": [
    "# Create filter where the vertical release point is above 5ft and for velocity above 93 mph\n",
    "above_pitch_filters = cleanCP_df[(cleanCP_df['vertical_release_point_ft'] > 5) & (cleanCP_df['velocity'] > 92)]\n",
    "\n",
    "# Group the pitch_filters by players and use the count function\n",
    "closer_count = above_pitch_filters['player_name'].count()\n",
    "\n",
    "title = 'The number of closers that have a vertical release > 5ft and a pitch velocity above 92 mph'\n",
    "print(title)\n",
    "print('-'*len(title))\n",
    "closer_count\n"
   ]
  },
  {
   "cell_type": "code",
   "execution_count": 14,
   "id": "f5f3b826",
   "metadata": {},
   "outputs": [
    {
     "name": "stdout",
     "output_type": "stream",
     "text": [
      "Average pitch speed (mph) of closers with a vertical release point above 5ft\n",
      "----------------------------------------------------------------------------\n"
     ]
    },
    {
     "data": {
      "text/plain": [
       "91.85"
      ]
     },
     "execution_count": 14,
     "metadata": {},
     "output_type": "execute_result"
    }
   ],
   "source": [
    "# Create another filter where vertical release point is at and below 5ft\n",
    "new_above_pitch_filters = cleanCP_df['vertical_release_point_ft'] > 5\n",
    "\n",
    "# Subset the data for those players based on the filter, sort by velocity and use the mean function to find the average\n",
    "above_pitch_avg = cleanCP_df[new_above_pitch_filters]['velocity'].mean()\n",
    "\n",
    "title1='Average pitch speed (mph) of closers with a vertical release point above 5ft'\n",
    "print(title1)\n",
    "print('-'*len(title1))\n",
    "above_pitch_avg.round(2)\n"
   ]
  },
  {
   "cell_type": "code",
   "execution_count": 15,
   "id": "10cb0efc",
   "metadata": {},
   "outputs": [
    {
     "name": "stdout",
     "output_type": "stream",
     "text": [
      "Average pitch speed (mph) of closers with a vertical release point at and below 5ft\n",
      "-----------------------------------------------------------------------------------\n"
     ]
    },
    {
     "data": {
      "text/plain": [
       "84.86"
      ]
     },
     "execution_count": 15,
     "metadata": {},
     "output_type": "execute_result"
    }
   ],
   "source": [
    "# Similarly, create another filter where vertical release point is at and below 5ft\n",
    "below_pitch_filters = cleanCP_df['vertical_release_point_ft'] <= 5\n",
    "\n",
    "# Subset the data for those players based on the filter, sort by velocity and use the mean function to find the average\n",
    "below_pitch_avg = cleanCP_df[below_pitch_filters]['velocity'].mean()\n",
    "\n",
    "title2='Average pitch speed (mph) of closers with a vertical release point at and below 5ft'\n",
    "print(title2)\n",
    "print('-'*len(title2))\n",
    "below_pitch_avg.round(2)\n"
   ]
  },
  {
   "cell_type": "markdown",
   "id": "17382200",
   "metadata": {},
   "source": [
    "### ANSWER: \n",
    "\n",
    "There are eighteen pitchers that pitch with a vertical release point above 5ft and at a velocity above 92. The average pitch speed of closers vertical release point (VRP) above 5ft is 91.2 mph and is 84.5 mph at/below 5ft. This is interesting because it is establishing a positive relationship with pitch velocity and height of vertical release point."
   ]
  },
  {
   "cell_type": "markdown",
   "id": "dea37b64",
   "metadata": {},
   "source": [
    "### INTERPRETATION/OBSERVATION:\n"
   ]
  },
  {
   "cell_type": "markdown",
   "id": "b6384724",
   "metadata": {},
   "source": [
    "This problem discovers a very important trend/pattern, showing that having on average a higher release point allows greater velocity. For closers, velocity tends to be a very important metric and prompts further investigation."
   ]
  },
  {
   "cell_type": "markdown",
   "id": "348651e5",
   "metadata": {},
   "source": [
    "# Block 3"
   ]
  },
  {
   "cell_type": "markdown",
   "id": "9ed837e2",
   "metadata": {},
   "source": [
    "### Question: What percentage of closers create 40 or more whiffs from their pitch? Also, calculate percentage of whiffs below 21.\n",
    "\n",
    "### Steps:\n",
    "\n",
    "* Create filter for number of whiffs at and above 40\n",
    "* Subset the data for those players with that filter and sort by number of whiffs\n",
    "* Calculate percent of that number of players out of the total number of players"
   ]
  },
  {
   "cell_type": "code",
   "execution_count": 16,
   "id": "7a31009e",
   "metadata": {},
   "outputs": [
    {
     "data": {
      "text/plain": [
       "player_name\n",
       "Chapman, Aroldis    77.0\n",
       "Hendriks, Liam      74.0\n",
       "Iglesias, Raisel    72.0\n",
       "Smith, Will         62.0\n",
       "Jansen, Kenley      61.0\n",
       "Bard, Daniel        45.0\n",
       "Clase, Emmanuel     45.0\n",
       "Kimbrel, Craig      45.0\n",
       "Romano, Jordan      45.0\n",
       "Reyes, Alex         44.0\n",
       "Name: whiffs, dtype: float64"
      ]
     },
     "execution_count": 16,
     "metadata": {},
     "output_type": "execute_result"
    }
   ],
   "source": [
    "# Create a filter for 40 whiffs and greater\n",
    "whiff_filter = cleanCP_df['whiffs'] >= 40\n",
    "\n",
    "# Subset the data for those players based on the filter, sort by whiffs and use the mean function for average whiffs\n",
    "whiff_39_above = cleanCP_df[whiff_filter].groupby('player_name')['whiffs'].mean().sort_values(ascending=False)\n",
    "whiff_39_above"
   ]
  },
  {
   "cell_type": "code",
   "execution_count": 19,
   "id": "81ad8d4a",
   "metadata": {},
   "outputs": [
    {
     "data": {
      "text/plain": [
       "20.83"
      ]
     },
     "execution_count": 19,
     "metadata": {},
     "output_type": "execute_result"
    }
   ],
   "source": [
    "# Calculate percent of that number of players out of the total number of players in the dataframe\n",
    "whiff40percentage = ((len(whiff_39_above))/(len(cleanCP_df)))*100\n",
    "round(whiff40percentage,2)"
   ]
  },
  {
   "cell_type": "code",
   "execution_count": 9,
   "id": "6f05f5d6",
   "metadata": {},
   "outputs": [
    {
     "data": {
      "text/plain": [
       "player_name\n",
       "Floro, Dylan          20.0\n",
       "Stratton, Chris       20.0\n",
       "Sewald, Paul          20.0\n",
       "Karinchak, James      19.0\n",
       "Fulmer, Michael       16.0\n",
       "Steckenrider, Drew    16.0\n",
       "Finnegan, Kyle        15.0\n",
       "Ottavino, Adam        15.0\n",
       "Estévez, Carlos       14.0\n",
       "Sulser, Cole          14.0\n",
       "Staumont, Josh        13.0\n",
       "Robles, Hansel        12.0\n",
       "Sborz, Josh           12.0\n",
       "Tate, Dillon          12.0\n",
       "Whitlock, Garrett     12.0\n",
       "Green, Chad           12.0\n",
       "Ruiz, José            11.0\n",
       "May, Trevor           11.0\n",
       "Romo, Sergio          10.0\n",
       "Diekman, Jake         10.0\n",
       "Luetge, Lucas         10.0\n",
       "Familia, Jeurys       10.0\n",
       "Santana, Ervin         8.0\n",
       "Treinen, Blake         8.0\n",
       "Richards, Trevor       7.0\n",
       "Cimber, Adam           6.0\n",
       "Heuer, Codi            5.0\n",
       "Rogers, Tyler          4.0\n",
       "Suárez, Ranger         4.0\n",
       "Name: whiffs, dtype: float64"
      ]
     },
     "execution_count": 9,
     "metadata": {},
     "output_type": "execute_result"
    }
   ],
   "source": [
    "# Create a filter below 21 whiffs\n",
    "whiff_filter_2 = cleanCP_df['whiffs'] < 21\n",
    "\n",
    "whiff_21_below = cleanCP_df[whiff_filter_2].groupby('player_name')['whiffs'].mean().sort_values(ascending=False)\n",
    "whiff_21_below"
   ]
  },
  {
   "cell_type": "code",
   "execution_count": 10,
   "id": "6183dab4",
   "metadata": {},
   "outputs": [
    {
     "data": {
      "text/plain": [
       "60.416666666666664"
      ]
     },
     "execution_count": 10,
     "metadata": {},
     "output_type": "execute_result"
    }
   ],
   "source": [
    "# Calculate percent of that number of players out of the total number of players in the dataframe\n",
    "whiff21percentage = ((len(whiff_21_below))/(len(cleanCP_df)))*100\n",
    "whiff21percentage"
   ]
  },
  {
   "cell_type": "markdown",
   "id": "074e2b11",
   "metadata": {},
   "source": [
    "### ANSWER: \n",
    "\n",
    "* 20.8% of the closers within the dataset cause 40 or more whiffs on hitters. \n",
    "* 60.4% of the closers within the dataset cause 20 or less whiffs on hitters."
   ]
  },
  {
   "cell_type": "markdown",
   "id": "5e76a200",
   "metadata": {},
   "source": [
    "### INTERPRETATION/OBSERVATION:\n",
    "\n",
    "After observing the percentage of pitchers that cause whiffs, we can further investigate why the top 20% of the dataset cause the most whiffs (whiffs are a great indication of causing strikes for strikeouts)."
   ]
  },
  {
   "cell_type": "markdown",
   "id": "8bf0785b",
   "metadata": {},
   "source": [
    "# Block 4"
   ]
  },
  {
   "cell_type": "markdown",
   "id": "3eb8881a",
   "metadata": {},
   "source": [
    "### Question: Investigate the top five closer that create the most whiffs and why? Look into their stats to discover any insights.\n",
    "### Steps:\n",
    "\n",
    "* Identify the top 5 whiff closers\n",
    "* Subset the data to what metric you want to examine with the whiff variable\n",
    "* Plot the findings"
   ]
  },
  {
   "cell_type": "code",
   "execution_count": 11,
   "id": "7a01cb4f",
   "metadata": {},
   "outputs": [
    {
     "data": {
      "text/html": [
       "<div>\n",
       "<style scoped>\n",
       "    .dataframe tbody tr th:only-of-type {\n",
       "        vertical-align: middle;\n",
       "    }\n",
       "\n",
       "    .dataframe tbody tr th {\n",
       "        vertical-align: top;\n",
       "    }\n",
       "\n",
       "    .dataframe thead th {\n",
       "        text-align: right;\n",
       "    }\n",
       "</style>\n",
       "<table border=\"1\" class=\"dataframe\">\n",
       "  <thead>\n",
       "    <tr style=\"text-align: right;\">\n",
       "      <th></th>\n",
       "      <th>player_name</th>\n",
       "      <th>velocity</th>\n",
       "      <th>whiffs</th>\n",
       "    </tr>\n",
       "  </thead>\n",
       "  <tbody>\n",
       "    <tr>\n",
       "      <th>6</th>\n",
       "      <td>Chapman, Aroldis</td>\n",
       "      <td>100.0</td>\n",
       "      <td>77</td>\n",
       "    </tr>\n",
       "    <tr>\n",
       "      <th>8</th>\n",
       "      <td>Hendriks, Liam</td>\n",
       "      <td>98.0</td>\n",
       "      <td>74</td>\n",
       "    </tr>\n",
       "    <tr>\n",
       "      <th>18</th>\n",
       "      <td>Iglesias, Raisel</td>\n",
       "      <td>97.0</td>\n",
       "      <td>72</td>\n",
       "    </tr>\n",
       "    <tr>\n",
       "      <th>40</th>\n",
       "      <td>Smith, Will</td>\n",
       "      <td>96.0</td>\n",
       "      <td>62</td>\n",
       "    </tr>\n",
       "    <tr>\n",
       "      <th>25</th>\n",
       "      <td>Jansen, Kenley</td>\n",
       "      <td>93.1</td>\n",
       "      <td>61</td>\n",
       "    </tr>\n",
       "  </tbody>\n",
       "</table>\n",
       "</div>"
      ],
      "text/plain": [
       "         player_name  velocity  whiffs\n",
       "6   Chapman, Aroldis     100.0      77\n",
       "8     Hendriks, Liam      98.0      74\n",
       "18  Iglesias, Raisel      97.0      72\n",
       "40       Smith, Will      96.0      62\n",
       "25    Jansen, Kenley      93.1      61"
      ]
     },
     "execution_count": 11,
     "metadata": {},
     "output_type": "execute_result"
    }
   ],
   "source": [
    "# Identify the 5 closers with the highest number of whiffs\n",
    "whiff_39_above.head()\n",
    "\n",
    "# Subset the dataframe with a metric your interested in observing (e.g. velocity), and filter whiffs > 39\n",
    "subset = cleanCP_df[['player_name', 'velocity', 'whiffs']]\n",
    "subset_whiffs_above = subset[subset['whiffs']>39]\n",
    "\n",
    "# Create a function within the subset that sorts the values by whiffs and returns only the top 5 players\n",
    "top5 = subset_whiffs_above.sort_values('whiffs', ascending=False).head()\n",
    "top5"
   ]
  },
  {
   "cell_type": "code",
   "execution_count": 12,
   "id": "0bf343d3",
   "metadata": {},
   "outputs": [
    {
     "data": {
      "text/plain": [
       "[Text(0.5, 1.0, 'CP - Velocity vs Whiffs')]"
      ]
     },
     "execution_count": 12,
     "metadata": {},
     "output_type": "execute_result"
    },
    {
     "data": {
      "image/png": "[encoded data removed]",
      "text/plain": [
       "<Figure size 432x288 with 1 Axes>"
      ]
     },
     "metadata": {
      "needs_background": "light"
     },
     "output_type": "display_data"
    }
   ],
   "source": [
    "# Show a plot analysis for what insight you discovered depending on the metric used\n",
    "sns.regplot(x=\"velocity\", y=\"whiffs\", ci=None, data = top5).set(title = 'CP - Velocity vs Whiffs')"
   ]
  },
  {
   "cell_type": "markdown",
   "id": "49e33003",
   "metadata": {},
   "source": [
    "### ANSWER: \n",
    "\n",
    "By further investigating the top 5 closers with the highest amount of whiffs, there's a strong relationship between velocity and the number of whiffs. Aroldis Chapman's impressive 100 mph velocity explains why he is the leader in whiffs and edges out the runner up, Liam Hendriks, with a velocity of 98 mph."
   ]
  },
  {
   "cell_type": "markdown",
   "id": "b9fb1a7e",
   "metadata": {},
   "source": [
    "### INTERPRETATION/OBSERVATION:\n",
    "\n",
    "This finding builds off of our prior result in question 3. Velocity is shown to be a key metric that is driving a closer's success (greater number of whiffs leads to greater amount of strikes). We've shown that a high vertical release point on average leads to higher velocity and that a higher velocity generates the greatest number of whiffs -> now we can further investigate a closer's release extension to velocity.\n"
   ]
  },
  {
   "cell_type": "markdown",
   "id": "22c12038",
   "metadata": {},
   "source": [
    "# Block 5"
   ]
  },
  {
   "cell_type": "markdown",
   "id": "25e4dd16",
   "metadata": {},
   "source": [
    "### Question: What is the relationship between velocity (90+ mph) and closer release extension? Who has the highest release extension?\n",
    "\n",
    "### Steps:\n",
    "\n",
    "* Plot the relationship between velocity and closer release extension\n",
    "* Create a subset with player name, velocity and release extension and filter for top result"
   ]
  },
  {
   "cell_type": "code",
   "execution_count": 13,
   "id": "b92624fc",
   "metadata": {},
   "outputs": [
    {
     "data": {
      "text/plain": [
       "[Text(0.5, 1.0, 'CP - Velocity vs Release Extension')]"
      ]
     },
     "execution_count": 13,
     "metadata": {},
     "output_type": "execute_result"
    },
    {
     "data": {
      "image/png": "[encoded data removed]",
      "text/plain": [
       "<Figure size 432x288 with 1 Axes>"
      ]
     },
     "metadata": {
      "needs_background": "light"
     },
     "output_type": "display_data"
    }
   ],
   "source": [
    "# Create a plot analysis for velocity and closer release extension\n",
    "sns.regplot(x=\"velocity\", y=\"release_extension\", ci=None, data = cleanCP_df).set(title = 'CP - Velocity vs Release Extension')"
   ]
  },
  {
   "cell_type": "code",
   "execution_count": 14,
   "id": "17de2afd",
   "metadata": {},
   "outputs": [
    {
     "data": {
      "text/html": [
       "<div>\n",
       "<style scoped>\n",
       "    .dataframe tbody tr th:only-of-type {\n",
       "        vertical-align: middle;\n",
       "    }\n",
       "\n",
       "    .dataframe tbody tr th {\n",
       "        vertical-align: top;\n",
       "    }\n",
       "\n",
       "    .dataframe thead th {\n",
       "        text-align: right;\n",
       "    }\n",
       "</style>\n",
       "<table border=\"1\" class=\"dataframe\">\n",
       "  <thead>\n",
       "    <tr style=\"text-align: right;\">\n",
       "      <th></th>\n",
       "      <th>player_name</th>\n",
       "      <th>velocity</th>\n",
       "      <th>release_extension</th>\n",
       "    </tr>\n",
       "  </thead>\n",
       "  <tbody>\n",
       "    <tr>\n",
       "      <th>6</th>\n",
       "      <td>Chapman, Aroldis</td>\n",
       "      <td>100.0</td>\n",
       "      <td>7.26</td>\n",
       "    </tr>\n",
       "    <tr>\n",
       "      <th>22</th>\n",
       "      <td>Whitlock, Garrett</td>\n",
       "      <td>94.5</td>\n",
       "      <td>7.20</td>\n",
       "    </tr>\n",
       "    <tr>\n",
       "      <th>23</th>\n",
       "      <td>Heuer, Codi</td>\n",
       "      <td>94.2</td>\n",
       "      <td>7.18</td>\n",
       "    </tr>\n",
       "    <tr>\n",
       "      <th>2</th>\n",
       "      <td>Romano, Jordan</td>\n",
       "      <td>93.6</td>\n",
       "      <td>7.14</td>\n",
       "    </tr>\n",
       "    <tr>\n",
       "      <th>25</th>\n",
       "      <td>Jansen, Kenley</td>\n",
       "      <td>93.1</td>\n",
       "      <td>7.12</td>\n",
       "    </tr>\n",
       "  </tbody>\n",
       "</table>\n",
       "</div>"
      ],
      "text/plain": [
       "          player_name  velocity  release_extension\n",
       "6    Chapman, Aroldis     100.0               7.26\n",
       "22  Whitlock, Garrett      94.5               7.20\n",
       "23        Heuer, Codi      94.2               7.18\n",
       "2      Romano, Jordan      93.6               7.14\n",
       "25     Jansen, Kenley      93.1               7.12"
      ]
     },
     "execution_count": 14,
     "metadata": {},
     "output_type": "execute_result"
    }
   ],
   "source": [
    "# Create a subset with only the player name, velocity and release extension\n",
    "subset2 = cleanCP_df[['player_name', 'velocity', 'release_extension']]\n",
    "\n",
    "# Create a function within the subset that sorts the values by release extension\n",
    "highest_extension = subset2.sort_values('release_extension', ascending=False).head()\n",
    "highest_extension"
   ]
  },
  {
   "cell_type": "code",
   "execution_count": 15,
   "id": "14b970b7",
   "metadata": {},
   "outputs": [
    {
     "data": {
      "text/html": [
       "<div>\n",
       "<style scoped>\n",
       "    .dataframe tbody tr th:only-of-type {\n",
       "        vertical-align: middle;\n",
       "    }\n",
       "\n",
       "    .dataframe tbody tr th {\n",
       "        vertical-align: top;\n",
       "    }\n",
       "\n",
       "    .dataframe thead th {\n",
       "        text-align: right;\n",
       "    }\n",
       "</style>\n",
       "<table border=\"1\" class=\"dataframe\">\n",
       "  <thead>\n",
       "    <tr style=\"text-align: right;\">\n",
       "      <th></th>\n",
       "      <th>player_name</th>\n",
       "      <th>velocity</th>\n",
       "      <th>release_extension</th>\n",
       "    </tr>\n",
       "  </thead>\n",
       "  <tbody>\n",
       "    <tr>\n",
       "      <th>6</th>\n",
       "      <td>Chapman, Aroldis</td>\n",
       "      <td>100.0</td>\n",
       "      <td>7.26</td>\n",
       "    </tr>\n",
       "  </tbody>\n",
       "</table>\n",
       "</div>"
      ],
      "text/plain": [
       "        player_name  velocity  release_extension\n",
       "6  Chapman, Aroldis     100.0               7.26"
      ]
     },
     "execution_count": 15,
     "metadata": {},
     "output_type": "execute_result"
    }
   ],
   "source": [
    "# Select only the first result\n",
    "highest_extension.head(1)"
   ]
  },
  {
   "cell_type": "markdown",
   "id": "a45b4a3a",
   "metadata": {},
   "source": [
    "### ANSWER: \n",
    "There is a positive relationship between release extension and velocity. The closer with the highest release extension is Aroldis Chapman. What's very interesting is that a higher release extension allows a pitcher to shorten the distance it was to pitch to reach home plate. Therefore, we see that closers with a high release extension are able to produce incrementally more velocity on their pitches. On average, this is what the dataset shows in the plot.\n"
   ]
  },
  {
   "cell_type": "markdown",
   "id": "4e1b1f55",
   "metadata": {},
   "source": [
    "### INTERPRETATION/OBSERVATION:\n",
    "\n",
    "Throughout the problems, each new insight continued to build off one another and explain why certain closers (like Aroldis Chapman) are so effective/dominant. We were able to highlight how vertical release point, number of whiffs and release extension are all important metrics that add to the significance of top velocity as an effective closer in the MLB.\n"
   ]
  }
 ],
 "metadata": {
  "kernelspec": {
   "display_name": "Python 3 (COMM318)",
   "language": "python",
   "name": "python3"
  },
  "language_info": {
   "codemirror_mode": {
    "name": "ipython",
    "version": 3
   },
   "file_extension": ".py",
   "mimetype": "text/x-python",
   "name": "python",
   "nbconvert_exporter": "python",
   "pygments_lexer": "ipython3",
   "version": "3.8.8"
  }
 },
 "nbformat": 4,
 "nbformat_minor": 5
}
