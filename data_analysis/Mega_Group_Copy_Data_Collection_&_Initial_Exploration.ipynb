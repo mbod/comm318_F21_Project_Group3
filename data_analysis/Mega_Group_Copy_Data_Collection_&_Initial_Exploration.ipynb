{
 "cells": [
  {
   "cell_type": "markdown",
   "id": "715542df",
   "metadata": {},
   "source": [
    "## Group Project - Step 1"
   ]
  },
  {
   "cell_type": "markdown",
   "id": "3ea4d90f",
   "metadata": {},
   "source": [
    "### Setup & Importing"
   ]
  },
  {
   "cell_type": "code",
   "execution_count": 5,
   "id": "1449a3e1",
   "metadata": {},
   "outputs": [
    {
     "ename": "FileNotFoundError",
     "evalue": "[Errno 2] No such file or directory: 'data/Original_Data_Files/Starters.csv'",
     "output_type": "error",
     "traceback": [
      "\u001b[0;31m---------------------------------------------------------------------------\u001b[0m",
      "\u001b[0;31mFileNotFoundError\u001b[0m                         Traceback (most recent call last)",
      "\u001b[0;32m/tmp/ipykernel_1415228/3913011044.py\u001b[0m in \u001b[0;36m<module>\u001b[0;34m\u001b[0m\n\u001b[1;32m      9\u001b[0m \u001b[0;31m#https://baseballsavant.mlb.com/csv-docs#effective_speed\u001b[0m\u001b[0;34m\u001b[0m\u001b[0;34m\u001b[0m\u001b[0;34m\u001b[0m\u001b[0m\n\u001b[1;32m     10\u001b[0m \u001b[0;34m\u001b[0m\u001b[0m\n\u001b[0;32m---> 11\u001b[0;31m \u001b[0mSP_df\u001b[0m \u001b[0;34m=\u001b[0m \u001b[0mpd\u001b[0m\u001b[0;34m.\u001b[0m\u001b[0mread_csv\u001b[0m\u001b[0;34m(\u001b[0m\u001b[0;34m'data/Original_Data_Files/Starters.csv'\u001b[0m\u001b[0;34m)\u001b[0m\u001b[0;34m\u001b[0m\u001b[0;34m\u001b[0m\u001b[0m\n\u001b[0m\u001b[1;32m     12\u001b[0m \u001b[0mRP_df\u001b[0m \u001b[0;34m=\u001b[0m \u001b[0mpd\u001b[0m\u001b[0;34m.\u001b[0m\u001b[0mread_csv\u001b[0m\u001b[0;34m(\u001b[0m\u001b[0;34m'data/Original_Data_Files/relievers.csv'\u001b[0m\u001b[0;34m)\u001b[0m\u001b[0;34m\u001b[0m\u001b[0;34m\u001b[0m\u001b[0m\n\u001b[1;32m     13\u001b[0m \u001b[0mCP_df\u001b[0m \u001b[0;34m=\u001b[0m \u001b[0mpd\u001b[0m\u001b[0;34m.\u001b[0m\u001b[0mread_csv\u001b[0m\u001b[0;34m(\u001b[0m\u001b[0;34m'data/Original_Data_Files/closers.csv'\u001b[0m\u001b[0;34m)\u001b[0m\u001b[0;34m\u001b[0m\u001b[0;34m\u001b[0m\u001b[0m\n",
      "\u001b[0;32m/usr/local/anaconda3/share/jupyter/venv/py3_comm318/lib/python3.8/site-packages/pandas/util/_decorators.py\u001b[0m in \u001b[0;36mwrapper\u001b[0;34m(*args, **kwargs)\u001b[0m\n\u001b[1;32m    309\u001b[0m                     \u001b[0mstacklevel\u001b[0m\u001b[0;34m=\u001b[0m\u001b[0mstacklevel\u001b[0m\u001b[0;34m,\u001b[0m\u001b[0;34m\u001b[0m\u001b[0;34m\u001b[0m\u001b[0m\n\u001b[1;32m    310\u001b[0m                 )\n\u001b[0;32m--> 311\u001b[0;31m             \u001b[0;32mreturn\u001b[0m \u001b[0mfunc\u001b[0m\u001b[0;34m(\u001b[0m\u001b[0;34m*\u001b[0m\u001b[0margs\u001b[0m\u001b[0;34m,\u001b[0m \u001b[0;34m**\u001b[0m\u001b[0mkwargs\u001b[0m\u001b[0;34m)\u001b[0m\u001b[0;34m\u001b[0m\u001b[0;34m\u001b[0m\u001b[0m\n\u001b[0m\u001b[1;32m    312\u001b[0m \u001b[0;34m\u001b[0m\u001b[0m\n\u001b[1;32m    313\u001b[0m         \u001b[0;32mreturn\u001b[0m \u001b[0mwrapper\u001b[0m\u001b[0;34m\u001b[0m\u001b[0;34m\u001b[0m\u001b[0m\n",
      "\u001b[0;32m/usr/local/anaconda3/share/jupyter/venv/py3_comm318/lib/python3.8/site-packages/pandas/io/parsers/readers.py\u001b[0m in \u001b[0;36mread_csv\u001b[0;34m(filepath_or_buffer, sep, delimiter, header, names, index_col, usecols, squeeze, prefix, mangle_dupe_cols, dtype, engine, converters, true_values, false_values, skipinitialspace, skiprows, skipfooter, nrows, na_values, keep_default_na, na_filter, verbose, skip_blank_lines, parse_dates, infer_datetime_format, keep_date_col, date_parser, dayfirst, cache_dates, iterator, chunksize, compression, thousands, decimal, lineterminator, quotechar, quoting, doublequote, escapechar, comment, encoding, encoding_errors, dialect, error_bad_lines, warn_bad_lines, on_bad_lines, delim_whitespace, low_memory, memory_map, float_precision, storage_options)\u001b[0m\n\u001b[1;32m    584\u001b[0m     \u001b[0mkwds\u001b[0m\u001b[0;34m.\u001b[0m\u001b[0mupdate\u001b[0m\u001b[0;34m(\u001b[0m\u001b[0mkwds_defaults\u001b[0m\u001b[0;34m)\u001b[0m\u001b[0;34m\u001b[0m\u001b[0;34m\u001b[0m\u001b[0m\n\u001b[1;32m    585\u001b[0m \u001b[0;34m\u001b[0m\u001b[0m\n\u001b[0;32m--> 586\u001b[0;31m     \u001b[0;32mreturn\u001b[0m \u001b[0m_read\u001b[0m\u001b[0;34m(\u001b[0m\u001b[0mfilepath_or_buffer\u001b[0m\u001b[0;34m,\u001b[0m \u001b[0mkwds\u001b[0m\u001b[0;34m)\u001b[0m\u001b[0;34m\u001b[0m\u001b[0;34m\u001b[0m\u001b[0m\n\u001b[0m\u001b[1;32m    587\u001b[0m \u001b[0;34m\u001b[0m\u001b[0m\n\u001b[1;32m    588\u001b[0m \u001b[0;34m\u001b[0m\u001b[0m\n",
      "\u001b[0;32m/usr/local/anaconda3/share/jupyter/venv/py3_comm318/lib/python3.8/site-packages/pandas/io/parsers/readers.py\u001b[0m in \u001b[0;36m_read\u001b[0;34m(filepath_or_buffer, kwds)\u001b[0m\n\u001b[1;32m    480\u001b[0m \u001b[0;34m\u001b[0m\u001b[0m\n\u001b[1;32m    481\u001b[0m     \u001b[0;31m# Create the parser.\u001b[0m\u001b[0;34m\u001b[0m\u001b[0;34m\u001b[0m\u001b[0;34m\u001b[0m\u001b[0m\n\u001b[0;32m--> 482\u001b[0;31m     \u001b[0mparser\u001b[0m \u001b[0;34m=\u001b[0m \u001b[0mTextFileReader\u001b[0m\u001b[0;34m(\u001b[0m\u001b[0mfilepath_or_buffer\u001b[0m\u001b[0;34m,\u001b[0m \u001b[0;34m**\u001b[0m\u001b[0mkwds\u001b[0m\u001b[0;34m)\u001b[0m\u001b[0;34m\u001b[0m\u001b[0;34m\u001b[0m\u001b[0m\n\u001b[0m\u001b[1;32m    483\u001b[0m \u001b[0;34m\u001b[0m\u001b[0m\n\u001b[1;32m    484\u001b[0m     \u001b[0;32mif\u001b[0m \u001b[0mchunksize\u001b[0m \u001b[0;32mor\u001b[0m \u001b[0miterator\u001b[0m\u001b[0;34m:\u001b[0m\u001b[0;34m\u001b[0m\u001b[0;34m\u001b[0m\u001b[0m\n",
      "\u001b[0;32m/usr/local/anaconda3/share/jupyter/venv/py3_comm318/lib/python3.8/site-packages/pandas/io/parsers/readers.py\u001b[0m in \u001b[0;36m__init__\u001b[0;34m(self, f, engine, **kwds)\u001b[0m\n\u001b[1;32m    809\u001b[0m             \u001b[0mself\u001b[0m\u001b[0;34m.\u001b[0m\u001b[0moptions\u001b[0m\u001b[0;34m[\u001b[0m\u001b[0;34m\"has_index_names\"\u001b[0m\u001b[0;34m]\u001b[0m \u001b[0;34m=\u001b[0m \u001b[0mkwds\u001b[0m\u001b[0;34m[\u001b[0m\u001b[0;34m\"has_index_names\"\u001b[0m\u001b[0;34m]\u001b[0m\u001b[0;34m\u001b[0m\u001b[0;34m\u001b[0m\u001b[0m\n\u001b[1;32m    810\u001b[0m \u001b[0;34m\u001b[0m\u001b[0m\n\u001b[0;32m--> 811\u001b[0;31m         \u001b[0mself\u001b[0m\u001b[0;34m.\u001b[0m\u001b[0m_engine\u001b[0m \u001b[0;34m=\u001b[0m \u001b[0mself\u001b[0m\u001b[0;34m.\u001b[0m\u001b[0m_make_engine\u001b[0m\u001b[0;34m(\u001b[0m\u001b[0mself\u001b[0m\u001b[0;34m.\u001b[0m\u001b[0mengine\u001b[0m\u001b[0;34m)\u001b[0m\u001b[0;34m\u001b[0m\u001b[0;34m\u001b[0m\u001b[0m\n\u001b[0m\u001b[1;32m    812\u001b[0m \u001b[0;34m\u001b[0m\u001b[0m\n\u001b[1;32m    813\u001b[0m     \u001b[0;32mdef\u001b[0m \u001b[0mclose\u001b[0m\u001b[0;34m(\u001b[0m\u001b[0mself\u001b[0m\u001b[0;34m)\u001b[0m\u001b[0;34m:\u001b[0m\u001b[0;34m\u001b[0m\u001b[0;34m\u001b[0m\u001b[0m\n",
      "\u001b[0;32m/usr/local/anaconda3/share/jupyter/venv/py3_comm318/lib/python3.8/site-packages/pandas/io/parsers/readers.py\u001b[0m in \u001b[0;36m_make_engine\u001b[0;34m(self, engine)\u001b[0m\n\u001b[1;32m   1038\u001b[0m             )\n\u001b[1;32m   1039\u001b[0m         \u001b[0;31m# error: Too many arguments for \"ParserBase\"\u001b[0m\u001b[0;34m\u001b[0m\u001b[0;34m\u001b[0m\u001b[0;34m\u001b[0m\u001b[0m\n\u001b[0;32m-> 1040\u001b[0;31m         \u001b[0;32mreturn\u001b[0m \u001b[0mmapping\u001b[0m\u001b[0;34m[\u001b[0m\u001b[0mengine\u001b[0m\u001b[0;34m]\u001b[0m\u001b[0;34m(\u001b[0m\u001b[0mself\u001b[0m\u001b[0;34m.\u001b[0m\u001b[0mf\u001b[0m\u001b[0;34m,\u001b[0m \u001b[0;34m**\u001b[0m\u001b[0mself\u001b[0m\u001b[0;34m.\u001b[0m\u001b[0moptions\u001b[0m\u001b[0;34m)\u001b[0m  \u001b[0;31m# type: ignore[call-arg]\u001b[0m\u001b[0;34m\u001b[0m\u001b[0;34m\u001b[0m\u001b[0m\n\u001b[0m\u001b[1;32m   1041\u001b[0m \u001b[0;34m\u001b[0m\u001b[0m\n\u001b[1;32m   1042\u001b[0m     \u001b[0;32mdef\u001b[0m \u001b[0m_failover_to_python\u001b[0m\u001b[0;34m(\u001b[0m\u001b[0mself\u001b[0m\u001b[0;34m)\u001b[0m\u001b[0;34m:\u001b[0m\u001b[0;34m\u001b[0m\u001b[0;34m\u001b[0m\u001b[0m\n",
      "\u001b[0;32m/usr/local/anaconda3/share/jupyter/venv/py3_comm318/lib/python3.8/site-packages/pandas/io/parsers/c_parser_wrapper.py\u001b[0m in \u001b[0;36m__init__\u001b[0;34m(self, src, **kwds)\u001b[0m\n\u001b[1;32m     49\u001b[0m \u001b[0;34m\u001b[0m\u001b[0m\n\u001b[1;32m     50\u001b[0m         \u001b[0;31m# open handles\u001b[0m\u001b[0;34m\u001b[0m\u001b[0;34m\u001b[0m\u001b[0;34m\u001b[0m\u001b[0m\n\u001b[0;32m---> 51\u001b[0;31m         \u001b[0mself\u001b[0m\u001b[0;34m.\u001b[0m\u001b[0m_open_handles\u001b[0m\u001b[0;34m(\u001b[0m\u001b[0msrc\u001b[0m\u001b[0;34m,\u001b[0m \u001b[0mkwds\u001b[0m\u001b[0;34m)\u001b[0m\u001b[0;34m\u001b[0m\u001b[0;34m\u001b[0m\u001b[0m\n\u001b[0m\u001b[1;32m     52\u001b[0m         \u001b[0;32massert\u001b[0m \u001b[0mself\u001b[0m\u001b[0;34m.\u001b[0m\u001b[0mhandles\u001b[0m \u001b[0;32mis\u001b[0m \u001b[0;32mnot\u001b[0m \u001b[0;32mNone\u001b[0m\u001b[0;34m\u001b[0m\u001b[0;34m\u001b[0m\u001b[0m\n\u001b[1;32m     53\u001b[0m \u001b[0;34m\u001b[0m\u001b[0m\n",
      "\u001b[0;32m/usr/local/anaconda3/share/jupyter/venv/py3_comm318/lib/python3.8/site-packages/pandas/io/parsers/base_parser.py\u001b[0m in \u001b[0;36m_open_handles\u001b[0;34m(self, src, kwds)\u001b[0m\n\u001b[1;32m    220\u001b[0m         \u001b[0mLet\u001b[0m \u001b[0mthe\u001b[0m \u001b[0mreaders\u001b[0m \u001b[0mopen\u001b[0m \u001b[0mIOHandles\u001b[0m \u001b[0mafter\u001b[0m \u001b[0mthey\u001b[0m \u001b[0mare\u001b[0m \u001b[0mdone\u001b[0m \u001b[0;32mwith\u001b[0m \u001b[0mtheir\u001b[0m \u001b[0mpotential\u001b[0m \u001b[0mraises\u001b[0m\u001b[0;34m.\u001b[0m\u001b[0;34m\u001b[0m\u001b[0;34m\u001b[0m\u001b[0m\n\u001b[1;32m    221\u001b[0m         \"\"\"\n\u001b[0;32m--> 222\u001b[0;31m         self.handles = get_handle(\n\u001b[0m\u001b[1;32m    223\u001b[0m             \u001b[0msrc\u001b[0m\u001b[0;34m,\u001b[0m\u001b[0;34m\u001b[0m\u001b[0;34m\u001b[0m\u001b[0m\n\u001b[1;32m    224\u001b[0m             \u001b[0;34m\"r\"\u001b[0m\u001b[0;34m,\u001b[0m\u001b[0;34m\u001b[0m\u001b[0;34m\u001b[0m\u001b[0m\n",
      "\u001b[0;32m/usr/local/anaconda3/share/jupyter/venv/py3_comm318/lib/python3.8/site-packages/pandas/io/common.py\u001b[0m in \u001b[0;36mget_handle\u001b[0;34m(path_or_buf, mode, encoding, compression, memory_map, is_text, errors, storage_options)\u001b[0m\n\u001b[1;32m    699\u001b[0m         \u001b[0;32mif\u001b[0m \u001b[0mioargs\u001b[0m\u001b[0;34m.\u001b[0m\u001b[0mencoding\u001b[0m \u001b[0;32mand\u001b[0m \u001b[0;34m\"b\"\u001b[0m \u001b[0;32mnot\u001b[0m \u001b[0;32min\u001b[0m \u001b[0mioargs\u001b[0m\u001b[0;34m.\u001b[0m\u001b[0mmode\u001b[0m\u001b[0;34m:\u001b[0m\u001b[0;34m\u001b[0m\u001b[0;34m\u001b[0m\u001b[0m\n\u001b[1;32m    700\u001b[0m             \u001b[0;31m# Encoding\u001b[0m\u001b[0;34m\u001b[0m\u001b[0;34m\u001b[0m\u001b[0;34m\u001b[0m\u001b[0m\n\u001b[0;32m--> 701\u001b[0;31m             handle = open(\n\u001b[0m\u001b[1;32m    702\u001b[0m                 \u001b[0mhandle\u001b[0m\u001b[0;34m,\u001b[0m\u001b[0;34m\u001b[0m\u001b[0;34m\u001b[0m\u001b[0m\n\u001b[1;32m    703\u001b[0m                 \u001b[0mioargs\u001b[0m\u001b[0;34m.\u001b[0m\u001b[0mmode\u001b[0m\u001b[0;34m,\u001b[0m\u001b[0;34m\u001b[0m\u001b[0;34m\u001b[0m\u001b[0m\n",
      "\u001b[0;31mFileNotFoundError\u001b[0m: [Errno 2] No such file or directory: 'data/Original_Data_Files/Starters.csv'"
     ]
    }
   ],
   "source": [
    "import matplotlib.pyplot as plt\n",
    "import pandas as pd\n",
    "import geopandas as gpd\n",
    "from shapely.geometry import Point\n",
    "import shapely\n",
    "import json\n",
    "import plotly\n",
    "\n",
    "#https://baseballsavant.mlb.com/csv-docs#effective_speed\n",
    "\n",
    "SP_df = pd.read_csv('data/Original_Data_Files/Starters.csv')\n",
    "RP_df = pd.read_csv('data/Original_Data_Files/relievers.csv')\n",
    "CP_df = pd.read_csv('data/Original_Data_Files/closers.csv')\n",
    "garzaR_df = pd.read_csv('data/Original_Data_Files/Ralph_Garza.csv')"
   ]
  },
  {
   "cell_type": "code",
   "execution_count": null,
   "id": "5bb220c1",
   "metadata": {},
   "outputs": [],
   "source": [
    "SP_df.head()"
   ]
  },
  {
   "cell_type": "code",
   "execution_count": null,
   "id": "9b6444e8",
   "metadata": {},
   "outputs": [],
   "source": [
    "RP_df.head()"
   ]
  },
  {
   "cell_type": "code",
   "execution_count": null,
   "id": "cb6875bc",
   "metadata": {},
   "outputs": [],
   "source": [
    "CP_df.head()"
   ]
  },
  {
   "cell_type": "code",
   "execution_count": null,
   "id": "2bca095a",
   "metadata": {},
   "outputs": [],
   "source": [
    "garzaR_df"
   ]
  },
  {
   "cell_type": "code",
   "execution_count": null,
   "id": "401c0fbc",
   "metadata": {},
   "outputs": [],
   "source": [
    "garzaR_df.columns"
   ]
  },
  {
   "cell_type": "markdown",
   "id": "76091736",
   "metadata": {},
   "source": [
    "# DATA FRAME EXAMINATION"
   ]
  },
  {
   "cell_type": "markdown",
   "id": "8a7913fd",
   "metadata": {},
   "source": [
    "* What are the dimensions (number of rows and columns) of the data frame?\n",
    "* What does each row represent?\n",
    "* What do the columns mean?"
   ]
  },
  {
   "cell_type": "code",
   "execution_count": null,
   "id": "b65a8656",
   "metadata": {},
   "outputs": [],
   "source": [
    "print(\"\\nWe currently have three (3) pitcher category datasets (SP, RP, CP), and one (1) player specific dataset\")\n",
    "print(\"#####\")\n",
    "spRows, spColumns = SP_df.shape\n",
    "print(\"Pitcher Category Datasets:\")\n",
    "print(\"\\nStarting Pitchers rows: \", spRows, \" columns:\", spColumns)\n",
    "\n",
    "\n",
    "rpRows, rpColumns = RP_df.shape\n",
    "print(\"Relief Pitchers rows: \", rpRows, \" columns:\", rpColumns)\n",
    "\n",
    "cpRows, cpColumns = CP_df.shape\n",
    "print(\"Closing Pitchers rows: \", cpRows, \" columns:\", cpColumns)\n",
    "\n",
    "print(\"\\nEach row in a Pitcher Category Dataset represents one pitchers' 2021 season summary stats\")\n",
    "print(\"Each column in a Pitcher Category Dataset represents a different summary statistic for that individual pitcher\")\n",
    "\n",
    "print(\"#####\")\n",
    "GarzaRows, GarzaColumns = garzaR_df.shape\n",
    "print(\"\\nRalph Garza rows: \", GarzaRows, \" columns:\", GarzaColumns)\n",
    "print(\"\\nEach row in a Player Specific Dataset represents one pitch of that pitcher from the 2021 season\")\n",
    "print(\"Each column in a Player Specific Dataset represents various detailed information about that pitch and its results\")"
   ]
  },
  {
   "cell_type": "markdown",
   "id": "5fc4c79c",
   "metadata": {},
   "source": [
    "# DATA CLEANING"
   ]
  },
  {
   "cell_type": "markdown",
   "id": "1939928f",
   "metadata": {},
   "source": [
    "* Rename columns if necessary (e.g. no spaces, reasonable length, understandable)\n",
    "* Remove unwanted rows/columns\n",
    "* Clean data i.e. changing data types where necessary, adding columns etc.\n",
    "* Save a copy of the cleaned dataframe to the data folder"
   ]
  },
  {
   "cell_type": "markdown",
   "id": "f1b0d21c",
   "metadata": {},
   "source": [
    "**Column names are appropriately named**\n",
    "\n",
    "**Fielders positioning columns are dropped**\n",
    "\n",
    "**Data is in necessary types**\n",
    "\n",
    "**Data exported**"
   ]
  },
  {
   "cell_type": "code",
   "execution_count": null,
   "id": "a9b41ff9",
   "metadata": {},
   "outputs": [],
   "source": [
    "SP_df = SP_df.drop(['pos3_int_start_distance', 'pos4_int_start_distance', 'pos5_int_start_distance', 'pos6_int_start_distance', 'pos7_int_start_distance','pos8_int_start_distance', 'pos9_int_start_distance'], axis =1)\n",
    "RP_df = RP_df.drop(['pos3_int_start_distance', 'pos4_int_start_distance', 'pos5_int_start_distance', 'pos6_int_start_distance', 'pos7_int_start_distance','pos8_int_start_distance', 'pos9_int_start_distance'], axis =1)\n",
    "CP_df = CP_df.drop(['pos3_int_start_distance', 'pos4_int_start_distance', 'pos5_int_start_distance', 'pos6_int_start_distance', 'pos7_int_start_distance','pos8_int_start_distance', 'pos9_int_start_distance'], axis =1)\n",
    "\n",
    "SP_df.to_csv('Data/SP_df.csv')\n",
    "RP_df.to_csv('Data/RP_df.csv')\n",
    "CP_df.to_csv('Data/CP_df.csv')"
   ]
  },
  {
   "cell_type": "code",
   "execution_count": null,
   "id": "83842f25",
   "metadata": {},
   "outputs": [],
   "source": [
    "garzaR_df = garzaR_df.drop(['pitcher.1',\n",
    "       'fielder_2.1', 'fielder_3', 'fielder_4', 'fielder_5', 'fielder_6',\n",
    "       'fielder_7', 'fielder_8', 'fielder_9'], axis =1)\n",
    "\n",
    "garzaR_df.to_csv('Data/RalphGarza_df.csv')"
   ]
  },
  {
   "cell_type": "markdown",
   "id": "e29216b6",
   "metadata": {},
   "source": [
    "# DATA EXPLORATION"
   ]
  },
  {
   "cell_type": "markdown",
   "id": "aa6581b8",
   "metadata": {},
   "source": [
    "* Examine the distribution (i.e., the range or type of values in the key columns of interest)\n",
    "* If relevant visualize the data (e.g. plot a histogram, plot a line graph, etc.)\n",
    "* What observations and questions do you have after exploring your data?"
   ]
  },
  {
   "cell_type": "code",
   "execution_count": null,
   "id": "0ff738a0",
   "metadata": {},
   "outputs": [],
   "source": [
    "pd.set_option('display.max_columns', None)\n",
    "\n",
    "#effective_speed = Derived speed based on the the extension of the pitcher's release.\n",
    "#velocity\n",
    "\n",
    "SP_df.plot.scatter(x=\"velocity\", y=\"effective_speed\", title = \"SP - Velocity vs Effective Velocity\")\n",
    "\n",
    "velo_filt1 = SP_df[\"velocity\"] >90\n",
    "velo_filt2 = SP_df[\"velocity\"] <92\n",
    "velo1 = SP_df[velo_filt1 & velo_filt2]\n",
    "eff_speed_filt1 = velo1[\"effective_speed\"] < 88\n",
    "outlier = velo1[eff_speed_filt1]\n",
    "outlier"
   ]
  },
  {
   "cell_type": "markdown",
   "id": "47366984",
   "metadata": {},
   "source": [
    "* One starter we should look at is Matt Peacock since he throws 91.2 mph but batters perceive his velocity to be closer to 79 mph"
   ]
  },
  {
   "cell_type": "code",
   "execution_count": null,
   "id": "c18de285",
   "metadata": {},
   "outputs": [],
   "source": [
    "SP_df.plot.scatter(x=\"release_extension\", y=\"effective_speed\", title = \"SP - Release Extension vs Effective Velocity\")\n",
    "RP_df.plot.scatter(x=\"release_extension\", y=\"effective_speed\", title = \"RP - Release Extension vs Effective Velocity\")\n",
    "CP_df.plot.scatter(x=\"release_extension\", y=\"effective_speed\", title = \"CP - Release Extension vs Effective Velocity\")"
   ]
  },
  {
   "cell_type": "code",
   "execution_count": null,
   "id": "098c28cc",
   "metadata": {},
   "outputs": [],
   "source": [
    "pd.options.plotting.backend = \"plotly\"\n",
    "RP_df.plot.scatter(x=\"velocity\", y=\"effective_speed\", title = \"RP - Velocity vs Effective Velocity\")"
   ]
  },
  {
   "cell_type": "code",
   "execution_count": null,
   "id": "c661a699",
   "metadata": {},
   "outputs": [],
   "source": [
    "filt1 = RP_df[\"velocity\"] > 80\n",
    "filt2 = RP_df[\"velocity\"] < 85\n",
    "filt3 = RP_df[\"effective_speed\"] < 75\n",
    "\n",
    "rp_velo = RP_df[filt1 & filt2 & filt3]\n",
    "rp_velo"
   ]
  },
  {
   "cell_type": "code",
   "execution_count": null,
   "id": "f8c8bc49",
   "metadata": {},
   "outputs": [],
   "source": [
    "CP_df.plot.scatter(x=\"velocity\", y=\"effective_speed\", title = \"CP - Velocity vs Effective Velocity\")"
   ]
  },
  {
   "cell_type": "code",
   "execution_count": null,
   "id": "ff4f648d",
   "metadata": {},
   "outputs": [],
   "source": [
    "filta = CP_df[\"velocity\"] > 86\n",
    "filtb = CP_df[\"velocity\"] < 90\n",
    "filtc = CP_df[\"effective_speed\"] < 85\n",
    "\n",
    "cp_velo = CP_df[filta & filtb & filtc]\n",
    "cp_velo"
   ]
  },
  {
   "cell_type": "markdown",
   "id": "3ccc818a",
   "metadata": {},
   "source": [
    "* Trevor Richards and Humberto Castellanos should also be examined because of the drastic differences in their velocity and effective speed \t"
   ]
  },
  {
   "cell_type": "markdown",
   "id": "01409581",
   "metadata": {},
   "source": [
    "### Ralph Garza Results"
   ]
  },
  {
   "cell_type": "code",
   "execution_count": null,
   "id": "d9b5e4f1",
   "metadata": {},
   "outputs": [],
   "source": [
    "pd.set_option('display.max_columns', None)\n",
    "\n",
    "garzaR_df.groupby(\"description\")[\"release_pos_z\"].mean().sort_values()\n",
    "garzaR_df.groupby(\"events\")[\"release_pos_z\"].mean().sort_values()"
   ]
  },
  {
   "cell_type": "markdown",
   "id": "929cbe2a",
   "metadata": {},
   "source": [
    "### Ralpha Garza Pitch Types"
   ]
  },
  {
   "cell_type": "code",
   "execution_count": null,
   "id": "3bd3949e",
   "metadata": {},
   "outputs": [],
   "source": [
    "garzaR_df.groupby(\"pitch_type\")[\"release_pos_z\"].mean().sort_values()"
   ]
  },
  {
   "cell_type": "code",
   "execution_count": null,
   "id": "215ddb26",
   "metadata": {},
   "outputs": [],
   "source": [
    "garzaR_df"
   ]
  },
  {
   "cell_type": "code",
   "execution_count": null,
   "id": "e07cf565",
   "metadata": {},
   "outputs": [],
   "source": [
    "garzaR_df.plot.scatter(x=\"release_pos_x\", y=\"effective_speed\", title = \"Release X by Release Z\")\n",
    "\n",
    "#HOW TO SET EACH SECTION OF DOTS AS A DIFFERENT COLOR???"
   ]
  },
  {
   "cell_type": "markdown",
   "id": "8ff53470",
   "metadata": {},
   "source": [
    "### Ralpha Garza Release Point by Pitch Speed"
   ]
  },
  {
   "cell_type": "code",
   "execution_count": null,
   "id": "a0a68ca3",
   "metadata": {},
   "outputs": [],
   "source": [
    "bins = pd.cut(garzaR_df['release_speed'], [73, 76, 79, 82, 85, 89, 92, 95])\n",
    "\n",
    "speedBYReleasepoint = garzaR_df.groupby(bins)['release_pos_z'].mean()\n",
    "\n",
    "print(\"Velocity speeds in bins by release point Z\")\n",
    "speedBYReleasepoint"
   ]
  }
 ],
 "metadata": {
  "kernelspec": {
   "display_name": "Python 3 (COMM318)",
   "language": "python",
   "name": "python3"
  },
  "language_info": {
   "codemirror_mode": {
    "name": "ipython",
    "version": 3
   },
   "file_extension": ".py",
   "mimetype": "text/x-python",
   "name": "python",
   "nbconvert_exporter": "python",
   "pygments_lexer": "ipython3",
   "version": "3.8.8"
  }
 },
 "nbformat": 4,
 "nbformat_minor": 5
}
