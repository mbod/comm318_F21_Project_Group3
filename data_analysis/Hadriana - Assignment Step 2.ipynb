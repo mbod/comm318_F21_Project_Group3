{
 "cells": [
  {
   "cell_type": "markdown",
   "id": "09921d3d",
   "metadata": {},
   "source": [
    "# The \"Perfect\" Release Point: Step 2 Analysis\n",
    "### By: Hadriana Lowenkron"
   ]
  },
  {
   "cell_type": "markdown",
   "id": "8aa47194",
   "metadata": {},
   "source": [
    "## Create a notebook that focuses on analyzing your data\n",
    "\n",
    "* Create a notebooks in the `data_analysis` folder of your group's project folder to carry out some analysis of your data to answer some questions related to your group's overall research question.\n",
    "\n",
    "\n",
    "* The notebook(s) should be organized into a series of blocks that follow the:\n",
    "    * _question_\n",
    "    * _steps_\n",
    "    * _code_\n",
    "    * _answer_\n",
    "    * _interpretation/observation_ \n",
    "    \n",
    "  sequence we have talked about.\n",
    "\n",
    "\n",
    "* These steps are:\n",
    "    1. **QUESTION**: What is the question you are going to answer in this block, e.g.\n",
    "        * _How many crashes in Philadelphia in 2013 involved SUVs or large trucks?_\n",
    "        * _Which zipcodes reported the highest proportion of children with high lead blood levels?_\n",
    "        * _Is the proportion of the population living in urban areas increasing in counties in the African continent?_\n",
    "       \n",
    "       _(The typology of kinds of data story components can be helpful. Try to use a number of the different kinds)_ <br/><br/>\n",
    "       \n",
    "    2. **STEPS**: Lay out the conceptual analysis steps to go from your data to the answer. Do this in bullet points in Markdown, e.g. for the first question above, these would be:\n",
    "       1. _Create filters for rows where `year` is 2013 and `SUV_count` or `large_truck_count` greater than 0_\n",
    "       2. _Subset the complete crash data frame_\n",
    "       3. _Count the number of rows_ <br/><br/>\n",
    "    3. **CODE**: Implement these steps in one or more code cell(s). Remember to include comments, e.g.:\n",
    "       ```\n",
    "       # Create filters for rows where 'year' is 2013 and 'SUV_count' or 'large_truck_count' greater than 0\n",
    "       y2013_filter = crash_df['year']==2013\n",
    "       suv_filter = crash_df['SUV_count']>0\n",
    "       large_truck_filter = crash_df['large_truck_count']>0\n",
    "       \n",
    "       # Subset the complete crash data frame\n",
    "       suv_truck_2013_df = crash_df[(y2013_filter) & (suv_filter | large_truck_filter)]\n",
    "       \n",
    "       # Count the number of rows\n",
    "       crash_num = suv_truck_2013_df.shape[0]\n",
    "       ``` \n",
    "       <br/><br/>\n",
    "    4. **ANSWER**: State the answer in narrative form (in a Markdown cell). <br/><br/>\n",
    "    5. **INTERPRETATION/OBSERVATION**: Add some observations and interpretations of what you have found. Also remember to note follow up questions that become relevant after answering the question.\n",
    "    \n",
    "    \n",
    "    \n",
    "#### NOTES\n",
    "\n",
    "* Examples can be found in these notebooks:\n",
    "    * `comm318_F21_Data_Stories_Part1_and_initial_data_exploration_10-11-21/use_of_data_in_stories_part1.ipynb`\n",
    "    * `comm318_F21_Data_Stories_Part2_10-18-21/use_of_data_in_stories_part2.ipynb`\n",
    "\n",
    "\n",
    "* The type of questions you ask and apply these steps to will vary depending on your specific project.\n",
    "\n",
    "\n",
    "* Try to include at least 5 blocks following steps 1-5 for each. You can include more than this of course!"
   ]
  },
  {
   "cell_type": "markdown",
   "id": "4e97f708",
   "metadata": {},
   "source": [
    "## Step 1. Setup and importing the data and codebooks"
   ]
  },
  {
   "cell_type": "code",
   "execution_count": 1,
   "id": "2b39ec13",
   "metadata": {},
   "outputs": [],
   "source": [
    "import matplotlib.pyplot as plt\n",
    "import pandas as pd\n",
    "import geopandas as gpd\n",
    "from shapely.geometry import Point\n",
    "from IPython.display import HTML, Markdown, display\n",
    "import seaborn as sns\n",
    "import numpy as np\n",
    "import shapely\n",
    "import json\n",
    "import plotly"
   ]
  },
  {
   "cell_type": "code",
   "execution_count": 13,
   "id": "76322162",
   "metadata": {},
   "outputs": [
    {
     "data": {
      "text/html": [
       "<div>\n",
       "<style scoped>\n",
       "    .dataframe tbody tr th:only-of-type {\n",
       "        vertical-align: middle;\n",
       "    }\n",
       "\n",
       "    .dataframe tbody tr th {\n",
       "        vertical-align: top;\n",
       "    }\n",
       "\n",
       "    .dataframe thead th {\n",
       "        text-align: right;\n",
       "    }\n",
       "</style>\n",
       "<table border=\"1\" class=\"dataframe\">\n",
       "  <thead>\n",
       "    <tr style=\"text-align: right;\">\n",
       "      <th></th>\n",
       "      <th>Unnamed: 0</th>\n",
       "      <th>pitches</th>\n",
       "      <th>player_id</th>\n",
       "      <th>player_name</th>\n",
       "      <th>total_pitches</th>\n",
       "      <th>pitch_percent</th>\n",
       "      <th>xwoba</th>\n",
       "      <th>xba</th>\n",
       "      <th>abs</th>\n",
       "      <th>launch_speed</th>\n",
       "      <th>launch_angle</th>\n",
       "      <th>spin_rate</th>\n",
       "      <th>velocity</th>\n",
       "      <th>effective_speed</th>\n",
       "      <th>whiffs</th>\n",
       "      <th>swings</th>\n",
       "      <th>takes</th>\n",
       "      <th>eff_min_vel</th>\n",
       "      <th>release_extension</th>\n",
       "      <th>horizontal_release_point_ft</th>\n",
       "      <th>absolute_value_horizontal_release_point</th>\n",
       "    </tr>\n",
       "  </thead>\n",
       "  <tbody>\n",
       "    <tr>\n",
       "      <th>0</th>\n",
       "      <td>0</td>\n",
       "      <td>140</td>\n",
       "      <td>518617</td>\n",
       "      <td>Diekman, Jake</td>\n",
       "      <td>1118</td>\n",
       "      <td>12.5</td>\n",
       "      <td>0.137</td>\n",
       "      <td>0.111</td>\n",
       "      <td>140</td>\n",
       "      <td>88.8</td>\n",
       "      <td>16.9</td>\n",
       "      <td>2380</td>\n",
       "      <td>91.6</td>\n",
       "      <td>88.25</td>\n",
       "      <td>55</td>\n",
       "      <td>126</td>\n",
       "      <td>14</td>\n",
       "      <td>-3.4</td>\n",
       "      <td>6.36</td>\n",
       "      <td>3.28</td>\n",
       "      <td>3.28</td>\n",
       "    </tr>\n",
       "    <tr>\n",
       "      <th>1</th>\n",
       "      <td>1</td>\n",
       "      <td>160</td>\n",
       "      <td>608718</td>\n",
       "      <td>Suter, Brent</td>\n",
       "      <td>1221</td>\n",
       "      <td>13.1</td>\n",
       "      <td>0.127</td>\n",
       "      <td>0.122</td>\n",
       "      <td>159</td>\n",
       "      <td>80.5</td>\n",
       "      <td>5.6</td>\n",
       "      <td>2151</td>\n",
       "      <td>86.6</td>\n",
       "      <td>87.23</td>\n",
       "      <td>37</td>\n",
       "      <td>150</td>\n",
       "      <td>10</td>\n",
       "      <td>0.6</td>\n",
       "      <td>7.18</td>\n",
       "      <td>2.80</td>\n",
       "      <td>2.80</td>\n",
       "    </tr>\n",
       "    <tr>\n",
       "      <th>2</th>\n",
       "      <td>2</td>\n",
       "      <td>113</td>\n",
       "      <td>621368</td>\n",
       "      <td>Hearn, Taylor</td>\n",
       "      <td>1726</td>\n",
       "      <td>6.5</td>\n",
       "      <td>0.149</td>\n",
       "      <td>0.141</td>\n",
       "      <td>113</td>\n",
       "      <td>85.3</td>\n",
       "      <td>17.6</td>\n",
       "      <td>2173</td>\n",
       "      <td>92.2</td>\n",
       "      <td>87.84</td>\n",
       "      <td>29</td>\n",
       "      <td>103</td>\n",
       "      <td>10</td>\n",
       "      <td>-4.4</td>\n",
       "      <td>6.19</td>\n",
       "      <td>2.65</td>\n",
       "      <td>2.65</td>\n",
       "    </tr>\n",
       "    <tr>\n",
       "      <th>3</th>\n",
       "      <td>3</td>\n",
       "      <td>100</td>\n",
       "      <td>592662</td>\n",
       "      <td>Ray, Robbie</td>\n",
       "      <td>3141</td>\n",
       "      <td>3.2</td>\n",
       "      <td>0.105</td>\n",
       "      <td>0.098</td>\n",
       "      <td>99</td>\n",
       "      <td>85.7</td>\n",
       "      <td>19.9</td>\n",
       "      <td>2222</td>\n",
       "      <td>91.7</td>\n",
       "      <td>91.90</td>\n",
       "      <td>37</td>\n",
       "      <td>87</td>\n",
       "      <td>13</td>\n",
       "      <td>0.2</td>\n",
       "      <td>6.43</td>\n",
       "      <td>2.52</td>\n",
       "      <td>2.52</td>\n",
       "    </tr>\n",
       "    <tr>\n",
       "      <th>4</th>\n",
       "      <td>4</td>\n",
       "      <td>128</td>\n",
       "      <td>656945</td>\n",
       "      <td>Scott, Tanner</td>\n",
       "      <td>1032</td>\n",
       "      <td>12.4</td>\n",
       "      <td>0.142</td>\n",
       "      <td>0.131</td>\n",
       "      <td>125</td>\n",
       "      <td>89.1</td>\n",
       "      <td>5.2</td>\n",
       "      <td>2649</td>\n",
       "      <td>91.4</td>\n",
       "      <td>91.45</td>\n",
       "      <td>41</td>\n",
       "      <td>112</td>\n",
       "      <td>16</td>\n",
       "      <td>0.0</td>\n",
       "      <td>6.22</td>\n",
       "      <td>2.49</td>\n",
       "      <td>2.49</td>\n",
       "    </tr>\n",
       "    <tr>\n",
       "      <th>...</th>\n",
       "      <td>...</td>\n",
       "      <td>...</td>\n",
       "      <td>...</td>\n",
       "      <td>...</td>\n",
       "      <td>...</td>\n",
       "      <td>...</td>\n",
       "      <td>...</td>\n",
       "      <td>...</td>\n",
       "      <td>...</td>\n",
       "      <td>...</td>\n",
       "      <td>...</td>\n",
       "      <td>...</td>\n",
       "      <td>...</td>\n",
       "      <td>...</td>\n",
       "      <td>...</td>\n",
       "      <td>...</td>\n",
       "      <td>...</td>\n",
       "      <td>...</td>\n",
       "      <td>...</td>\n",
       "      <td>...</td>\n",
       "      <td>...</td>\n",
       "    </tr>\n",
       "    <tr>\n",
       "      <th>70</th>\n",
       "      <td>70</td>\n",
       "      <td>103</td>\n",
       "      <td>571670</td>\n",
       "      <td>Floro, Dylan</td>\n",
       "      <td>1076</td>\n",
       "      <td>9.6</td>\n",
       "      <td>0.157</td>\n",
       "      <td>0.139</td>\n",
       "      <td>103</td>\n",
       "      <td>83.4</td>\n",
       "      <td>18.9</td>\n",
       "      <td>2091</td>\n",
       "      <td>90.7</td>\n",
       "      <td>90.46</td>\n",
       "      <td>19</td>\n",
       "      <td>92</td>\n",
       "      <td>11</td>\n",
       "      <td>-0.2</td>\n",
       "      <td>6.30</td>\n",
       "      <td>-3.37</td>\n",
       "      <td>3.37</td>\n",
       "    </tr>\n",
       "    <tr>\n",
       "      <th>71</th>\n",
       "      <td>71</td>\n",
       "      <td>148</td>\n",
       "      <td>518553</td>\n",
       "      <td>Cishek, Steve</td>\n",
       "      <td>1255</td>\n",
       "      <td>11.8</td>\n",
       "      <td>0.144</td>\n",
       "      <td>0.125</td>\n",
       "      <td>144</td>\n",
       "      <td>83.6</td>\n",
       "      <td>11.1</td>\n",
       "      <td>2355</td>\n",
       "      <td>86.5</td>\n",
       "      <td>88.29</td>\n",
       "      <td>31</td>\n",
       "      <td>132</td>\n",
       "      <td>16</td>\n",
       "      <td>1.8</td>\n",
       "      <td>7.55</td>\n",
       "      <td>-3.37</td>\n",
       "      <td>3.37</td>\n",
       "    </tr>\n",
       "    <tr>\n",
       "      <th>72</th>\n",
       "      <td>72</td>\n",
       "      <td>134</td>\n",
       "      <td>643256</td>\n",
       "      <td>Cimber, Adam</td>\n",
       "      <td>1022</td>\n",
       "      <td>13.1</td>\n",
       "      <td>0.155</td>\n",
       "      <td>0.143</td>\n",
       "      <td>133</td>\n",
       "      <td>84.6</td>\n",
       "      <td>6.9</td>\n",
       "      <td>2259</td>\n",
       "      <td>84.6</td>\n",
       "      <td>82.32</td>\n",
       "      <td>28</td>\n",
       "      <td>130</td>\n",
       "      <td>4</td>\n",
       "      <td>-2.3</td>\n",
       "      <td>6.34</td>\n",
       "      <td>-3.67</td>\n",
       "      <td>3.67</td>\n",
       "    </tr>\n",
       "    <tr>\n",
       "      <th>73</th>\n",
       "      <td>73</td>\n",
       "      <td>127</td>\n",
       "      <td>623149</td>\n",
       "      <td>Sewald, Paul</td>\n",
       "      <td>1104</td>\n",
       "      <td>11.5</td>\n",
       "      <td>0.090</td>\n",
       "      <td>0.076</td>\n",
       "      <td>127</td>\n",
       "      <td>83.4</td>\n",
       "      <td>24.5</td>\n",
       "      <td>2370</td>\n",
       "      <td>88.6</td>\n",
       "      <td>88.16</td>\n",
       "      <td>54</td>\n",
       "      <td>109</td>\n",
       "      <td>18</td>\n",
       "      <td>-0.4</td>\n",
       "      <td>6.46</td>\n",
       "      <td>-3.85</td>\n",
       "      <td>3.85</td>\n",
       "    </tr>\n",
       "    <tr>\n",
       "      <th>74</th>\n",
       "      <td>74</td>\n",
       "      <td>163</td>\n",
       "      <td>643511</td>\n",
       "      <td>Rogers, Tyler</td>\n",
       "      <td>1129</td>\n",
       "      <td>14.4</td>\n",
       "      <td>0.145</td>\n",
       "      <td>0.142</td>\n",
       "      <td>161</td>\n",
       "      <td>82.7</td>\n",
       "      <td>8.0</td>\n",
       "      <td>2058</td>\n",
       "      <td>77.1</td>\n",
       "      <td>71.66</td>\n",
       "      <td>33</td>\n",
       "      <td>151</td>\n",
       "      <td>12</td>\n",
       "      <td>-5.4</td>\n",
       "      <td>5.91</td>\n",
       "      <td>-4.00</td>\n",
       "      <td>4.00</td>\n",
       "    </tr>\n",
       "  </tbody>\n",
       "</table>\n",
       "<p>75 rows × 21 columns</p>\n",
       "</div>"
      ],
      "text/plain": [
       "    Unnamed: 0  pitches  player_id    player_name  total_pitches  \\\n",
       "0            0      140     518617  Diekman, Jake           1118   \n",
       "1            1      160     608718   Suter, Brent           1221   \n",
       "2            2      113     621368  Hearn, Taylor           1726   \n",
       "3            3      100     592662    Ray, Robbie           3141   \n",
       "4            4      128     656945  Scott, Tanner           1032   \n",
       "..         ...      ...        ...            ...            ...   \n",
       "70          70      103     571670   Floro, Dylan           1076   \n",
       "71          71      148     518553  Cishek, Steve           1255   \n",
       "72          72      134     643256   Cimber, Adam           1022   \n",
       "73          73      127     623149   Sewald, Paul           1104   \n",
       "74          74      163     643511  Rogers, Tyler           1129   \n",
       "\n",
       "    pitch_percent  xwoba    xba  abs  launch_speed  launch_angle  spin_rate  \\\n",
       "0            12.5  0.137  0.111  140          88.8          16.9       2380   \n",
       "1            13.1  0.127  0.122  159          80.5           5.6       2151   \n",
       "2             6.5  0.149  0.141  113          85.3          17.6       2173   \n",
       "3             3.2  0.105  0.098   99          85.7          19.9       2222   \n",
       "4            12.4  0.142  0.131  125          89.1           5.2       2649   \n",
       "..            ...    ...    ...  ...           ...           ...        ...   \n",
       "70            9.6  0.157  0.139  103          83.4          18.9       2091   \n",
       "71           11.8  0.144  0.125  144          83.6          11.1       2355   \n",
       "72           13.1  0.155  0.143  133          84.6           6.9       2259   \n",
       "73           11.5  0.090  0.076  127          83.4          24.5       2370   \n",
       "74           14.4  0.145  0.142  161          82.7           8.0       2058   \n",
       "\n",
       "    velocity  effective_speed  whiffs  swings  takes  eff_min_vel  \\\n",
       "0       91.6            88.25      55     126     14         -3.4   \n",
       "1       86.6            87.23      37     150     10          0.6   \n",
       "2       92.2            87.84      29     103     10         -4.4   \n",
       "3       91.7            91.90      37      87     13          0.2   \n",
       "4       91.4            91.45      41     112     16          0.0   \n",
       "..       ...              ...     ...     ...    ...          ...   \n",
       "70      90.7            90.46      19      92     11         -0.2   \n",
       "71      86.5            88.29      31     132     16          1.8   \n",
       "72      84.6            82.32      28     130      4         -2.3   \n",
       "73      88.6            88.16      54     109     18         -0.4   \n",
       "74      77.1            71.66      33     151     12         -5.4   \n",
       "\n",
       "    release_extension  horizontal_release_point_ft  \\\n",
       "0                6.36                         3.28   \n",
       "1                7.18                         2.80   \n",
       "2                6.19                         2.65   \n",
       "3                6.43                         2.52   \n",
       "4                6.22                         2.49   \n",
       "..                ...                          ...   \n",
       "70               6.30                        -3.37   \n",
       "71               7.55                        -3.37   \n",
       "72               6.34                        -3.67   \n",
       "73               6.46                        -3.85   \n",
       "74               5.91                        -4.00   \n",
       "\n",
       "    absolute_value_horizontal_release_point  \n",
       "0                                      3.28  \n",
       "1                                      2.80  \n",
       "2                                      2.65  \n",
       "3                                      2.52  \n",
       "4                                      2.49  \n",
       "..                                      ...  \n",
       "70                                     3.37  \n",
       "71                                     3.37  \n",
       "72                                     3.67  \n",
       "73                                     3.85  \n",
       "74                                     4.00  \n",
       "\n",
       "[75 rows x 21 columns]"
      ]
     },
     "execution_count": 13,
     "metadata": {},
     "output_type": "execute_result"
    }
   ],
   "source": [
    "pd.set_option('display.max_columns', None)\n",
    "cleanRP_df = pd.read_csv('../data/Clean_Data_Files/RP_df.csv')\n",
    "cleanRP_df"
   ]
  },
  {
   "cell_type": "markdown",
   "id": "7cfcedb3",
   "metadata": {},
   "source": [
    "## Table of Contents:\n",
    "\n",
    "**Block 1** - Which relief pitchers throw the fastest on average?\n",
    "\n",
    "**Block 2** - How many relief pitchers threw below 80 mph on average? How many relief pitchers threw above 95 mph on average?\n",
    "\n",
    "**Block 3** - What percentage of relief pitchers threw 50 or more whiffs?\n",
    "\n",
    "**Block 4** - Are there more lefty sidearmers or righty sidearmers? (Sidearmers have a horizontal release point of above 2.65 ft or below -2.65 ft).\n",
    "\n",
    "**Block 5** - What is the average launch speed (exit velocity for ball) for each horizontal release point?\n",
    "\n",
    "**Block 6** - What is the relationship between effective speed and launch speed?"
   ]
  },
  {
   "cell_type": "markdown",
   "id": "bf807375",
   "metadata": {},
   "source": [
    "# Block 1"
   ]
  },
  {
   "cell_type": "markdown",
   "id": "fb4de691",
   "metadata": {},
   "source": [
    "### Question: Which relief pitchers throw the fastest on average?\n",
    "\n",
    "### Steps:\n",
    "\n",
    "* Order player names by their pitch velocity \n",
    "* Label the fastest pitchers as the top 5 pitchers of the list\n",
    "* Run that list"
   ]
  },
  {
   "cell_type": "code",
   "execution_count": 41,
   "id": "415bd548",
   "metadata": {},
   "outputs": [
    {
     "data": {
      "text/plain": [
       "player_name\n",
       "Alvarado, José        97.9\n",
       "Familia, Jeurys       95.4\n",
       "Alcantara, Sandy      94.4\n",
       "Cisnero, José         94.2\n",
       "Loáisiga, Jonathan    93.9\n",
       "Name: velocity, dtype: float64"
      ]
     },
     "execution_count": 41,
     "metadata": {},
     "output_type": "execute_result"
    }
   ],
   "source": [
    "# Order dataframe by player name and velocity and sort it from fastest to slowest\n",
    "pitchspeedorder = cleanRP_df.groupby('player_name')['velocity'].mean().sort_values(ascending=False)\n",
    "\n",
    "# Run the top 5 of the list, which will return the 5 fastes pitchers\n",
    "fastestpitchers = pitchspeedorder.head()\n",
    "fastestpitchers"
   ]
  },
  {
   "cell_type": "markdown",
   "id": "c6bbcacf",
   "metadata": {},
   "source": [
    "### ANSWER: \n",
    "\n",
    "The 5 relief pitchers that throw the fastest on average in order from fastest to slowest are José Alvarado, Jeurys Familia, Sandy Alcantara, José Cisnero, and Jonathan Loáisiga, with pitches at 97.9, 95.4, 94.4, 94.2, and 93.9, respectively, miles per hour."
   ]
  },
  {
   "cell_type": "markdown",
   "id": "2894c2b2",
   "metadata": {},
   "source": [
    "### INTERPRETATION/OBSERVATION:\n",
    "\n",
    "Now that I know the 5 fastest, I can look more closely into their other statistics (i.e. effective speed, horizontal release point, etc.) to ascertain what specifically makes them pitch that fast, which will help in later parts of the project analyze the different factors that make the best pitchers."
   ]
  },
  {
   "cell_type": "markdown",
   "id": "fcc2ab09",
   "metadata": {},
   "source": [
    "# Block 2"
   ]
  },
  {
   "cell_type": "markdown",
   "id": "586cd0b6",
   "metadata": {},
   "source": [
    "### Question: How many relief pitchers threw below 80 mph on average? How many relief pitchers threw above 95 mph on average?\n",
    "\n",
    "### Steps:\n",
    "\n",
    "* Create filters where the velocity is under 80mph and over 95mph\n",
    "* Subset the data to run the players within that filter and sort that list by velocity"
   ]
  },
  {
   "cell_type": "code",
   "execution_count": 42,
   "id": "7a93d0d5",
   "metadata": {},
   "outputs": [
    {
     "name": "stdout",
     "output_type": "stream",
     "text": [
      "Pitchers who threw pitches under 80mph\n",
      "--------------------------------------\n",
      "player_name\n",
      "Rogers, Tyler    77.1\n",
      "Romo, Sergio     79.3\n",
      "Name: velocity, dtype: float64\n",
      "\n"
     ]
    }
   ],
   "source": [
    "# Create filter where the velocity is under 80mph\n",
    "under80mph_filter = cleanRP_df['velocity'] < 80\n",
    "\n",
    "# Subset the data to run the players within that filter and sort that list by velocity\n",
    "pitchunder80 = cleanRP_df[under80mph_filter].groupby('player_name')['velocity'].mean().sort_values()\n",
    "\n",
    "# Print list\n",
    "title1='Pitchers who threw pitches under 80mph'\n",
    "print(title1)\n",
    "print('-'*len(title1))\n",
    "print(pitchunder80)\n",
    "print()"
   ]
  },
  {
   "cell_type": "code",
   "execution_count": 43,
   "id": "10cb0efc",
   "metadata": {},
   "outputs": [
    {
     "name": "stdout",
     "output_type": "stream",
     "text": [
      "Pitchers who threw pitches over 95mph\n",
      "-------------------------------------\n",
      "player_name\n",
      "Familia, Jeurys    95.4\n",
      "Alvarado, José     97.9\n",
      "Name: velocity, dtype: float64\n",
      "\n"
     ]
    }
   ],
   "source": [
    "# Create filter where the velocity is over 95mph\n",
    "over95mph_filter = cleanRP_df['velocity'] > 95\n",
    "\n",
    "# Subset the data to run the players within that filter and sort that list by velocity\n",
    "pitchover95 = cleanRP_df[over95mph_filter].groupby('player_name')['velocity'].mean().sort_values()\n",
    "\n",
    "# Print list\n",
    "title1='Pitchers who threw pitches over 95mph'\n",
    "print(title1)\n",
    "print('-'*len(title1))\n",
    "print(pitchover95)\n",
    "print()"
   ]
  },
  {
   "cell_type": "markdown",
   "id": "17382200",
   "metadata": {},
   "source": [
    "### ANSWER: \n",
    "\n",
    "The pitchers who threw pitches under 80mph are Tyler Rogers and Sergio Romo, with pitches at 77.1 and 79.3, respectively, miles per hour. The pitchers who threw pitches over 95mph are Jeurys Familia and José Alvarado, with pitches at 95.4 and 97.9, respectively, miles per hour."
   ]
  },
  {
   "cell_type": "markdown",
   "id": "dea37b64",
   "metadata": {},
   "source": [
    "### INTERPRETATION/OBSERVATION:\n"
   ]
  },
  {
   "cell_type": "markdown",
   "id": "b6384724",
   "metadata": {},
   "source": [
    "Now that I know these extreme outliers on both ends (fastest and slowest), I can look more closely into their other statistics (i.e. effective speed, horizontal release point, etc.) to ascertain what specifically makes them pitch that fast or slow, which will help in later parts of the project analyze the different factors that make the best pitchers."
   ]
  },
  {
   "cell_type": "markdown",
   "id": "348651e5",
   "metadata": {},
   "source": [
    "# Block 3"
   ]
  },
  {
   "cell_type": "markdown",
   "id": "9ed837e2",
   "metadata": {},
   "source": [
    "### Question: What percentage of relief pitchers threw 50 or more whiffs?\n",
    "\n",
    "### Steps:\n",
    "\n",
    "* Create filter where the number of whiffs is at or larger than 50\n",
    "* Subset the data to run the players within that filter and sort that list by number of whiffs\n",
    "* Calculate percent of that number of players out of the total number of players"
   ]
  },
  {
   "cell_type": "code",
   "execution_count": 21,
   "id": "7a31009e",
   "metadata": {},
   "outputs": [
    {
     "data": {
      "text/plain": [
       "player_name\n",
       "Wheeler, Zack         52.0\n",
       "Boxberger, Brad       53.0\n",
       "Jackson, Luke         53.0\n",
       "Kopech, Michael       54.0\n",
       "Sewald, Paul          54.0\n",
       "Diekman, Jake         55.0\n",
       "Stanek, Ryne          56.0\n",
       "Treinen, Blake        57.0\n",
       "Gallegos, Giovanny    58.0\n",
       "May, Trevor           59.0\n",
       "Green, Chad           61.0\n",
       "Mayers, Mike          65.0\n",
       "Name: whiffs, dtype: float64"
      ]
     },
     "execution_count": 21,
     "metadata": {},
     "output_type": "execute_result"
    }
   ],
   "source": [
    "# Create filter where the number of whiffs is at or larger than 50\n",
    "over49_filter = cleanRP_df['whiffs'] >= 50\n",
    "\n",
    "# Subset the data to run the players within that filter and sort that list by number of whiffs\n",
    "over49whiffs = cleanRP_df[over49_filter].groupby('player_name')['whiffs'].mean().sort_values()\n",
    "over49whiffs"
   ]
  },
  {
   "cell_type": "code",
   "execution_count": 48,
   "id": "81ad8d4a",
   "metadata": {},
   "outputs": [
    {
     "data": {
      "text/plain": [
       "16.0"
      ]
     },
     "execution_count": 48,
     "metadata": {},
     "output_type": "execute_result"
    }
   ],
   "source": [
    "# Calculate percent of that number of players out of the total number of players in the dataframe\n",
    "percentwhiffs = ((len(over49whiffs))/(len(cleanRP_df)))*100\n",
    "percentwhiffs"
   ]
  },
  {
   "cell_type": "markdown",
   "id": "074e2b11",
   "metadata": {},
   "source": [
    "### ANSWER: \n",
    "\n",
    "The percentage of players who hit 50 or more whiffs is 16%. "
   ]
  },
  {
   "cell_type": "markdown",
   "id": "5e76a200",
   "metadata": {},
   "source": [
    "### INTERPRETATION/OBSERVATION:\n",
    "\n",
    "Since hitting whiffs is a sign of a pitcher's success, I can look at these players' other statistics  (i.e. effective speed, horizontal release point, etc.) to ascertain what specifically makes them pitch that many whiffs, which will help in later parts of the project analyze the different factors that make the best pitchers."
   ]
  },
  {
   "cell_type": "markdown",
   "id": "8bf0785b",
   "metadata": {},
   "source": [
    "# Block 4"
   ]
  },
  {
   "cell_type": "markdown",
   "id": "3eb8881a",
   "metadata": {},
   "source": [
    "### Question: Are there more lefty sidearmers or righty sidearmers? (Sidearmers have a horizontal release point of above 2.65 ft or below -2.65 ft).\n",
    "\n",
    "### Steps:\n",
    "\n",
    "* Create filters where the horizontal release point is below -2.65 and above 2.65\n",
    "* Subset the data to run the players within that filter and sort that list by horizontal release point"
   ]
  },
  {
   "cell_type": "code",
   "execution_count": 45,
   "id": "7a01cb4f",
   "metadata": {},
   "outputs": [
    {
     "data": {
      "text/plain": [
       "player_name\n",
       "Rogers, Tyler    -4.00\n",
       "Sewald, Paul     -3.85\n",
       "Cimber, Adam     -3.67\n",
       "Cishek, Steve    -3.37\n",
       "Floro, Dylan     -3.37\n",
       "Berríos, José    -3.28\n",
       "Scherzer, Max    -3.28\n",
       "Shaw, Bryan      -3.20\n",
       "Treinen, Blake   -3.07\n",
       "Romo, Sergio     -2.94\n",
       "Duffey, Tyler    -2.76\n",
       "Castro, Miguel   -2.66\n",
       "Name: horizontal_release_point_ft, dtype: float64"
      ]
     },
     "execution_count": 45,
     "metadata": {},
     "output_type": "execute_result"
    }
   ],
   "source": [
    "# Create filter where the horizontal release point is below -2.65\n",
    "lefty_sidearmers_filter = cleanRP_df['horizontal_release_point_ft'] < -2.65\n",
    "\n",
    "# Subset the data to run the players within that filter and sort that list by horizontal release point\n",
    "lefties = cleanRP_df[lefty_sidearmers_filter].groupby('player_name')['horizontal_release_point_ft'].mean().sort_values()\n",
    "lefties"
   ]
  },
  {
   "cell_type": "code",
   "execution_count": 46,
   "id": "38ec038b",
   "metadata": {},
   "outputs": [
    {
     "data": {
      "text/plain": [
       "player_name\n",
       "Suter, Brent     2.80\n",
       "Diekman, Jake    3.28\n",
       "Name: horizontal_release_point_ft, dtype: float64"
      ]
     },
     "execution_count": 46,
     "metadata": {},
     "output_type": "execute_result"
    }
   ],
   "source": [
    "# Create filter where the horizontal release point is above 2.65\n",
    "righty_sidearmers_filter = cleanRP_df['horizontal_release_point_ft'] > 2.65\n",
    "\n",
    "# Subset the data to run the players within that filter and sort that list by horizontal release point\n",
    "righties = cleanRP_df[righty_sidearmers_filter].groupby('player_name')['horizontal_release_point_ft'].mean().sort_values()\n",
    "righties"
   ]
  },
  {
   "cell_type": "markdown",
   "id": "49e33003",
   "metadata": {},
   "source": [
    "### ANSWER: \n",
    "\n",
    "There are 12 lefty sidearmers and 2 righty sidearmers, so there are 10 more lefty sidearmers than righty sidearmers. (The other players in the dataset throw too close to center to be labeled a sidearmer.)"
   ]
  },
  {
   "cell_type": "markdown",
   "id": "b9fb1a7e",
   "metadata": {},
   "source": [
    "### INTERPRETATION/OBSERVATION:\n",
    "\n",
    "Now that I know the 12 pitchers with the most extreme horizontal release points on both ends, I can look more closely into their other statistics (i.e. velocity, effective speed, etc.) to ascertain whether their horizontal release point affects their speed, which will help in later parts of the project analyze the different factors that make the best pitchers."
   ]
  },
  {
   "cell_type": "markdown",
   "id": "22c12038",
   "metadata": {},
   "source": [
    "# Block 5"
   ]
  },
  {
   "cell_type": "markdown",
   "id": "25e4dd16",
   "metadata": {},
   "source": [
    "### Question: What is the average launch speed (exit velocity for ball) for each horizontal release point?\n",
    "\n",
    "### Steps:\n",
    "\n",
    "* Create bins with each horizontal release point\n",
    "* Group the dataframe by bins with respect to launch speed and take the average"
   ]
  },
  {
   "cell_type": "code",
   "execution_count": 50,
   "id": "b92624fc",
   "metadata": {},
   "outputs": [
    {
     "name": "stdout",
     "output_type": "stream",
     "text": [
      "Launch speed in bins by horizontal release point\n"
     ]
    },
    {
     "data": {
      "text/plain": [
       "absolute_value_horizontal_release_point\n",
       "(0, 1]    86.288889\n",
       "(1, 2]    85.093939\n",
       "(2, 3]    85.121739\n",
       "(3, 4]    84.840000\n",
       "Name: launch_speed, dtype: float64"
      ]
     },
     "execution_count": 50,
     "metadata": {},
     "output_type": "execute_result"
    }
   ],
   "source": [
    "# Create bins with each horizontal release point\n",
    "bins = pd.cut(cleanRP_df['absolute_value_horizontal_release_point'], [\n",
    "    0, 1, 2, 3, 4])\n",
    "\n",
    "# Group the dataframe by bins with respect to launch speed and take the average\n",
    "speedbyreleasepoint = cleanRP_df.groupby(bins)['launch_speed'].mean()\n",
    "print('Launch speed in bins by horizontal release point')\n",
    "speedbyreleasepoint"
   ]
  },
  {
   "cell_type": "markdown",
   "id": "a45b4a3a",
   "metadata": {},
   "source": [
    "### ANSWER: \n",
    "\n",
    "When the absolute value of the horizontal release point is between 0 and 1, the average launch speed is 86.29 mph. When the absolute value of the horizontal release point is between 1 and 2, the average launch speed is 85.09 mph. When the absolute value of the horizontal release point is between 2 and 3, the average launch speed is 85.12 mph. When the absolute value of the horizontal release point is between 3 and 4, the average launch speed is 84.84 mph.   "
   ]
  },
  {
   "cell_type": "markdown",
   "id": "4e1b1f55",
   "metadata": {},
   "source": [
    "### INTERPRETATION/OBSERVATION:\n",
    "\n",
    "This analysis indicates that there is a negative relationship between horizontal release point and effective speed: as horizontal release point increases, effective speed decreases. In regular terms, the farther out the pitch is released, the slower the ball will travel."
   ]
  },
  {
   "cell_type": "markdown",
   "id": "cdff1b81",
   "metadata": {},
   "source": [
    "# Block 6"
   ]
  },
  {
   "cell_type": "markdown",
   "id": "90b730db",
   "metadata": {},
   "source": [
    "### Question: What is the relationship between effective speed and launch speed? (expect: more you hit it from side, worse the batter will hit it at)\n",
    "\n",
    "### Steps:\n",
    "\n",
    "* Plot effective speed on x axis and launch speed on y axis and plug in dataframe"
   ]
  },
  {
   "cell_type": "code",
   "execution_count": 39,
   "id": "e7e0b862",
   "metadata": {},
   "outputs": [
    {
     "data": {
      "text/plain": [
       "[Text(0.5, 1.0, 'RP - Effective Speed vs Launch Speed')]"
      ]
     },
     "execution_count": 39,
     "metadata": {},
     "output_type": "execute_result"
    },
    {
     "data": {
      "image/png": "[encoded data removed]",
      "text/plain": [
       "<Figure size 432x288 with 1 Axes>"
      ]
     },
     "metadata": {
      "needs_background": "light"
     },
     "output_type": "display_data"
    }
   ],
   "source": [
    "#Plot effective speed on x axis and launch speed on y axis and plug in dataframe\n",
    "sns.regplot(x=\"effective_speed\", y=\"launch_speed\", ci=None, data = cleanRP_df).set(title = 'RP - Effective Speed vs Launch Speed')"
   ]
  },
  {
   "cell_type": "markdown",
   "id": "125ff94b",
   "metadata": {},
   "source": [
    "### ANSWER: \n",
    "\n",
    "There is a positive relationship between effective speed and launch speed, in which the faster the effective speed, or ability to force the hitter to move the bat a greater distance in less time, the slower the batter's launch speed, which is a batter's exit velocity. "
   ]
  },
  {
   "cell_type": "markdown",
   "id": "64ec8867",
   "metadata": {},
   "source": [
    "### INTERPRETATION/OBSERVATION:\n"
   ]
  },
  {
   "cell_type": "markdown",
   "id": "81e96b1e",
   "metadata": {},
   "source": [
    "The faster the effective speed, (and the slower the batter's launch speed), the better the pitcher. This will help in later parts of the project analyze the different factors that make the best pitchers."
   ]
  }
 ],
 "metadata": {
  "kernelspec": {
   "display_name": "Python 3 (COMM318)",
   "language": "python",
   "name": "python3"
  },
  "language_info": {
   "codemirror_mode": {
    "name": "ipython",
    "version": 3
   },
   "file_extension": ".py",
   "mimetype": "text/x-python",
   "name": "python",
   "nbconvert_exporter": "python",
   "pygments_lexer": "ipython3",
   "version": "3.8.8"
  }
 },
 "nbformat": 4,
 "nbformat_minor": 5
}
